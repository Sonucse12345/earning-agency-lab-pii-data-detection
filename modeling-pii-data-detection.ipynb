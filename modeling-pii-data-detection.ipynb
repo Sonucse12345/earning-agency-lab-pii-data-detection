{
 "cells": [
  {
   "cell_type": "markdown",
   "id": "897436db",
   "metadata": {
    "papermill": {
     "duration": 0.006461,
     "end_time": "2024-01-20T21:31:11.079131",
     "exception": false,
     "start_time": "2024-01-20T21:31:11.072670",
     "status": "completed"
    },
    "tags": []
   },
   "source": [
    "We will be using Presidio: a Microsoft framework for PII detection. Credit to pjmathematician for both the idea and the baseline code: https://www.kaggle.com/code/pjmathematician/pii-eda-presidio-baseline"
   ]
  },
  {
   "cell_type": "markdown",
   "id": "cac3fcdc",
   "metadata": {
    "papermill": {
     "duration": 0.005138,
     "end_time": "2024-01-20T21:31:11.089969",
     "exception": false,
     "start_time": "2024-01-20T21:31:11.084831",
     "status": "completed"
    },
    "tags": []
   },
   "source": [
    "# Downloading and Loading Libraries"
   ]
  },
  {
   "cell_type": "code",
   "execution_count": 1,
   "id": "ec84825b",
   "metadata": {
    "execution": {
     "iopub.execute_input": "2024-01-20T21:31:11.104830Z",
     "iopub.status.busy": "2024-01-20T21:31:11.104156Z",
     "iopub.status.idle": "2024-01-20T21:31:29.160607Z",
     "shell.execute_reply": "2024-01-20T21:31:29.158480Z"
    },
    "papermill": {
     "duration": 18.067776,
     "end_time": "2024-01-20T21:31:29.164095",
     "exception": false,
     "start_time": "2024-01-20T21:31:11.096319",
     "status": "completed"
    },
    "tags": []
   },
   "outputs": [],
   "source": [
    "%%capture\n",
    "!pip install presidio_analyzer --no-index --find-links=file:///kaggle/input/presidio-wheels/presidio"
   ]
  },
  {
   "cell_type": "code",
   "execution_count": 2,
   "id": "6761a994",
   "metadata": {
    "_cell_guid": "b1076dfc-b9ad-4769-8c92-a6c4dae69d19",
    "_uuid": "8f2839f25d086af736a60e9eeb907d3b93b6e0e5",
    "execution": {
     "iopub.execute_input": "2024-01-20T21:31:29.177768Z",
     "iopub.status.busy": "2024-01-20T21:31:29.177222Z",
     "iopub.status.idle": "2024-01-20T21:31:35.907120Z",
     "shell.execute_reply": "2024-01-20T21:31:35.905974Z"
    },
    "papermill": {
     "duration": 6.739843,
     "end_time": "2024-01-20T21:31:35.909800",
     "exception": false,
     "start_time": "2024-01-20T21:31:29.169957",
     "status": "completed"
    },
    "tags": []
   },
   "outputs": [],
   "source": [
    "import json\n",
    "import pandas as pd\n",
    "from tqdm.auto import tqdm\n",
    "from presidio_analyzer import AnalyzerEngine, EntityRecognizer, PatternRecognizer, Pattern, RecognizerResult\n",
    "from presidio_analyzer.context_aware_enhancers import LemmaContextAwareEnhancer\n",
    "from presidio_analyzer.nlp_engine import NlpArtifacts\n",
    "from presidio_analyzer.recognizer_registry import RecognizerRegistry"
   ]
  },
  {
   "cell_type": "markdown",
   "id": "2ff8f76a",
   "metadata": {
    "papermill": {
     "duration": 0.004793,
     "end_time": "2024-01-20T21:31:35.919973",
     "exception": false,
     "start_time": "2024-01-20T21:31:35.915180",
     "status": "completed"
    },
    "tags": []
   },
   "source": [
    "# Loading Data"
   ]
  },
  {
   "cell_type": "code",
   "execution_count": 3,
   "id": "ec2ec1ab",
   "metadata": {
    "execution": {
     "iopub.execute_input": "2024-01-20T21:31:35.932367Z",
     "iopub.status.busy": "2024-01-20T21:31:35.931715Z",
     "iopub.status.idle": "2024-01-20T21:31:37.897745Z",
     "shell.execute_reply": "2024-01-20T21:31:37.895879Z"
    },
    "papermill": {
     "duration": 1.975955,
     "end_time": "2024-01-20T21:31:37.900879",
     "exception": false,
     "start_time": "2024-01-20T21:31:35.924924",
     "status": "completed"
    },
    "tags": []
   },
   "outputs": [],
   "source": [
    "train = json.load(open('/kaggle/input/pii-detection-removal-from-educational-data/train.json'))\n",
    "test = json.load(open('/kaggle/input/pii-detection-removal-from-educational-data/test.json'))"
   ]
  },
  {
   "cell_type": "markdown",
   "id": "b190a754",
   "metadata": {
    "papermill": {
     "duration": 0.004721,
     "end_time": "2024-01-20T21:31:37.911169",
     "exception": false,
     "start_time": "2024-01-20T21:31:37.906448",
     "status": "completed"
    },
    "tags": []
   },
   "source": [
    "# Functions"
   ]
  },
  {
   "cell_type": "code",
   "execution_count": 4,
   "id": "f3b8fc9b",
   "metadata": {
    "execution": {
     "iopub.execute_input": "2024-01-20T21:31:37.923720Z",
     "iopub.status.busy": "2024-01-20T21:31:37.923266Z",
     "iopub.status.idle": "2024-01-20T21:31:37.931215Z",
     "shell.execute_reply": "2024-01-20T21:31:37.929496Z"
    },
    "papermill": {
     "duration": 0.017,
     "end_time": "2024-01-20T21:31:37.933514",
     "exception": false,
     "start_time": "2024-01-20T21:31:37.916514",
     "status": "completed"
    },
    "tags": []
   },
   "outputs": [],
   "source": [
    "#Functions sourced from pjmathematician: https://www.kaggle.com/code/pjmathematician/pii-eda-presidio-baseline\n",
    "\n",
    "def tokens2index(row):\n",
    "    tokens  = row['tokens']\n",
    "    start_ind = []\n",
    "    end_ind = []\n",
    "    prev_ind = 0\n",
    "    for tok in tokens:\n",
    "        start = prev_ind + row['full_text'][prev_ind:].index(tok)\n",
    "        end = start+len(tok)\n",
    "        start_ind.append(start)\n",
    "        end_ind.append(end)\n",
    "        prev_ind = end\n",
    "    return start_ind, end_ind"
   ]
  },
  {
   "cell_type": "code",
   "execution_count": 5,
   "id": "b9ff151e",
   "metadata": {
    "execution": {
     "iopub.execute_input": "2024-01-20T21:31:37.946763Z",
     "iopub.status.busy": "2024-01-20T21:31:37.946276Z",
     "iopub.status.idle": "2024-01-20T21:31:37.953502Z",
     "shell.execute_reply": "2024-01-20T21:31:37.951441Z"
    },
    "papermill": {
     "duration": 0.017553,
     "end_time": "2024-01-20T21:31:37.956584",
     "exception": false,
     "start_time": "2024-01-20T21:31:37.939031",
     "status": "completed"
    },
    "tags": []
   },
   "outputs": [],
   "source": [
    "def find_or_next_larger(arr, target):\n",
    "    left, right = 0, len(arr) - 1\n",
    "\n",
    "    while left <= right:\n",
    "        mid = (left + right) // 2\n",
    "\n",
    "        if arr[mid] == target:\n",
    "            return mid\n",
    "        elif arr[mid] < target:\n",
    "            left = mid + 1\n",
    "        else:\n",
    "            right = mid - 1\n",
    "    return left"
   ]
  },
  {
   "cell_type": "code",
   "execution_count": 6,
   "id": "48ae1e70",
   "metadata": {
    "execution": {
     "iopub.execute_input": "2024-01-20T21:31:37.970215Z",
     "iopub.status.busy": "2024-01-20T21:31:37.969801Z",
     "iopub.status.idle": "2024-01-20T21:31:37.977174Z",
     "shell.execute_reply": "2024-01-20T21:31:37.974938Z"
    },
    "papermill": {
     "duration": 0.017924,
     "end_time": "2024-01-20T21:31:37.980315",
     "exception": false,
     "start_time": "2024-01-20T21:31:37.962391",
     "status": "completed"
    },
    "tags": []
   },
   "outputs": [],
   "source": [
    "def count_trailing_whitespaces(word):\n",
    "    return len(word) - len(word.rstrip())"
   ]
  },
  {
   "cell_type": "markdown",
   "id": "092e7278",
   "metadata": {
    "papermill": {
     "duration": 0.00495,
     "end_time": "2024-01-20T21:31:37.990825",
     "exception": false,
     "start_time": "2024-01-20T21:31:37.985875",
     "status": "completed"
    },
    "tags": []
   },
   "source": [
    "# Modeling"
   ]
  },
  {
   "cell_type": "code",
   "execution_count": 7,
   "id": "9c2d61f9",
   "metadata": {
    "execution": {
     "iopub.execute_input": "2024-01-20T21:31:38.002965Z",
     "iopub.status.busy": "2024-01-20T21:31:38.002562Z",
     "iopub.status.idle": "2024-01-20T21:31:38.010933Z",
     "shell.execute_reply": "2024-01-20T21:31:38.009332Z"
    },
    "papermill": {
     "duration": 0.017275,
     "end_time": "2024-01-20T21:31:38.013032",
     "exception": false,
     "start_time": "2024-01-20T21:31:37.995757",
     "status": "completed"
    },
    "tags": []
   },
   "outputs": [],
   "source": [
    "#Credit to leonshangguan for the Pattern Recognizers: \n",
    "\n",
    "address_regex = r'\\b\\d+\\s+\\w+(\\s+\\w+)*\\s+((st(\\.)?)|(ave(\\.)?)|(rd(\\.)?)|(blvd(\\.)?)|(ln(\\.)?)|(ct(\\.)?)|(dr(\\.)?))\\b'\n",
    "address_pattern = Pattern(name=\"address\", regex=address_regex, score=0.5)\n",
    "address_recognizer = PatternRecognizer(supported_entity=\"ADDRESS_CUSTOM\", patterns = [address_pattern], context=[\"st\", \"Apt\"])\n",
    "\n",
    "email_regex = r'\\b[A-Za-z0-9._%+-]+@[A-Za-z0-9.-]+\\.[A-Z|a-z]{2,}\\b'\n",
    "email_pattern = Pattern(name=\"email address\", regex=email_regex, score=0.5)\n",
    "email_recognizer = PatternRecognizer(supported_entity=\"EMAIL_CUSTOM\", patterns = [email_pattern])\n",
    "\n",
    "url_regex = r'https?://\\S+|www\\.\\S+'\n",
    "url_pattern = Pattern(name=\"url\", regex=url_regex, score=0.5)\n",
    "url_recognizer = PatternRecognizer(supported_entity=\"URL_CUSTOM\", patterns = [url_pattern])"
   ]
  },
  {
   "cell_type": "code",
   "execution_count": 8,
   "id": "c72be565",
   "metadata": {
    "execution": {
     "iopub.execute_input": "2024-01-20T21:31:38.027366Z",
     "iopub.status.busy": "2024-01-20T21:31:38.026907Z",
     "iopub.status.idle": "2024-01-20T21:31:38.035702Z",
     "shell.execute_reply": "2024-01-20T21:31:38.034346Z"
    },
    "papermill": {
     "duration": 0.018493,
     "end_time": "2024-01-20T21:31:38.037945",
     "exception": false,
     "start_time": "2024-01-20T21:31:38.019452",
     "status": "completed"
    },
    "tags": []
   },
   "outputs": [],
   "source": [
    "#Credit to Microsoft for the Numbers Recognizer, which can identify numbers within words like \"Fifty\":\n",
    "#https://microsoft.github.io/presidio/tutorial/03_rule_based/\n",
    "\n",
    "class NumbersRecognizer(EntityRecognizer):\n",
    "\n",
    "    expected_confidence_level = 0.7  # expected confidence level for this recognizer\n",
    "\n",
    "    def load(self) -> None:\n",
    "        \"\"\"No loading is required.\"\"\"\n",
    "        pass\n",
    "\n",
    "    def analyze(self, text: str, entities: list[str], nlp_artifacts: NlpArtifacts) -> list[RecognizerResult]:\n",
    "        \"\"\"\n",
    "        Analyzes test to find tokens which represent numbers (either 123 or One Two Three).\n",
    "        \"\"\"\n",
    "        results = []\n",
    "\n",
    "        # iterate over the spaCy tokens, and call `token.like_num`\n",
    "        for token in nlp_artifacts.tokens:\n",
    "            if token.like_num:\n",
    "                result = RecognizerResult(\n",
    "                    entity_type=\"NUMBER\",\n",
    "                    start=token.idx,\n",
    "                    end=token.idx + len(token),\n",
    "                    score=self.expected_confidence_level,\n",
    "                )\n",
    "                results.append(result)\n",
    "        return results\n",
    "\n",
    "new_numbers_recognizer = NumbersRecognizer(supported_entities=[\"NUMBER\"])"
   ]
  },
  {
   "cell_type": "code",
   "execution_count": 9,
   "id": "71b33c89",
   "metadata": {
    "execution": {
     "iopub.execute_input": "2024-01-20T21:31:38.051382Z",
     "iopub.status.busy": "2024-01-20T21:31:38.050859Z",
     "iopub.status.idle": "2024-01-20T21:31:38.059069Z",
     "shell.execute_reply": "2024-01-20T21:31:38.057581Z"
    },
    "papermill": {
     "duration": 0.017414,
     "end_time": "2024-01-20T21:31:38.061234",
     "exception": false,
     "start_time": "2024-01-20T21:31:38.043820",
     "status": "completed"
    },
    "tags": []
   },
   "outputs": [],
   "source": [
    "registry = RecognizerRegistry()\n",
    "registry.load_predefined_recognizers()\n",
    "registry.add_recognizer(address_recognizer)\n",
    "registry.add_recognizer(email_recognizer)\n",
    "registry.add_recognizer(url_recognizer)\n",
    "registry.add_recognizer(new_numbers_recognizer)"
   ]
  },
  {
   "cell_type": "code",
   "execution_count": 10,
   "id": "18b79cff",
   "metadata": {
    "execution": {
     "iopub.execute_input": "2024-01-20T21:31:38.074296Z",
     "iopub.status.busy": "2024-01-20T21:31:38.073778Z",
     "iopub.status.idle": "2024-01-20T21:31:42.344706Z",
     "shell.execute_reply": "2024-01-20T21:31:42.342172Z"
    },
    "papermill": {
     "duration": 4.281817,
     "end_time": "2024-01-20T21:31:42.348540",
     "exception": false,
     "start_time": "2024-01-20T21:31:38.066723",
     "status": "completed"
    },
    "tags": []
   },
   "outputs": [],
   "source": [
    "analyzer = AnalyzerEngine(supported_languages=['en'],\n",
    "                          registry=registry,\n",
    "                          context_aware_enhancer=LemmaContextAwareEnhancer(\n",
    "                              context_similarity_factor=0.8,\n",
    "                              min_score_with_context_similarity=0.4\n",
    "                          ))"
   ]
  },
  {
   "cell_type": "markdown",
   "id": "f4f05b57",
   "metadata": {
    "papermill": {
     "duration": 0.005845,
     "end_time": "2024-01-20T21:31:42.360151",
     "exception": false,
     "start_time": "2024-01-20T21:31:42.354306",
     "status": "completed"
    },
    "tags": []
   },
   "source": [
    "## Training"
   ]
  },
  {
   "cell_type": "code",
   "execution_count": 11,
   "id": "c21fe2a2",
   "metadata": {
    "execution": {
     "iopub.execute_input": "2024-01-20T21:31:42.372967Z",
     "iopub.status.busy": "2024-01-20T21:31:42.372456Z",
     "iopub.status.idle": "2024-01-20T21:31:48.785639Z",
     "shell.execute_reply": "2024-01-20T21:31:48.783840Z"
    },
    "papermill": {
     "duration": 6.423506,
     "end_time": "2024-01-20T21:31:48.789055",
     "exception": false,
     "start_time": "2024-01-20T21:31:42.365549",
     "status": "completed"
    },
    "tags": []
   },
   "outputs": [
    {
     "data": {
      "application/vnd.jupyter.widget-view+json": {
       "model_id": "651400d6fa8f4057893e643f46679867",
       "version_major": 2,
       "version_minor": 0
      },
      "text/plain": [
       "  0%|          | 0/6807 [00:00<?, ?it/s]"
      ]
     },
     "metadata": {},
     "output_type": "display_data"
    },
    {
     "data": {
      "application/vnd.jupyter.widget-view+json": {
       "model_id": "8e9dc7ac5c01424fb3c6ab0d5f8effe0",
       "version_major": 2,
       "version_minor": 0
      },
      "text/plain": [
       "  0%|          | 0/10 [00:00<?, ?it/s]"
      ]
     },
     "metadata": {},
     "output_type": "display_data"
    },
    {
     "name": "stdout",
     "output_type": "stream",
     "text": [
      "[9, 10] PERSON Nathalie Sylla\n",
      "\n",
      " 0.85\n",
      "[52, 53] PERSON Buzan T. 0.85\n",
      "[55, 56] PERSON Buzan B. 0.85\n",
      "[60, 61, 62, 63, 64] PERSON Dessine-moi  l'intelligence 0.85\n",
      "[482, 483] PERSON Nathalie Sylla 0.85\n",
      "[741, 742] PERSON Nathalie Sylla 0.85\n"
     ]
    }
   ],
   "source": [
    "preds = []\n",
    "\n",
    "for i in tqdm(range(len(train))):\n",
    "    start, end = tokens2index(train[i])\n",
    "    train[i]['start'] = start\n",
    "    train[i]['end'] = end\n",
    "\n",
    "for i, d in enumerate(tqdm(train[:10])):\n",
    "    results = analyzer.analyze(text=d['full_text'],\n",
    "                           entities=[\"PHONE_NUMBER\", \"PERSON\", \"URL\", \"EMAIL_ADDRESS\"],\n",
    "                           language='en')\n",
    "    pre_preds = []\n",
    "    for r in results:\n",
    "        s = find_or_next_larger(d['start'], r.start)\n",
    "        end = r.end\n",
    "        word = d['full_text'][r.start:r.end]\n",
    "        end = end - count_trailing_whitespaces(word)\n",
    "        temp_preds = [s]\n",
    "        try:\n",
    "            while d['end'][s+1] <= end:\n",
    "                temp_preds.append(s+1)\n",
    "                s +=1\n",
    "        except:\n",
    "            pass\n",
    "        if i==0:\n",
    "            print(temp_preds, r.entity_type, word,r.score)\n",
    "        \n",
    "        if r.entity_type == 'PHONE_NUMBER':\n",
    "            label =  'PHONE_NUM'\n",
    "        if r.entity_type == 'PERSON':\n",
    "            label =  'NAME_STUDENT'\n",
    "        if r.entity_type == 'URL':\n",
    "            label = 'URL_PERSONAL'\n",
    "        if r.entity_type == 'EMAIL_ADDRESS':\n",
    "            label = \"EMAIL\"\n",
    "        for p in temp_preds:\n",
    "            if len(pre_preds) > 0:\n",
    "                if pre_preds[-1]['rlabel'] == r.entity_type and ((p - pre_preds[-1]['token'])==1):\n",
    "                    label_f = \"I-\"+label\n",
    "                else:\n",
    "                    label_f = \"B-\"+label\n",
    "            else:\n",
    "                label_f = \"B-\"+label\n",
    "            pre_preds.append(({\n",
    "#                     \"row_id\":i,\n",
    "                    \"document\":d['document'],\n",
    "                    \"token\":p,\n",
    "                    \"label\":label_f,\n",
    "                    \"rlabel\":r.entity_type\n",
    "                }))\n",
    "    preds.extend(pre_preds)"
   ]
  },
  {
   "cell_type": "markdown",
   "id": "58865f66",
   "metadata": {
    "papermill": {
     "duration": 0.006182,
     "end_time": "2024-01-20T21:31:48.801943",
     "exception": false,
     "start_time": "2024-01-20T21:31:48.795761",
     "status": "completed"
    },
    "tags": []
   },
   "source": [
    "## Testing"
   ]
  },
  {
   "cell_type": "code",
   "execution_count": 12,
   "id": "25127142",
   "metadata": {
    "execution": {
     "iopub.execute_input": "2024-01-20T21:31:48.816556Z",
     "iopub.status.busy": "2024-01-20T21:31:48.816007Z",
     "iopub.status.idle": "2024-01-20T21:31:48.822563Z",
     "shell.execute_reply": "2024-01-20T21:31:48.820861Z"
    },
    "papermill": {
     "duration": 0.016648,
     "end_time": "2024-01-20T21:31:48.824702",
     "exception": false,
     "start_time": "2024-01-20T21:31:48.808054",
     "status": "completed"
    },
    "tags": []
   },
   "outputs": [],
   "source": [
    "preds = []"
   ]
  },
  {
   "cell_type": "code",
   "execution_count": 13,
   "id": "66d8f6b5",
   "metadata": {
    "execution": {
     "iopub.execute_input": "2024-01-20T21:31:48.837942Z",
     "iopub.status.busy": "2024-01-20T21:31:48.837515Z",
     "iopub.status.idle": "2024-01-20T21:31:48.870528Z",
     "shell.execute_reply": "2024-01-20T21:31:48.868901Z"
    },
    "papermill": {
     "duration": 0.043829,
     "end_time": "2024-01-20T21:31:48.874241",
     "exception": false,
     "start_time": "2024-01-20T21:31:48.830412",
     "status": "completed"
    },
    "tags": []
   },
   "outputs": [
    {
     "data": {
      "application/vnd.jupyter.widget-view+json": {
       "model_id": "e22232880f6c4cc0a468da0309a83504",
       "version_major": 2,
       "version_minor": 0
      },
      "text/plain": [
       "  0%|          | 0/10 [00:00<?, ?it/s]"
      ]
     },
     "metadata": {},
     "output_type": "display_data"
    }
   ],
   "source": [
    "for i in tqdm(range(len(test))):\n",
    "    start, end = tokens2index(test[i])\n",
    "    test[i]['start'] = start\n",
    "    test[i]['end'] = end"
   ]
  },
  {
   "cell_type": "code",
   "execution_count": 14,
   "id": "d920cc25",
   "metadata": {
    "execution": {
     "iopub.execute_input": "2024-01-20T21:31:48.890517Z",
     "iopub.status.busy": "2024-01-20T21:31:48.888491Z",
     "iopub.status.idle": "2024-01-20T21:31:50.057226Z",
     "shell.execute_reply": "2024-01-20T21:31:50.055386Z"
    },
    "papermill": {
     "duration": 1.178673,
     "end_time": "2024-01-20T21:31:50.059331",
     "exception": false,
     "start_time": "2024-01-20T21:31:48.880658",
     "status": "completed"
    },
    "tags": []
   },
   "outputs": [
    {
     "data": {
      "application/vnd.jupyter.widget-view+json": {
       "model_id": "d893b2ceb123470f846d6cba0b8aa3e1",
       "version_major": 2,
       "version_minor": 0
      },
      "text/plain": [
       "  0%|          | 0/10 [00:00<?, ?it/s]"
      ]
     },
     "metadata": {},
     "output_type": "display_data"
    }
   ],
   "source": [
    "for i, d in enumerate(tqdm(test)):\n",
    "    results = analyzer.analyze(text=d['full_text'],\n",
    "                           entities=[\"PHONE_NUMBER\", \"PERSON\", \"URL\", \"EMAIL_ADDRESS\"],\n",
    "                           language='en')\n",
    "    pre_preds = []\n",
    "    for r in results:\n",
    "        s = find_or_next_larger(d['start'], r.start)\n",
    "        end = r.end\n",
    "        word = d['full_text'][r.start:r.end]\n",
    "        end = end - count_trailing_whitespaces(word)\n",
    "        temp_preds = [s]\n",
    "        try:\n",
    "            while d['end'][s+1] <= end:\n",
    "                temp_preds.append(s+1)\n",
    "                s +=1\n",
    "        except:\n",
    "            pass\n",
    "        \n",
    "        if r.entity_type == 'PHONE_NUMBER':\n",
    "            label =  'PHONE_NUM'\n",
    "        if r.entity_type == 'PERSON':\n",
    "            label =  'NAME_STUDENT'\n",
    "        if r.entity_type == 'URL':\n",
    "            label = 'URL_PERSONAL'\n",
    "        if r.entity_type == 'EMAIL_ADDRESS':\n",
    "            label = \"EMAIL\"\n",
    "        for p in temp_preds:\n",
    "            if len(pre_preds) > 0:\n",
    "                if pre_preds[-1]['rlabel'] == r.entity_type and ((p - pre_preds[-1]['token'])==1):\n",
    "                    label_f = \"I-\"+label\n",
    "                else:\n",
    "                    label_f = \"B-\"+label\n",
    "            else:\n",
    "                label_f = \"B-\"+label\n",
    "            pre_preds.append(({\n",
    "#                     \"row_id\":i,\n",
    "                    \"document\":d['document'],\n",
    "                    \"token\":p,\n",
    "                    \"label\":label_f,\n",
    "                    \"rlabel\":r.entity_type\n",
    "                }))\n",
    "    preds.extend(pre_preds)"
   ]
  },
  {
   "cell_type": "markdown",
   "id": "3753ef17",
   "metadata": {
    "papermill": {
     "duration": 0.005548,
     "end_time": "2024-01-20T21:31:50.071176",
     "exception": false,
     "start_time": "2024-01-20T21:31:50.065628",
     "status": "completed"
    },
    "tags": []
   },
   "source": [
    "# Submission"
   ]
  },
  {
   "cell_type": "code",
   "execution_count": 15,
   "id": "57104bbd",
   "metadata": {
    "execution": {
     "iopub.execute_input": "2024-01-20T21:31:50.085134Z",
     "iopub.status.busy": "2024-01-20T21:31:50.084633Z",
     "iopub.status.idle": "2024-01-20T21:31:50.132555Z",
     "shell.execute_reply": "2024-01-20T21:31:50.130087Z"
    },
    "papermill": {
     "duration": 0.058973,
     "end_time": "2024-01-20T21:31:50.135695",
     "exception": false,
     "start_time": "2024-01-20T21:31:50.076722",
     "status": "completed"
    },
    "tags": []
   },
   "outputs": [
    {
     "data": {
      "text/html": [
       "<div>\n",
       "<style scoped>\n",
       "    .dataframe tbody tr th:only-of-type {\n",
       "        vertical-align: middle;\n",
       "    }\n",
       "\n",
       "    .dataframe tbody tr th {\n",
       "        vertical-align: top;\n",
       "    }\n",
       "\n",
       "    .dataframe thead th {\n",
       "        text-align: right;\n",
       "    }\n",
       "</style>\n",
       "<table border=\"1\" class=\"dataframe\">\n",
       "  <thead>\n",
       "    <tr style=\"text-align: right;\">\n",
       "      <th></th>\n",
       "      <th>row_id</th>\n",
       "      <th>document</th>\n",
       "      <th>token</th>\n",
       "      <th>label</th>\n",
       "    </tr>\n",
       "  </thead>\n",
       "  <tbody>\n",
       "    <tr>\n",
       "      <th>0</th>\n",
       "      <td>0</td>\n",
       "      <td>7</td>\n",
       "      <td>9</td>\n",
       "      <td>B-NAME_STUDENT</td>\n",
       "    </tr>\n",
       "    <tr>\n",
       "      <th>1</th>\n",
       "      <td>1</td>\n",
       "      <td>7</td>\n",
       "      <td>10</td>\n",
       "      <td>I-NAME_STUDENT</td>\n",
       "    </tr>\n",
       "    <tr>\n",
       "      <th>2</th>\n",
       "      <td>2</td>\n",
       "      <td>7</td>\n",
       "      <td>52</td>\n",
       "      <td>B-NAME_STUDENT</td>\n",
       "    </tr>\n",
       "    <tr>\n",
       "      <th>3</th>\n",
       "      <td>3</td>\n",
       "      <td>7</td>\n",
       "      <td>53</td>\n",
       "      <td>I-NAME_STUDENT</td>\n",
       "    </tr>\n",
       "    <tr>\n",
       "      <th>4</th>\n",
       "      <td>4</td>\n",
       "      <td>7</td>\n",
       "      <td>55</td>\n",
       "      <td>B-NAME_STUDENT</td>\n",
       "    </tr>\n",
       "    <tr>\n",
       "      <th>...</th>\n",
       "      <td>...</td>\n",
       "      <td>...</td>\n",
       "      <td>...</td>\n",
       "      <td>...</td>\n",
       "    </tr>\n",
       "    <tr>\n",
       "      <th>97</th>\n",
       "      <td>97</td>\n",
       "      <td>123</td>\n",
       "      <td>1591</td>\n",
       "      <td>B-URL_PERSONAL</td>\n",
       "    </tr>\n",
       "    <tr>\n",
       "      <th>98</th>\n",
       "      <td>98</td>\n",
       "      <td>123</td>\n",
       "      <td>1648</td>\n",
       "      <td>B-URL_PERSONAL</td>\n",
       "    </tr>\n",
       "    <tr>\n",
       "      <th>99</th>\n",
       "      <td>99</td>\n",
       "      <td>123</td>\n",
       "      <td>1690</td>\n",
       "      <td>B-URL_PERSONAL</td>\n",
       "    </tr>\n",
       "    <tr>\n",
       "      <th>100</th>\n",
       "      <td>100</td>\n",
       "      <td>123</td>\n",
       "      <td>1550</td>\n",
       "      <td>B-URL_PERSONAL</td>\n",
       "    </tr>\n",
       "    <tr>\n",
       "      <th>101</th>\n",
       "      <td>101</td>\n",
       "      <td>123</td>\n",
       "      <td>1691</td>\n",
       "      <td>B-URL_PERSONAL</td>\n",
       "    </tr>\n",
       "  </tbody>\n",
       "</table>\n",
       "<p>102 rows × 4 columns</p>\n",
       "</div>"
      ],
      "text/plain": [
       "     row_id  document  token           label\n",
       "0         0         7      9  B-NAME_STUDENT\n",
       "1         1         7     10  I-NAME_STUDENT\n",
       "2         2         7     52  B-NAME_STUDENT\n",
       "3         3         7     53  I-NAME_STUDENT\n",
       "4         4         7     55  B-NAME_STUDENT\n",
       "..      ...       ...    ...             ...\n",
       "97       97       123   1591  B-URL_PERSONAL\n",
       "98       98       123   1648  B-URL_PERSONAL\n",
       "99       99       123   1690  B-URL_PERSONAL\n",
       "100     100       123   1550  B-URL_PERSONAL\n",
       "101     101       123   1691  B-URL_PERSONAL\n",
       "\n",
       "[102 rows x 4 columns]"
      ]
     },
     "execution_count": 15,
     "metadata": {},
     "output_type": "execute_result"
    }
   ],
   "source": [
    "submission = pd.DataFrame(preds).iloc[:,:-1].reset_index()\n",
    "submission.columns = ['row_id','document', 'token', 'label']\n",
    "submission"
   ]
  },
  {
   "cell_type": "code",
   "execution_count": 16,
   "id": "a8c86858",
   "metadata": {
    "execution": {
     "iopub.execute_input": "2024-01-20T21:31:50.153294Z",
     "iopub.status.busy": "2024-01-20T21:31:50.151371Z",
     "iopub.status.idle": "2024-01-20T21:31:50.167642Z",
     "shell.execute_reply": "2024-01-20T21:31:50.165570Z"
    },
    "papermill": {
     "duration": 0.02876,
     "end_time": "2024-01-20T21:31:50.171271",
     "exception": false,
     "start_time": "2024-01-20T21:31:50.142511",
     "status": "completed"
    },
    "tags": []
   },
   "outputs": [],
   "source": [
    "submission.to_csv('submission.csv', index = False)"
   ]
  }
 ],
 "metadata": {
  "kaggle": {
   "accelerator": "none",
   "dataSources": [
    {
     "databundleVersionId": 7500999,
     "sourceId": 66653,
     "sourceType": "competition"
    },
    {
     "sourceId": 159367535,
     "sourceType": "kernelVersion"
    }
   ],
   "dockerImageVersionId": 30635,
   "isGpuEnabled": false,
   "isInternetEnabled": false,
   "language": "python",
   "sourceType": "notebook"
  },
  "kernelspec": {
   "display_name": "Python 3",
   "language": "python",
   "name": "python3"
  },
  "language_info": {
   "codemirror_mode": {
    "name": "ipython",
    "version": 3
   },
   "file_extension": ".py",
   "mimetype": "text/x-python",
   "name": "python",
   "nbconvert_exporter": "python",
   "pygments_lexer": "ipython3",
   "version": "3.10.12"
  },
  "papermill": {
   "default_parameters": {},
   "duration": 44.066559,
   "end_time": "2024-01-20T21:31:52.010595",
   "environment_variables": {},
   "exception": null,
   "input_path": "__notebook__.ipynb",
   "output_path": "__notebook__.ipynb",
   "parameters": {},
   "start_time": "2024-01-20T21:31:07.944036",
   "version": "2.4.0"
  },
  "widgets": {
   "application/vnd.jupyter.widget-state+json": {
    "state": {
     "0bf211e39cb94d13b72d2349da6c3bfd": {
      "model_module": "@jupyter-widgets/controls",
      "model_module_version": "1.5.0",
      "model_name": "HTMLModel",
      "state": {
       "_dom_classes": [],
       "_model_module": "@jupyter-widgets/controls",
       "_model_module_version": "1.5.0",
       "_model_name": "HTMLModel",
       "_view_count": null,
       "_view_module": "@jupyter-widgets/controls",
       "_view_module_version": "1.5.0",
       "_view_name": "HTMLView",
       "description": "",
       "description_tooltip": null,
       "layout": "IPY_MODEL_29ad63cfd493489f8d859eadcdb6b657",
       "placeholder": "​",
       "style": "IPY_MODEL_bf2434f16c744d54aea813592a1056a9",
       "value": " 6807/6807 [00:04&lt;00:00, 1584.19it/s]"
      }
     },
     "0fd446ef86364202b97cd00693287b4f": {
      "model_module": "@jupyter-widgets/controls",
      "model_module_version": "1.5.0",
      "model_name": "ProgressStyleModel",
      "state": {
       "_model_module": "@jupyter-widgets/controls",
       "_model_module_version": "1.5.0",
       "_model_name": "ProgressStyleModel",
       "_view_count": null,
       "_view_module": "@jupyter-widgets/base",
       "_view_module_version": "1.2.0",
       "_view_name": "StyleView",
       "bar_color": null,
       "description_width": ""
      }
     },
     "131ddebae5e6483392142bfbdaceb973": {
      "model_module": "@jupyter-widgets/base",
      "model_module_version": "1.2.0",
      "model_name": "LayoutModel",
      "state": {
       "_model_module": "@jupyter-widgets/base",
       "_model_module_version": "1.2.0",
       "_model_name": "LayoutModel",
       "_view_count": null,
       "_view_module": "@jupyter-widgets/base",
       "_view_module_version": "1.2.0",
       "_view_name": "LayoutView",
       "align_content": null,
       "align_items": null,
       "align_self": null,
       "border": null,
       "bottom": null,
       "display": null,
       "flex": null,
       "flex_flow": null,
       "grid_area": null,
       "grid_auto_columns": null,
       "grid_auto_flow": null,
       "grid_auto_rows": null,
       "grid_column": null,
       "grid_gap": null,
       "grid_row": null,
       "grid_template_areas": null,
       "grid_template_columns": null,
       "grid_template_rows": null,
       "height": null,
       "justify_content": null,
       "justify_items": null,
       "left": null,
       "margin": null,
       "max_height": null,
       "max_width": null,
       "min_height": null,
       "min_width": null,
       "object_fit": null,
       "object_position": null,
       "order": null,
       "overflow": null,
       "overflow_x": null,
       "overflow_y": null,
       "padding": null,
       "right": null,
       "top": null,
       "visibility": null,
       "width": null
      }
     },
     "176f8d321bbe4503b2928fe968ba58d4": {
      "model_module": "@jupyter-widgets/controls",
      "model_module_version": "1.5.0",
      "model_name": "ProgressStyleModel",
      "state": {
       "_model_module": "@jupyter-widgets/controls",
       "_model_module_version": "1.5.0",
       "_model_name": "ProgressStyleModel",
       "_view_count": null,
       "_view_module": "@jupyter-widgets/base",
       "_view_module_version": "1.2.0",
       "_view_name": "StyleView",
       "bar_color": null,
       "description_width": ""
      }
     },
     "25404aea1caf4e08bb2080d68cd519da": {
      "model_module": "@jupyter-widgets/controls",
      "model_module_version": "1.5.0",
      "model_name": "HTMLModel",
      "state": {
       "_dom_classes": [],
       "_model_module": "@jupyter-widgets/controls",
       "_model_module_version": "1.5.0",
       "_model_name": "HTMLModel",
       "_view_count": null,
       "_view_module": "@jupyter-widgets/controls",
       "_view_module_version": "1.5.0",
       "_view_name": "HTMLView",
       "description": "",
       "description_tooltip": null,
       "layout": "IPY_MODEL_6dc871d9d906410abe304a9d6e6e9b0d",
       "placeholder": "​",
       "style": "IPY_MODEL_d734954889cd43208e01d25679fec325",
       "value": "100%"
      }
     },
     "264307d506144239b7f9cf6260792645": {
      "model_module": "@jupyter-widgets/base",
      "model_module_version": "1.2.0",
      "model_name": "LayoutModel",
      "state": {
       "_model_module": "@jupyter-widgets/base",
       "_model_module_version": "1.2.0",
       "_model_name": "LayoutModel",
       "_view_count": null,
       "_view_module": "@jupyter-widgets/base",
       "_view_module_version": "1.2.0",
       "_view_name": "LayoutView",
       "align_content": null,
       "align_items": null,
       "align_self": null,
       "border": null,
       "bottom": null,
       "display": null,
       "flex": null,
       "flex_flow": null,
       "grid_area": null,
       "grid_auto_columns": null,
       "grid_auto_flow": null,
       "grid_auto_rows": null,
       "grid_column": null,
       "grid_gap": null,
       "grid_row": null,
       "grid_template_areas": null,
       "grid_template_columns": null,
       "grid_template_rows": null,
       "height": null,
       "justify_content": null,
       "justify_items": null,
       "left": null,
       "margin": null,
       "max_height": null,
       "max_width": null,
       "min_height": null,
       "min_width": null,
       "object_fit": null,
       "object_position": null,
       "order": null,
       "overflow": null,
       "overflow_x": null,
       "overflow_y": null,
       "padding": null,
       "right": null,
       "top": null,
       "visibility": null,
       "width": null
      }
     },
     "27bc03356ec149598904c12e665a66a1": {
      "model_module": "@jupyter-widgets/base",
      "model_module_version": "1.2.0",
      "model_name": "LayoutModel",
      "state": {
       "_model_module": "@jupyter-widgets/base",
       "_model_module_version": "1.2.0",
       "_model_name": "LayoutModel",
       "_view_count": null,
       "_view_module": "@jupyter-widgets/base",
       "_view_module_version": "1.2.0",
       "_view_name": "LayoutView",
       "align_content": null,
       "align_items": null,
       "align_self": null,
       "border": null,
       "bottom": null,
       "display": null,
       "flex": null,
       "flex_flow": null,
       "grid_area": null,
       "grid_auto_columns": null,
       "grid_auto_flow": null,
       "grid_auto_rows": null,
       "grid_column": null,
       "grid_gap": null,
       "grid_row": null,
       "grid_template_areas": null,
       "grid_template_columns": null,
       "grid_template_rows": null,
       "height": null,
       "justify_content": null,
       "justify_items": null,
       "left": null,
       "margin": null,
       "max_height": null,
       "max_width": null,
       "min_height": null,
       "min_width": null,
       "object_fit": null,
       "object_position": null,
       "order": null,
       "overflow": null,
       "overflow_x": null,
       "overflow_y": null,
       "padding": null,
       "right": null,
       "top": null,
       "visibility": null,
       "width": null
      }
     },
     "29ad63cfd493489f8d859eadcdb6b657": {
      "model_module": "@jupyter-widgets/base",
      "model_module_version": "1.2.0",
      "model_name": "LayoutModel",
      "state": {
       "_model_module": "@jupyter-widgets/base",
       "_model_module_version": "1.2.0",
       "_model_name": "LayoutModel",
       "_view_count": null,
       "_view_module": "@jupyter-widgets/base",
       "_view_module_version": "1.2.0",
       "_view_name": "LayoutView",
       "align_content": null,
       "align_items": null,
       "align_self": null,
       "border": null,
       "bottom": null,
       "display": null,
       "flex": null,
       "flex_flow": null,
       "grid_area": null,
       "grid_auto_columns": null,
       "grid_auto_flow": null,
       "grid_auto_rows": null,
       "grid_column": null,
       "grid_gap": null,
       "grid_row": null,
       "grid_template_areas": null,
       "grid_template_columns": null,
       "grid_template_rows": null,
       "height": null,
       "justify_content": null,
       "justify_items": null,
       "left": null,
       "margin": null,
       "max_height": null,
       "max_width": null,
       "min_height": null,
       "min_width": null,
       "object_fit": null,
       "object_position": null,
       "order": null,
       "overflow": null,
       "overflow_x": null,
       "overflow_y": null,
       "padding": null,
       "right": null,
       "top": null,
       "visibility": null,
       "width": null
      }
     },
     "2e2dac03344d4318a42753b5be6bd865": {
      "model_module": "@jupyter-widgets/controls",
      "model_module_version": "1.5.0",
      "model_name": "HTMLModel",
      "state": {
       "_dom_classes": [],
       "_model_module": "@jupyter-widgets/controls",
       "_model_module_version": "1.5.0",
       "_model_name": "HTMLModel",
       "_view_count": null,
       "_view_module": "@jupyter-widgets/controls",
       "_view_module_version": "1.5.0",
       "_view_name": "HTMLView",
       "description": "",
       "description_tooltip": null,
       "layout": "IPY_MODEL_d190011c03274cb2acd2395ea6e40962",
       "placeholder": "​",
       "style": "IPY_MODEL_f8abbdc14f624536810226fdb259b258",
       "value": " 10/10 [00:01&lt;00:00,  8.98it/s]"
      }
     },
     "2ff6569c691442ac9a49d88065eb3f12": {
      "model_module": "@jupyter-widgets/base",
      "model_module_version": "1.2.0",
      "model_name": "LayoutModel",
      "state": {
       "_model_module": "@jupyter-widgets/base",
       "_model_module_version": "1.2.0",
       "_model_name": "LayoutModel",
       "_view_count": null,
       "_view_module": "@jupyter-widgets/base",
       "_view_module_version": "1.2.0",
       "_view_name": "LayoutView",
       "align_content": null,
       "align_items": null,
       "align_self": null,
       "border": null,
       "bottom": null,
       "display": null,
       "flex": null,
       "flex_flow": null,
       "grid_area": null,
       "grid_auto_columns": null,
       "grid_auto_flow": null,
       "grid_auto_rows": null,
       "grid_column": null,
       "grid_gap": null,
       "grid_row": null,
       "grid_template_areas": null,
       "grid_template_columns": null,
       "grid_template_rows": null,
       "height": null,
       "justify_content": null,
       "justify_items": null,
       "left": null,
       "margin": null,
       "max_height": null,
       "max_width": null,
       "min_height": null,
       "min_width": null,
       "object_fit": null,
       "object_position": null,
       "order": null,
       "overflow": null,
       "overflow_x": null,
       "overflow_y": null,
       "padding": null,
       "right": null,
       "top": null,
       "visibility": null,
       "width": null
      }
     },
     "3404591e02714b04bc1242cfcc96a696": {
      "model_module": "@jupyter-widgets/base",
      "model_module_version": "1.2.0",
      "model_name": "LayoutModel",
      "state": {
       "_model_module": "@jupyter-widgets/base",
       "_model_module_version": "1.2.0",
       "_model_name": "LayoutModel",
       "_view_count": null,
       "_view_module": "@jupyter-widgets/base",
       "_view_module_version": "1.2.0",
       "_view_name": "LayoutView",
       "align_content": null,
       "align_items": null,
       "align_self": null,
       "border": null,
       "bottom": null,
       "display": null,
       "flex": null,
       "flex_flow": null,
       "grid_area": null,
       "grid_auto_columns": null,
       "grid_auto_flow": null,
       "grid_auto_rows": null,
       "grid_column": null,
       "grid_gap": null,
       "grid_row": null,
       "grid_template_areas": null,
       "grid_template_columns": null,
       "grid_template_rows": null,
       "height": null,
       "justify_content": null,
       "justify_items": null,
       "left": null,
       "margin": null,
       "max_height": null,
       "max_width": null,
       "min_height": null,
       "min_width": null,
       "object_fit": null,
       "object_position": null,
       "order": null,
       "overflow": null,
       "overflow_x": null,
       "overflow_y": null,
       "padding": null,
       "right": null,
       "top": null,
       "visibility": null,
       "width": null
      }
     },
     "3f18790205434aac89c076c4506cb4c7": {
      "model_module": "@jupyter-widgets/controls",
      "model_module_version": "1.5.0",
      "model_name": "ProgressStyleModel",
      "state": {
       "_model_module": "@jupyter-widgets/controls",
       "_model_module_version": "1.5.0",
       "_model_name": "ProgressStyleModel",
       "_view_count": null,
       "_view_module": "@jupyter-widgets/base",
       "_view_module_version": "1.2.0",
       "_view_name": "StyleView",
       "bar_color": null,
       "description_width": ""
      }
     },
     "4d2c4096000f4a98863ae8c5ccdf62e4": {
      "model_module": "@jupyter-widgets/base",
      "model_module_version": "1.2.0",
      "model_name": "LayoutModel",
      "state": {
       "_model_module": "@jupyter-widgets/base",
       "_model_module_version": "1.2.0",
       "_model_name": "LayoutModel",
       "_view_count": null,
       "_view_module": "@jupyter-widgets/base",
       "_view_module_version": "1.2.0",
       "_view_name": "LayoutView",
       "align_content": null,
       "align_items": null,
       "align_self": null,
       "border": null,
       "bottom": null,
       "display": null,
       "flex": null,
       "flex_flow": null,
       "grid_area": null,
       "grid_auto_columns": null,
       "grid_auto_flow": null,
       "grid_auto_rows": null,
       "grid_column": null,
       "grid_gap": null,
       "grid_row": null,
       "grid_template_areas": null,
       "grid_template_columns": null,
       "grid_template_rows": null,
       "height": null,
       "justify_content": null,
       "justify_items": null,
       "left": null,
       "margin": null,
       "max_height": null,
       "max_width": null,
       "min_height": null,
       "min_width": null,
       "object_fit": null,
       "object_position": null,
       "order": null,
       "overflow": null,
       "overflow_x": null,
       "overflow_y": null,
       "padding": null,
       "right": null,
       "top": null,
       "visibility": null,
       "width": null
      }
     },
     "505c3d032c864d5abf263e17aadd86c8": {
      "model_module": "@jupyter-widgets/controls",
      "model_module_version": "1.5.0",
      "model_name": "DescriptionStyleModel",
      "state": {
       "_model_module": "@jupyter-widgets/controls",
       "_model_module_version": "1.5.0",
       "_model_name": "DescriptionStyleModel",
       "_view_count": null,
       "_view_module": "@jupyter-widgets/base",
       "_view_module_version": "1.2.0",
       "_view_name": "StyleView",
       "description_width": ""
      }
     },
     "55eca8588f034bf789745f3f4422382a": {
      "model_module": "@jupyter-widgets/base",
      "model_module_version": "1.2.0",
      "model_name": "LayoutModel",
      "state": {
       "_model_module": "@jupyter-widgets/base",
       "_model_module_version": "1.2.0",
       "_model_name": "LayoutModel",
       "_view_count": null,
       "_view_module": "@jupyter-widgets/base",
       "_view_module_version": "1.2.0",
       "_view_name": "LayoutView",
       "align_content": null,
       "align_items": null,
       "align_self": null,
       "border": null,
       "bottom": null,
       "display": null,
       "flex": null,
       "flex_flow": null,
       "grid_area": null,
       "grid_auto_columns": null,
       "grid_auto_flow": null,
       "grid_auto_rows": null,
       "grid_column": null,
       "grid_gap": null,
       "grid_row": null,
       "grid_template_areas": null,
       "grid_template_columns": null,
       "grid_template_rows": null,
       "height": null,
       "justify_content": null,
       "justify_items": null,
       "left": null,
       "margin": null,
       "max_height": null,
       "max_width": null,
       "min_height": null,
       "min_width": null,
       "object_fit": null,
       "object_position": null,
       "order": null,
       "overflow": null,
       "overflow_x": null,
       "overflow_y": null,
       "padding": null,
       "right": null,
       "top": null,
       "visibility": null,
       "width": null
      }
     },
     "5ac212efbc9544259078475abbe0ed89": {
      "model_module": "@jupyter-widgets/controls",
      "model_module_version": "1.5.0",
      "model_name": "HTMLModel",
      "state": {
       "_dom_classes": [],
       "_model_module": "@jupyter-widgets/controls",
       "_model_module_version": "1.5.0",
       "_model_name": "HTMLModel",
       "_view_count": null,
       "_view_module": "@jupyter-widgets/controls",
       "_view_module_version": "1.5.0",
       "_view_name": "HTMLView",
       "description": "",
       "description_tooltip": null,
       "layout": "IPY_MODEL_dd7b902b75524aa089b6416d7a020243",
       "placeholder": "​",
       "style": "IPY_MODEL_fc90242ca81d4c49b92b50e27694bdc5",
       "value": "100%"
      }
     },
     "651400d6fa8f4057893e643f46679867": {
      "model_module": "@jupyter-widgets/controls",
      "model_module_version": "1.5.0",
      "model_name": "HBoxModel",
      "state": {
       "_dom_classes": [],
       "_model_module": "@jupyter-widgets/controls",
       "_model_module_version": "1.5.0",
       "_model_name": "HBoxModel",
       "_view_count": null,
       "_view_module": "@jupyter-widgets/controls",
       "_view_module_version": "1.5.0",
       "_view_name": "HBoxView",
       "box_style": "",
       "children": [
        "IPY_MODEL_6c18c34e00dc45d89f33187a02c66105",
        "IPY_MODEL_d830ea6acff54d3086fc7656194c8fde",
        "IPY_MODEL_0bf211e39cb94d13b72d2349da6c3bfd"
       ],
       "layout": "IPY_MODEL_8d812b35b9ce4a93b0969bf9385bcfdc"
      }
     },
     "6c18c34e00dc45d89f33187a02c66105": {
      "model_module": "@jupyter-widgets/controls",
      "model_module_version": "1.5.0",
      "model_name": "HTMLModel",
      "state": {
       "_dom_classes": [],
       "_model_module": "@jupyter-widgets/controls",
       "_model_module_version": "1.5.0",
       "_model_name": "HTMLModel",
       "_view_count": null,
       "_view_module": "@jupyter-widgets/controls",
       "_view_module_version": "1.5.0",
       "_view_name": "HTMLView",
       "description": "",
       "description_tooltip": null,
       "layout": "IPY_MODEL_99ab04189d1146cab5e4769faf503549",
       "placeholder": "​",
       "style": "IPY_MODEL_bf71fbd68cb84771aeb9cba7de3a700c",
       "value": "100%"
      }
     },
     "6dc871d9d906410abe304a9d6e6e9b0d": {
      "model_module": "@jupyter-widgets/base",
      "model_module_version": "1.2.0",
      "model_name": "LayoutModel",
      "state": {
       "_model_module": "@jupyter-widgets/base",
       "_model_module_version": "1.2.0",
       "_model_name": "LayoutModel",
       "_view_count": null,
       "_view_module": "@jupyter-widgets/base",
       "_view_module_version": "1.2.0",
       "_view_name": "LayoutView",
       "align_content": null,
       "align_items": null,
       "align_self": null,
       "border": null,
       "bottom": null,
       "display": null,
       "flex": null,
       "flex_flow": null,
       "grid_area": null,
       "grid_auto_columns": null,
       "grid_auto_flow": null,
       "grid_auto_rows": null,
       "grid_column": null,
       "grid_gap": null,
       "grid_row": null,
       "grid_template_areas": null,
       "grid_template_columns": null,
       "grid_template_rows": null,
       "height": null,
       "justify_content": null,
       "justify_items": null,
       "left": null,
       "margin": null,
       "max_height": null,
       "max_width": null,
       "min_height": null,
       "min_width": null,
       "object_fit": null,
       "object_position": null,
       "order": null,
       "overflow": null,
       "overflow_x": null,
       "overflow_y": null,
       "padding": null,
       "right": null,
       "top": null,
       "visibility": null,
       "width": null
      }
     },
     "6f889a25780d4bc2941fa21940ae93fd": {
      "model_module": "@jupyter-widgets/controls",
      "model_module_version": "1.5.0",
      "model_name": "FloatProgressModel",
      "state": {
       "_dom_classes": [],
       "_model_module": "@jupyter-widgets/controls",
       "_model_module_version": "1.5.0",
       "_model_name": "FloatProgressModel",
       "_view_count": null,
       "_view_module": "@jupyter-widgets/controls",
       "_view_module_version": "1.5.0",
       "_view_name": "ProgressView",
       "bar_style": "success",
       "description": "",
       "description_tooltip": null,
       "layout": "IPY_MODEL_3404591e02714b04bc1242cfcc96a696",
       "max": 10.0,
       "min": 0.0,
       "orientation": "horizontal",
       "style": "IPY_MODEL_3f18790205434aac89c076c4506cb4c7",
       "value": 10.0
      }
     },
     "740dc49ae07d410f9c6398f76d2b23a0": {
      "model_module": "@jupyter-widgets/controls",
      "model_module_version": "1.5.0",
      "model_name": "HTMLModel",
      "state": {
       "_dom_classes": [],
       "_model_module": "@jupyter-widgets/controls",
       "_model_module_version": "1.5.0",
       "_model_name": "HTMLModel",
       "_view_count": null,
       "_view_module": "@jupyter-widgets/controls",
       "_view_module_version": "1.5.0",
       "_view_name": "HTMLView",
       "description": "",
       "description_tooltip": null,
       "layout": "IPY_MODEL_264307d506144239b7f9cf6260792645",
       "placeholder": "​",
       "style": "IPY_MODEL_9ebc385fbfbe4c8886b927a5d03810b3",
       "value": " 10/10 [00:01&lt;00:00, 10.67it/s]"
      }
     },
     "8d812b35b9ce4a93b0969bf9385bcfdc": {
      "model_module": "@jupyter-widgets/base",
      "model_module_version": "1.2.0",
      "model_name": "LayoutModel",
      "state": {
       "_model_module": "@jupyter-widgets/base",
       "_model_module_version": "1.2.0",
       "_model_name": "LayoutModel",
       "_view_count": null,
       "_view_module": "@jupyter-widgets/base",
       "_view_module_version": "1.2.0",
       "_view_name": "LayoutView",
       "align_content": null,
       "align_items": null,
       "align_self": null,
       "border": null,
       "bottom": null,
       "display": null,
       "flex": null,
       "flex_flow": null,
       "grid_area": null,
       "grid_auto_columns": null,
       "grid_auto_flow": null,
       "grid_auto_rows": null,
       "grid_column": null,
       "grid_gap": null,
       "grid_row": null,
       "grid_template_areas": null,
       "grid_template_columns": null,
       "grid_template_rows": null,
       "height": null,
       "justify_content": null,
       "justify_items": null,
       "left": null,
       "margin": null,
       "max_height": null,
       "max_width": null,
       "min_height": null,
       "min_width": null,
       "object_fit": null,
       "object_position": null,
       "order": null,
       "overflow": null,
       "overflow_x": null,
       "overflow_y": null,
       "padding": null,
       "right": null,
       "top": null,
       "visibility": null,
       "width": null
      }
     },
     "8e9dc7ac5c01424fb3c6ab0d5f8effe0": {
      "model_module": "@jupyter-widgets/controls",
      "model_module_version": "1.5.0",
      "model_name": "HBoxModel",
      "state": {
       "_dom_classes": [],
       "_model_module": "@jupyter-widgets/controls",
       "_model_module_version": "1.5.0",
       "_model_name": "HBoxModel",
       "_view_count": null,
       "_view_module": "@jupyter-widgets/controls",
       "_view_module_version": "1.5.0",
       "_view_name": "HBoxView",
       "box_style": "",
       "children": [
        "IPY_MODEL_5ac212efbc9544259078475abbe0ed89",
        "IPY_MODEL_902d814069a143acb842860943bf7ab2",
        "IPY_MODEL_2e2dac03344d4318a42753b5be6bd865"
       ],
       "layout": "IPY_MODEL_55eca8588f034bf789745f3f4422382a"
      }
     },
     "902d814069a143acb842860943bf7ab2": {
      "model_module": "@jupyter-widgets/controls",
      "model_module_version": "1.5.0",
      "model_name": "FloatProgressModel",
      "state": {
       "_dom_classes": [],
       "_model_module": "@jupyter-widgets/controls",
       "_model_module_version": "1.5.0",
       "_model_name": "FloatProgressModel",
       "_view_count": null,
       "_view_module": "@jupyter-widgets/controls",
       "_view_module_version": "1.5.0",
       "_view_name": "ProgressView",
       "bar_style": "success",
       "description": "",
       "description_tooltip": null,
       "layout": "IPY_MODEL_c28258fa2fd04eec892038677b1846fd",
       "max": 10.0,
       "min": 0.0,
       "orientation": "horizontal",
       "style": "IPY_MODEL_0fd446ef86364202b97cd00693287b4f",
       "value": 10.0
      }
     },
     "95c0d9943aa94fa89600647feae43264": {
      "model_module": "@jupyter-widgets/controls",
      "model_module_version": "1.5.0",
      "model_name": "HTMLModel",
      "state": {
       "_dom_classes": [],
       "_model_module": "@jupyter-widgets/controls",
       "_model_module_version": "1.5.0",
       "_model_name": "HTMLModel",
       "_view_count": null,
       "_view_module": "@jupyter-widgets/controls",
       "_view_module_version": "1.5.0",
       "_view_name": "HTMLView",
       "description": "",
       "description_tooltip": null,
       "layout": "IPY_MODEL_27bc03356ec149598904c12e665a66a1",
       "placeholder": "​",
       "style": "IPY_MODEL_505c3d032c864d5abf263e17aadd86c8",
       "value": " 10/10 [00:00&lt;00:00, 418.91it/s]"
      }
     },
     "9672adf821034813b091f373d478f1e4": {
      "model_module": "@jupyter-widgets/base",
      "model_module_version": "1.2.0",
      "model_name": "LayoutModel",
      "state": {
       "_model_module": "@jupyter-widgets/base",
       "_model_module_version": "1.2.0",
       "_model_name": "LayoutModel",
       "_view_count": null,
       "_view_module": "@jupyter-widgets/base",
       "_view_module_version": "1.2.0",
       "_view_name": "LayoutView",
       "align_content": null,
       "align_items": null,
       "align_self": null,
       "border": null,
       "bottom": null,
       "display": null,
       "flex": null,
       "flex_flow": null,
       "grid_area": null,
       "grid_auto_columns": null,
       "grid_auto_flow": null,
       "grid_auto_rows": null,
       "grid_column": null,
       "grid_gap": null,
       "grid_row": null,
       "grid_template_areas": null,
       "grid_template_columns": null,
       "grid_template_rows": null,
       "height": null,
       "justify_content": null,
       "justify_items": null,
       "left": null,
       "margin": null,
       "max_height": null,
       "max_width": null,
       "min_height": null,
       "min_width": null,
       "object_fit": null,
       "object_position": null,
       "order": null,
       "overflow": null,
       "overflow_x": null,
       "overflow_y": null,
       "padding": null,
       "right": null,
       "top": null,
       "visibility": null,
       "width": null
      }
     },
     "99ab04189d1146cab5e4769faf503549": {
      "model_module": "@jupyter-widgets/base",
      "model_module_version": "1.2.0",
      "model_name": "LayoutModel",
      "state": {
       "_model_module": "@jupyter-widgets/base",
       "_model_module_version": "1.2.0",
       "_model_name": "LayoutModel",
       "_view_count": null,
       "_view_module": "@jupyter-widgets/base",
       "_view_module_version": "1.2.0",
       "_view_name": "LayoutView",
       "align_content": null,
       "align_items": null,
       "align_self": null,
       "border": null,
       "bottom": null,
       "display": null,
       "flex": null,
       "flex_flow": null,
       "grid_area": null,
       "grid_auto_columns": null,
       "grid_auto_flow": null,
       "grid_auto_rows": null,
       "grid_column": null,
       "grid_gap": null,
       "grid_row": null,
       "grid_template_areas": null,
       "grid_template_columns": null,
       "grid_template_rows": null,
       "height": null,
       "justify_content": null,
       "justify_items": null,
       "left": null,
       "margin": null,
       "max_height": null,
       "max_width": null,
       "min_height": null,
       "min_width": null,
       "object_fit": null,
       "object_position": null,
       "order": null,
       "overflow": null,
       "overflow_x": null,
       "overflow_y": null,
       "padding": null,
       "right": null,
       "top": null,
       "visibility": null,
       "width": null
      }
     },
     "9a6da0984e164732adbe81d5abc465fd": {
      "model_module": "@jupyter-widgets/controls",
      "model_module_version": "1.5.0",
      "model_name": "ProgressStyleModel",
      "state": {
       "_model_module": "@jupyter-widgets/controls",
       "_model_module_version": "1.5.0",
       "_model_name": "ProgressStyleModel",
       "_view_count": null,
       "_view_module": "@jupyter-widgets/base",
       "_view_module_version": "1.2.0",
       "_view_name": "StyleView",
       "bar_color": null,
       "description_width": ""
      }
     },
     "9ebc385fbfbe4c8886b927a5d03810b3": {
      "model_module": "@jupyter-widgets/controls",
      "model_module_version": "1.5.0",
      "model_name": "DescriptionStyleModel",
      "state": {
       "_model_module": "@jupyter-widgets/controls",
       "_model_module_version": "1.5.0",
       "_model_name": "DescriptionStyleModel",
       "_view_count": null,
       "_view_module": "@jupyter-widgets/base",
       "_view_module_version": "1.2.0",
       "_view_name": "StyleView",
       "description_width": ""
      }
     },
     "a2b7853b6a2b4307851052b1a4690975": {
      "model_module": "@jupyter-widgets/controls",
      "model_module_version": "1.5.0",
      "model_name": "FloatProgressModel",
      "state": {
       "_dom_classes": [],
       "_model_module": "@jupyter-widgets/controls",
       "_model_module_version": "1.5.0",
       "_model_name": "FloatProgressModel",
       "_view_count": null,
       "_view_module": "@jupyter-widgets/controls",
       "_view_module_version": "1.5.0",
       "_view_name": "ProgressView",
       "bar_style": "success",
       "description": "",
       "description_tooltip": null,
       "layout": "IPY_MODEL_131ddebae5e6483392142bfbdaceb973",
       "max": 10.0,
       "min": 0.0,
       "orientation": "horizontal",
       "style": "IPY_MODEL_176f8d321bbe4503b2928fe968ba58d4",
       "value": 10.0
      }
     },
     "bf2434f16c744d54aea813592a1056a9": {
      "model_module": "@jupyter-widgets/controls",
      "model_module_version": "1.5.0",
      "model_name": "DescriptionStyleModel",
      "state": {
       "_model_module": "@jupyter-widgets/controls",
       "_model_module_version": "1.5.0",
       "_model_name": "DescriptionStyleModel",
       "_view_count": null,
       "_view_module": "@jupyter-widgets/base",
       "_view_module_version": "1.2.0",
       "_view_name": "StyleView",
       "description_width": ""
      }
     },
     "bf71fbd68cb84771aeb9cba7de3a700c": {
      "model_module": "@jupyter-widgets/controls",
      "model_module_version": "1.5.0",
      "model_name": "DescriptionStyleModel",
      "state": {
       "_model_module": "@jupyter-widgets/controls",
       "_model_module_version": "1.5.0",
       "_model_name": "DescriptionStyleModel",
       "_view_count": null,
       "_view_module": "@jupyter-widgets/base",
       "_view_module_version": "1.2.0",
       "_view_name": "StyleView",
       "description_width": ""
      }
     },
     "c28258fa2fd04eec892038677b1846fd": {
      "model_module": "@jupyter-widgets/base",
      "model_module_version": "1.2.0",
      "model_name": "LayoutModel",
      "state": {
       "_model_module": "@jupyter-widgets/base",
       "_model_module_version": "1.2.0",
       "_model_name": "LayoutModel",
       "_view_count": null,
       "_view_module": "@jupyter-widgets/base",
       "_view_module_version": "1.2.0",
       "_view_name": "LayoutView",
       "align_content": null,
       "align_items": null,
       "align_self": null,
       "border": null,
       "bottom": null,
       "display": null,
       "flex": null,
       "flex_flow": null,
       "grid_area": null,
       "grid_auto_columns": null,
       "grid_auto_flow": null,
       "grid_auto_rows": null,
       "grid_column": null,
       "grid_gap": null,
       "grid_row": null,
       "grid_template_areas": null,
       "grid_template_columns": null,
       "grid_template_rows": null,
       "height": null,
       "justify_content": null,
       "justify_items": null,
       "left": null,
       "margin": null,
       "max_height": null,
       "max_width": null,
       "min_height": null,
       "min_width": null,
       "object_fit": null,
       "object_position": null,
       "order": null,
       "overflow": null,
       "overflow_x": null,
       "overflow_y": null,
       "padding": null,
       "right": null,
       "top": null,
       "visibility": null,
       "width": null
      }
     },
     "d190011c03274cb2acd2395ea6e40962": {
      "model_module": "@jupyter-widgets/base",
      "model_module_version": "1.2.0",
      "model_name": "LayoutModel",
      "state": {
       "_model_module": "@jupyter-widgets/base",
       "_model_module_version": "1.2.0",
       "_model_name": "LayoutModel",
       "_view_count": null,
       "_view_module": "@jupyter-widgets/base",
       "_view_module_version": "1.2.0",
       "_view_name": "LayoutView",
       "align_content": null,
       "align_items": null,
       "align_self": null,
       "border": null,
       "bottom": null,
       "display": null,
       "flex": null,
       "flex_flow": null,
       "grid_area": null,
       "grid_auto_columns": null,
       "grid_auto_flow": null,
       "grid_auto_rows": null,
       "grid_column": null,
       "grid_gap": null,
       "grid_row": null,
       "grid_template_areas": null,
       "grid_template_columns": null,
       "grid_template_rows": null,
       "height": null,
       "justify_content": null,
       "justify_items": null,
       "left": null,
       "margin": null,
       "max_height": null,
       "max_width": null,
       "min_height": null,
       "min_width": null,
       "object_fit": null,
       "object_position": null,
       "order": null,
       "overflow": null,
       "overflow_x": null,
       "overflow_y": null,
       "padding": null,
       "right": null,
       "top": null,
       "visibility": null,
       "width": null
      }
     },
     "d734954889cd43208e01d25679fec325": {
      "model_module": "@jupyter-widgets/controls",
      "model_module_version": "1.5.0",
      "model_name": "DescriptionStyleModel",
      "state": {
       "_model_module": "@jupyter-widgets/controls",
       "_model_module_version": "1.5.0",
       "_model_name": "DescriptionStyleModel",
       "_view_count": null,
       "_view_module": "@jupyter-widgets/base",
       "_view_module_version": "1.2.0",
       "_view_name": "StyleView",
       "description_width": ""
      }
     },
     "d75b19869d854224946f116510b74570": {
      "model_module": "@jupyter-widgets/controls",
      "model_module_version": "1.5.0",
      "model_name": "HTMLModel",
      "state": {
       "_dom_classes": [],
       "_model_module": "@jupyter-widgets/controls",
       "_model_module_version": "1.5.0",
       "_model_name": "HTMLModel",
       "_view_count": null,
       "_view_module": "@jupyter-widgets/controls",
       "_view_module_version": "1.5.0",
       "_view_name": "HTMLView",
       "description": "",
       "description_tooltip": null,
       "layout": "IPY_MODEL_e7e582b744a1464ca30c11b9efee3fa3",
       "placeholder": "​",
       "style": "IPY_MODEL_e9dd8bdeb2b94ec4afb406b63ef0f9fb",
       "value": "100%"
      }
     },
     "d830ea6acff54d3086fc7656194c8fde": {
      "model_module": "@jupyter-widgets/controls",
      "model_module_version": "1.5.0",
      "model_name": "FloatProgressModel",
      "state": {
       "_dom_classes": [],
       "_model_module": "@jupyter-widgets/controls",
       "_model_module_version": "1.5.0",
       "_model_name": "FloatProgressModel",
       "_view_count": null,
       "_view_module": "@jupyter-widgets/controls",
       "_view_module_version": "1.5.0",
       "_view_name": "ProgressView",
       "bar_style": "success",
       "description": "",
       "description_tooltip": null,
       "layout": "IPY_MODEL_4d2c4096000f4a98863ae8c5ccdf62e4",
       "max": 6807.0,
       "min": 0.0,
       "orientation": "horizontal",
       "style": "IPY_MODEL_9a6da0984e164732adbe81d5abc465fd",
       "value": 6807.0
      }
     },
     "d893b2ceb123470f846d6cba0b8aa3e1": {
      "model_module": "@jupyter-widgets/controls",
      "model_module_version": "1.5.0",
      "model_name": "HBoxModel",
      "state": {
       "_dom_classes": [],
       "_model_module": "@jupyter-widgets/controls",
       "_model_module_version": "1.5.0",
       "_model_name": "HBoxModel",
       "_view_count": null,
       "_view_module": "@jupyter-widgets/controls",
       "_view_module_version": "1.5.0",
       "_view_name": "HBoxView",
       "box_style": "",
       "children": [
        "IPY_MODEL_25404aea1caf4e08bb2080d68cd519da",
        "IPY_MODEL_a2b7853b6a2b4307851052b1a4690975",
        "IPY_MODEL_740dc49ae07d410f9c6398f76d2b23a0"
       ],
       "layout": "IPY_MODEL_2ff6569c691442ac9a49d88065eb3f12"
      }
     },
     "dd7b902b75524aa089b6416d7a020243": {
      "model_module": "@jupyter-widgets/base",
      "model_module_version": "1.2.0",
      "model_name": "LayoutModel",
      "state": {
       "_model_module": "@jupyter-widgets/base",
       "_model_module_version": "1.2.0",
       "_model_name": "LayoutModel",
       "_view_count": null,
       "_view_module": "@jupyter-widgets/base",
       "_view_module_version": "1.2.0",
       "_view_name": "LayoutView",
       "align_content": null,
       "align_items": null,
       "align_self": null,
       "border": null,
       "bottom": null,
       "display": null,
       "flex": null,
       "flex_flow": null,
       "grid_area": null,
       "grid_auto_columns": null,
       "grid_auto_flow": null,
       "grid_auto_rows": null,
       "grid_column": null,
       "grid_gap": null,
       "grid_row": null,
       "grid_template_areas": null,
       "grid_template_columns": null,
       "grid_template_rows": null,
       "height": null,
       "justify_content": null,
       "justify_items": null,
       "left": null,
       "margin": null,
       "max_height": null,
       "max_width": null,
       "min_height": null,
       "min_width": null,
       "object_fit": null,
       "object_position": null,
       "order": null,
       "overflow": null,
       "overflow_x": null,
       "overflow_y": null,
       "padding": null,
       "right": null,
       "top": null,
       "visibility": null,
       "width": null
      }
     },
     "e22232880f6c4cc0a468da0309a83504": {
      "model_module": "@jupyter-widgets/controls",
      "model_module_version": "1.5.0",
      "model_name": "HBoxModel",
      "state": {
       "_dom_classes": [],
       "_model_module": "@jupyter-widgets/controls",
       "_model_module_version": "1.5.0",
       "_model_name": "HBoxModel",
       "_view_count": null,
       "_view_module": "@jupyter-widgets/controls",
       "_view_module_version": "1.5.0",
       "_view_name": "HBoxView",
       "box_style": "",
       "children": [
        "IPY_MODEL_d75b19869d854224946f116510b74570",
        "IPY_MODEL_6f889a25780d4bc2941fa21940ae93fd",
        "IPY_MODEL_95c0d9943aa94fa89600647feae43264"
       ],
       "layout": "IPY_MODEL_9672adf821034813b091f373d478f1e4"
      }
     },
     "e7e582b744a1464ca30c11b9efee3fa3": {
      "model_module": "@jupyter-widgets/base",
      "model_module_version": "1.2.0",
      "model_name": "LayoutModel",
      "state": {
       "_model_module": "@jupyter-widgets/base",
       "_model_module_version": "1.2.0",
       "_model_name": "LayoutModel",
       "_view_count": null,
       "_view_module": "@jupyter-widgets/base",
       "_view_module_version": "1.2.0",
       "_view_name": "LayoutView",
       "align_content": null,
       "align_items": null,
       "align_self": null,
       "border": null,
       "bottom": null,
       "display": null,
       "flex": null,
       "flex_flow": null,
       "grid_area": null,
       "grid_auto_columns": null,
       "grid_auto_flow": null,
       "grid_auto_rows": null,
       "grid_column": null,
       "grid_gap": null,
       "grid_row": null,
       "grid_template_areas": null,
       "grid_template_columns": null,
       "grid_template_rows": null,
       "height": null,
       "justify_content": null,
       "justify_items": null,
       "left": null,
       "margin": null,
       "max_height": null,
       "max_width": null,
       "min_height": null,
       "min_width": null,
       "object_fit": null,
       "object_position": null,
       "order": null,
       "overflow": null,
       "overflow_x": null,
       "overflow_y": null,
       "padding": null,
       "right": null,
       "top": null,
       "visibility": null,
       "width": null
      }
     },
     "e9dd8bdeb2b94ec4afb406b63ef0f9fb": {
      "model_module": "@jupyter-widgets/controls",
      "model_module_version": "1.5.0",
      "model_name": "DescriptionStyleModel",
      "state": {
       "_model_module": "@jupyter-widgets/controls",
       "_model_module_version": "1.5.0",
       "_model_name": "DescriptionStyleModel",
       "_view_count": null,
       "_view_module": "@jupyter-widgets/base",
       "_view_module_version": "1.2.0",
       "_view_name": "StyleView",
       "description_width": ""
      }
     },
     "f8abbdc14f624536810226fdb259b258": {
      "model_module": "@jupyter-widgets/controls",
      "model_module_version": "1.5.0",
      "model_name": "DescriptionStyleModel",
      "state": {
       "_model_module": "@jupyter-widgets/controls",
       "_model_module_version": "1.5.0",
       "_model_name": "DescriptionStyleModel",
       "_view_count": null,
       "_view_module": "@jupyter-widgets/base",
       "_view_module_version": "1.2.0",
       "_view_name": "StyleView",
       "description_width": ""
      }
     },
     "fc90242ca81d4c49b92b50e27694bdc5": {
      "model_module": "@jupyter-widgets/controls",
      "model_module_version": "1.5.0",
      "model_name": "DescriptionStyleModel",
      "state": {
       "_model_module": "@jupyter-widgets/controls",
       "_model_module_version": "1.5.0",
       "_model_name": "DescriptionStyleModel",
       "_view_count": null,
       "_view_module": "@jupyter-widgets/base",
       "_view_module_version": "1.2.0",
       "_view_name": "StyleView",
       "description_width": ""
      }
     }
    },
    "version_major": 2,
    "version_minor": 0
   }
  }
 },
 "nbformat": 4,
 "nbformat_minor": 5
}
