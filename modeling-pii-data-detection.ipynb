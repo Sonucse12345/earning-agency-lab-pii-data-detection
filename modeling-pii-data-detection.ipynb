{
 "cells": [
  {
   "cell_type": "markdown",
   "id": "de9710d3",
   "metadata": {
    "papermill": {
     "duration": 0.008073,
     "end_time": "2024-01-20T21:10:11.582431",
     "exception": false,
     "start_time": "2024-01-20T21:10:11.574358",
     "status": "completed"
    },
    "tags": []
   },
   "source": [
    "We will be using Presidio: a Microsoft framework for PII detection. Credit to pjmathematician for both the idea and the baseline code: https://www.kaggle.com/code/pjmathematician/pii-eda-presidio-baseline"
   ]
  },
  {
   "cell_type": "markdown",
   "id": "a773d50c",
   "metadata": {
    "papermill": {
     "duration": 0.007108,
     "end_time": "2024-01-20T21:10:11.597040",
     "exception": false,
     "start_time": "2024-01-20T21:10:11.589932",
     "status": "completed"
    },
    "tags": []
   },
   "source": [
    "# Downloading and Loading Libraries"
   ]
  },
  {
   "cell_type": "code",
   "execution_count": 1,
   "id": "6ed1f170",
   "metadata": {
    "execution": {
     "iopub.execute_input": "2024-01-20T21:10:11.614178Z",
     "iopub.status.busy": "2024-01-20T21:10:11.613758Z",
     "iopub.status.idle": "2024-01-20T21:10:33.903048Z",
     "shell.execute_reply": "2024-01-20T21:10:33.901541Z"
    },
    "papermill": {
     "duration": 22.301421,
     "end_time": "2024-01-20T21:10:33.906355",
     "exception": false,
     "start_time": "2024-01-20T21:10:11.604934",
     "status": "completed"
    },
    "tags": []
   },
   "outputs": [],
   "source": [
    "%%capture\n",
    "!pip install presidio_analyzer --no-index --find-links=file:///kaggle/input/presidio-wheels/presidio"
   ]
  },
  {
   "cell_type": "code",
   "execution_count": 2,
   "id": "ff9c2220",
   "metadata": {
    "_cell_guid": "b1076dfc-b9ad-4769-8c92-a6c4dae69d19",
    "_uuid": "8f2839f25d086af736a60e9eeb907d3b93b6e0e5",
    "execution": {
     "iopub.execute_input": "2024-01-20T21:10:33.924515Z",
     "iopub.status.busy": "2024-01-20T21:10:33.923809Z",
     "iopub.status.idle": "2024-01-20T21:10:40.251195Z",
     "shell.execute_reply": "2024-01-20T21:10:40.249956Z"
    },
    "papermill": {
     "duration": 6.339739,
     "end_time": "2024-01-20T21:10:40.254042",
     "exception": false,
     "start_time": "2024-01-20T21:10:33.914303",
     "status": "completed"
    },
    "tags": []
   },
   "outputs": [],
   "source": [
    "import json\n",
    "import pandas as pd\n",
    "from tqdm.auto import tqdm\n",
    "from presidio_analyzer import AnalyzerEngine, PatternRecognizer, Pattern\n",
    "from presidio_analyzer.recognizer_registry import RecognizerRegistry"
   ]
  },
  {
   "cell_type": "markdown",
   "id": "59e9d574",
   "metadata": {
    "papermill": {
     "duration": 0.007258,
     "end_time": "2024-01-20T21:10:40.268956",
     "exception": false,
     "start_time": "2024-01-20T21:10:40.261698",
     "status": "completed"
    },
    "tags": []
   },
   "source": [
    "# Loading Data"
   ]
  },
  {
   "cell_type": "code",
   "execution_count": 3,
   "id": "449cca6a",
   "metadata": {
    "execution": {
     "iopub.execute_input": "2024-01-20T21:10:40.285907Z",
     "iopub.status.busy": "2024-01-20T21:10:40.285151Z",
     "iopub.status.idle": "2024-01-20T21:10:43.285037Z",
     "shell.execute_reply": "2024-01-20T21:10:43.284133Z"
    },
    "papermill": {
     "duration": 3.011462,
     "end_time": "2024-01-20T21:10:43.287786",
     "exception": false,
     "start_time": "2024-01-20T21:10:40.276324",
     "status": "completed"
    },
    "tags": []
   },
   "outputs": [],
   "source": [
    "train = json.load(open('/kaggle/input/pii-detection-removal-from-educational-data/train.json'))\n",
    "test = json.load(open('/kaggle/input/pii-detection-removal-from-educational-data/test.json'))"
   ]
  },
  {
   "cell_type": "markdown",
   "id": "dfff8bf7",
   "metadata": {
    "papermill": {
     "duration": 0.00722,
     "end_time": "2024-01-20T21:10:43.302680",
     "exception": false,
     "start_time": "2024-01-20T21:10:43.295460",
     "status": "completed"
    },
    "tags": []
   },
   "source": [
    "# Functions"
   ]
  },
  {
   "cell_type": "code",
   "execution_count": 4,
   "id": "42954f3d",
   "metadata": {
    "execution": {
     "iopub.execute_input": "2024-01-20T21:10:43.319816Z",
     "iopub.status.busy": "2024-01-20T21:10:43.318906Z",
     "iopub.status.idle": "2024-01-20T21:10:43.326141Z",
     "shell.execute_reply": "2024-01-20T21:10:43.325337Z"
    },
    "papermill": {
     "duration": 0.018456,
     "end_time": "2024-01-20T21:10:43.328562",
     "exception": false,
     "start_time": "2024-01-20T21:10:43.310106",
     "status": "completed"
    },
    "tags": []
   },
   "outputs": [],
   "source": [
    "#Functions sourced from pjmathematician: https://www.kaggle.com/code/pjmathematician/pii-eda-presidio-baseline\n",
    "\n",
    "def tokens2index(row):\n",
    "    tokens  = row['tokens']\n",
    "    start_ind = []\n",
    "    end_ind = []\n",
    "    prev_ind = 0\n",
    "    for tok in tokens:\n",
    "        start = prev_ind + row['full_text'][prev_ind:].index(tok)\n",
    "        end = start+len(tok)\n",
    "        start_ind.append(start)\n",
    "        end_ind.append(end)\n",
    "        prev_ind = end\n",
    "    return start_ind, end_ind"
   ]
  },
  {
   "cell_type": "code",
   "execution_count": 5,
   "id": "83c5de99",
   "metadata": {
    "execution": {
     "iopub.execute_input": "2024-01-20T21:10:43.345855Z",
     "iopub.status.busy": "2024-01-20T21:10:43.344640Z",
     "iopub.status.idle": "2024-01-20T21:10:43.351656Z",
     "shell.execute_reply": "2024-01-20T21:10:43.350894Z"
    },
    "papermill": {
     "duration": 0.018002,
     "end_time": "2024-01-20T21:10:43.353947",
     "exception": false,
     "start_time": "2024-01-20T21:10:43.335945",
     "status": "completed"
    },
    "tags": []
   },
   "outputs": [],
   "source": [
    "def find_or_next_larger(arr, target):\n",
    "    left, right = 0, len(arr) - 1\n",
    "\n",
    "    while left <= right:\n",
    "        mid = (left + right) // 2\n",
    "\n",
    "        if arr[mid] == target:\n",
    "            return mid\n",
    "        elif arr[mid] < target:\n",
    "            left = mid + 1\n",
    "        else:\n",
    "            right = mid - 1\n",
    "    return left"
   ]
  },
  {
   "cell_type": "code",
   "execution_count": 6,
   "id": "c7d217a3",
   "metadata": {
    "execution": {
     "iopub.execute_input": "2024-01-20T21:10:43.370794Z",
     "iopub.status.busy": "2024-01-20T21:10:43.370053Z",
     "iopub.status.idle": "2024-01-20T21:10:43.375979Z",
     "shell.execute_reply": "2024-01-20T21:10:43.374563Z"
    },
    "papermill": {
     "duration": 0.017002,
     "end_time": "2024-01-20T21:10:43.378487",
     "exception": false,
     "start_time": "2024-01-20T21:10:43.361485",
     "status": "completed"
    },
    "tags": []
   },
   "outputs": [],
   "source": [
    "def count_trailing_whitespaces(word):\n",
    "    return len(word) - len(word.rstrip())"
   ]
  },
  {
   "cell_type": "markdown",
   "id": "5f1dfbdb",
   "metadata": {
    "papermill": {
     "duration": 0.007191,
     "end_time": "2024-01-20T21:10:43.393195",
     "exception": false,
     "start_time": "2024-01-20T21:10:43.386004",
     "status": "completed"
    },
    "tags": []
   },
   "source": [
    "# Modeling"
   ]
  },
  {
   "cell_type": "code",
   "execution_count": 7,
   "id": "9472a1f3",
   "metadata": {
    "execution": {
     "iopub.execute_input": "2024-01-20T21:10:43.410070Z",
     "iopub.status.busy": "2024-01-20T21:10:43.409667Z",
     "iopub.status.idle": "2024-01-20T21:10:43.417279Z",
     "shell.execute_reply": "2024-01-20T21:10:43.416104Z"
    },
    "papermill": {
     "duration": 0.018761,
     "end_time": "2024-01-20T21:10:43.419563",
     "exception": false,
     "start_time": "2024-01-20T21:10:43.400802",
     "status": "completed"
    },
    "tags": []
   },
   "outputs": [],
   "source": [
    "#Credit to leonshangguan for the Pattern Recognizers: \n",
    "\n",
    "address_regex = r'\\b\\d+\\s+\\w+(\\s+\\w+)*\\s+((st(\\.)?)|(ave(\\.)?)|(rd(\\.)?)|(blvd(\\.)?)|(ln(\\.)?)|(ct(\\.)?)|(dr(\\.)?))\\b'\n",
    "address_pattern = Pattern(name=\"address\", regex=address_regex, score=0.5)\n",
    "address_recognizer = PatternRecognizer(supported_entity=\"ADDRESS_CUSTOM\", patterns = [address_pattern], context=[\"st\", \"Apt\"])\n",
    "\n",
    "email_regex = r'\\b[A-Za-z0-9._%+-]+@[A-Za-z0-9.-]+\\.[A-Z|a-z]{2,}\\b'\n",
    "email_pattern = Pattern(name=\"email address\", regex=email_regex, score=0.5)\n",
    "email_recognizer = PatternRecognizer(supported_entity=\"EMAIL_CUSTOM\", patterns = [email_pattern])\n",
    "\n",
    "url_regex = r'https?://\\S+|www\\.\\S+'\n",
    "url_pattern = Pattern(name=\"url\", regex=url_regex, score=0.5)\n",
    "url_recognizer = PatternRecognizer(supported_entity=\"URL_CUSTOM\", patterns = [url_pattern])"
   ]
  },
  {
   "cell_type": "code",
   "execution_count": 8,
   "id": "093c31e7",
   "metadata": {
    "execution": {
     "iopub.execute_input": "2024-01-20T21:10:43.436144Z",
     "iopub.status.busy": "2024-01-20T21:10:43.435755Z",
     "iopub.status.idle": "2024-01-20T21:10:43.442503Z",
     "shell.execute_reply": "2024-01-20T21:10:43.441490Z"
    },
    "papermill": {
     "duration": 0.017902,
     "end_time": "2024-01-20T21:10:43.444770",
     "exception": false,
     "start_time": "2024-01-20T21:10:43.426868",
     "status": "completed"
    },
    "tags": []
   },
   "outputs": [],
   "source": [
    "registry = RecognizerRegistry()\n",
    "registry.load_predefined_recognizers()\n",
    "registry.add_recognizer(address_recognizer)\n",
    "registry.add_recognizer(email_recognizer)\n",
    "registry.add_recognizer(url_recognizer)"
   ]
  },
  {
   "cell_type": "code",
   "execution_count": 9,
   "id": "942019e1",
   "metadata": {
    "execution": {
     "iopub.execute_input": "2024-01-20T21:10:43.462000Z",
     "iopub.status.busy": "2024-01-20T21:10:43.461061Z",
     "iopub.status.idle": "2024-01-20T21:10:49.022683Z",
     "shell.execute_reply": "2024-01-20T21:10:49.021609Z"
    },
    "papermill": {
     "duration": 5.57332,
     "end_time": "2024-01-20T21:10:49.025570",
     "exception": false,
     "start_time": "2024-01-20T21:10:43.452250",
     "status": "completed"
    },
    "tags": []
   },
   "outputs": [],
   "source": [
    "analyzer = AnalyzerEngine(supported_languages=['en'], registry=registry)"
   ]
  },
  {
   "cell_type": "markdown",
   "id": "aa3dffce",
   "metadata": {
    "papermill": {
     "duration": 0.007202,
     "end_time": "2024-01-20T21:10:49.040658",
     "exception": false,
     "start_time": "2024-01-20T21:10:49.033456",
     "status": "completed"
    },
    "tags": []
   },
   "source": [
    "## Training"
   ]
  },
  {
   "cell_type": "code",
   "execution_count": 10,
   "id": "5f2aaa29",
   "metadata": {
    "execution": {
     "iopub.execute_input": "2024-01-20T21:10:49.058376Z",
     "iopub.status.busy": "2024-01-20T21:10:49.057899Z",
     "iopub.status.idle": "2024-01-20T21:10:59.515457Z",
     "shell.execute_reply": "2024-01-20T21:10:59.514218Z"
    },
    "papermill": {
     "duration": 10.469903,
     "end_time": "2024-01-20T21:10:59.517936",
     "exception": false,
     "start_time": "2024-01-20T21:10:49.048033",
     "status": "completed"
    },
    "tags": []
   },
   "outputs": [
    {
     "data": {
      "application/vnd.jupyter.widget-view+json": {
       "model_id": "c0c50a7575cf4edd892687a46b442cd8",
       "version_major": 2,
       "version_minor": 0
      },
      "text/plain": [
       "  0%|          | 0/6807 [00:00<?, ?it/s]"
      ]
     },
     "metadata": {},
     "output_type": "display_data"
    },
    {
     "data": {
      "application/vnd.jupyter.widget-view+json": {
       "model_id": "e0191db600194026a505115746db1baf",
       "version_major": 2,
       "version_minor": 0
      },
      "text/plain": [
       "  0%|          | 0/10 [00:00<?, ?it/s]"
      ]
     },
     "metadata": {},
     "output_type": "display_data"
    },
    {
     "name": "stdout",
     "output_type": "stream",
     "text": [
      "[9, 10] PERSON Nathalie Sylla\n",
      "\n",
      " 0.85\n",
      "[52, 53] PERSON Buzan T. 0.85\n",
      "[55, 56] PERSON Buzan B. 0.85\n",
      "[60, 61, 62, 63, 64] PERSON Dessine-moi  l'intelligence 0.85\n",
      "[482, 483] PERSON Nathalie Sylla 0.85\n",
      "[741, 742] PERSON Nathalie Sylla 0.85\n"
     ]
    }
   ],
   "source": [
    "preds = []\n",
    "\n",
    "for i in tqdm(range(len(train))):\n",
    "    start, end = tokens2index(train[i])\n",
    "    train[i]['start'] = start\n",
    "    train[i]['end'] = end\n",
    "\n",
    "for i, d in enumerate(tqdm(train[:10])):\n",
    "    results = analyzer.analyze(text=d['full_text'],\n",
    "                           entities=[\"PHONE_NUMBER\", \"PERSON\", \"URL\", \"EMAIL_ADDRESS\"],\n",
    "                           language='en')\n",
    "    pre_preds = []\n",
    "    for r in results:\n",
    "        s = find_or_next_larger(d['start'], r.start)\n",
    "        end = r.end\n",
    "        word = d['full_text'][r.start:r.end]\n",
    "        end = end - count_trailing_whitespaces(word)\n",
    "        temp_preds = [s]\n",
    "        try:\n",
    "            while d['end'][s+1] <= end:\n",
    "                temp_preds.append(s+1)\n",
    "                s +=1\n",
    "        except:\n",
    "            pass\n",
    "        if i==0:\n",
    "            print(temp_preds, r.entity_type, word,r.score)\n",
    "        \n",
    "        if r.entity_type == 'PHONE_NUMBER':\n",
    "            label =  'PHONE_NUM'\n",
    "        if r.entity_type == 'PERSON':\n",
    "            label =  'NAME_STUDENT'\n",
    "        if r.entity_type == 'URL':\n",
    "            label = 'URL_PERSONAL'\n",
    "        if r.entity_type == 'EMAIL_ADDRESS':\n",
    "            label = \"EMAIL\"\n",
    "        for p in temp_preds:\n",
    "            if len(pre_preds) > 0:\n",
    "                if pre_preds[-1]['rlabel'] == r.entity_type and ((p - pre_preds[-1]['token'])==1):\n",
    "                    label_f = \"I-\"+label\n",
    "                else:\n",
    "                    label_f = \"B-\"+label\n",
    "            else:\n",
    "                label_f = \"B-\"+label\n",
    "            pre_preds.append(({\n",
    "#                     \"row_id\":i,\n",
    "                    \"document\":d['document'],\n",
    "                    \"token\":p,\n",
    "                    \"label\":label_f,\n",
    "                    \"rlabel\":r.entity_type\n",
    "                }))\n",
    "    preds.extend(pre_preds)"
   ]
  },
  {
   "cell_type": "markdown",
   "id": "7dc19391",
   "metadata": {
    "papermill": {
     "duration": 0.007781,
     "end_time": "2024-01-20T21:10:59.533771",
     "exception": false,
     "start_time": "2024-01-20T21:10:59.525990",
     "status": "completed"
    },
    "tags": []
   },
   "source": [
    "## Testing"
   ]
  },
  {
   "cell_type": "code",
   "execution_count": 11,
   "id": "926c49ac",
   "metadata": {
    "execution": {
     "iopub.execute_input": "2024-01-20T21:10:59.552046Z",
     "iopub.status.busy": "2024-01-20T21:10:59.551174Z",
     "iopub.status.idle": "2024-01-20T21:10:59.556578Z",
     "shell.execute_reply": "2024-01-20T21:10:59.555354Z"
    },
    "papermill": {
     "duration": 0.017195,
     "end_time": "2024-01-20T21:10:59.559056",
     "exception": false,
     "start_time": "2024-01-20T21:10:59.541861",
     "status": "completed"
    },
    "tags": []
   },
   "outputs": [],
   "source": [
    "preds = []"
   ]
  },
  {
   "cell_type": "code",
   "execution_count": 12,
   "id": "a17cff15",
   "metadata": {
    "execution": {
     "iopub.execute_input": "2024-01-20T21:10:59.577609Z",
     "iopub.status.busy": "2024-01-20T21:10:59.577182Z",
     "iopub.status.idle": "2024-01-20T21:10:59.612300Z",
     "shell.execute_reply": "2024-01-20T21:10:59.611044Z"
    },
    "papermill": {
     "duration": 0.050404,
     "end_time": "2024-01-20T21:10:59.617505",
     "exception": false,
     "start_time": "2024-01-20T21:10:59.567101",
     "status": "completed"
    },
    "tags": []
   },
   "outputs": [
    {
     "data": {
      "application/vnd.jupyter.widget-view+json": {
       "model_id": "1a12688461c44802833b68be66e23b30",
       "version_major": 2,
       "version_minor": 0
      },
      "text/plain": [
       "  0%|          | 0/10 [00:00<?, ?it/s]"
      ]
     },
     "metadata": {},
     "output_type": "display_data"
    }
   ],
   "source": [
    "for i in tqdm(range(len(test))):\n",
    "    start, end = tokens2index(test[i])\n",
    "    test[i]['start'] = start\n",
    "    test[i]['end'] = end"
   ]
  },
  {
   "cell_type": "code",
   "execution_count": 13,
   "id": "6b8061f3",
   "metadata": {
    "execution": {
     "iopub.execute_input": "2024-01-20T21:10:59.635807Z",
     "iopub.status.busy": "2024-01-20T21:10:59.635408Z",
     "iopub.status.idle": "2024-01-20T21:11:01.440053Z",
     "shell.execute_reply": "2024-01-20T21:11:01.438905Z"
    },
    "papermill": {
     "duration": 1.816811,
     "end_time": "2024-01-20T21:11:01.442618",
     "exception": false,
     "start_time": "2024-01-20T21:10:59.625807",
     "status": "completed"
    },
    "tags": []
   },
   "outputs": [
    {
     "data": {
      "application/vnd.jupyter.widget-view+json": {
       "model_id": "0be70ff74785453dbe66357f6caee9d3",
       "version_major": 2,
       "version_minor": 0
      },
      "text/plain": [
       "  0%|          | 0/10 [00:00<?, ?it/s]"
      ]
     },
     "metadata": {},
     "output_type": "display_data"
    }
   ],
   "source": [
    "for i, d in enumerate(tqdm(test)):\n",
    "    results = analyzer.analyze(text=d['full_text'],\n",
    "                           entities=[\"PHONE_NUMBER\", \"PERSON\", \"URL\", \"EMAIL_ADDRESS\"],\n",
    "                           language='en')\n",
    "    pre_preds = []\n",
    "    for r in results:\n",
    "        s = find_or_next_larger(d['start'], r.start)\n",
    "        end = r.end\n",
    "        word = d['full_text'][r.start:r.end]\n",
    "        end = end - count_trailing_whitespaces(word)\n",
    "        temp_preds = [s]\n",
    "        try:\n",
    "            while d['end'][s+1] <= end:\n",
    "                temp_preds.append(s+1)\n",
    "                s +=1\n",
    "        except:\n",
    "            pass\n",
    "        \n",
    "        if r.entity_type == 'PHONE_NUMBER':\n",
    "            label =  'PHONE_NUM'\n",
    "        if r.entity_type == 'PERSON':\n",
    "            label =  'NAME_STUDENT'\n",
    "        if r.entity_type == 'URL':\n",
    "            label = 'URL_PERSONAL'\n",
    "        if r.entity_type == 'EMAIL_ADDRESS':\n",
    "            label = \"EMAIL\"\n",
    "        for p in temp_preds:\n",
    "            if len(pre_preds) > 0:\n",
    "                if pre_preds[-1]['rlabel'] == r.entity_type and ((p - pre_preds[-1]['token'])==1):\n",
    "                    label_f = \"I-\"+label\n",
    "                else:\n",
    "                    label_f = \"B-\"+label\n",
    "            else:\n",
    "                label_f = \"B-\"+label\n",
    "            pre_preds.append(({\n",
    "#                     \"row_id\":i,\n",
    "                    \"document\":d['document'],\n",
    "                    \"token\":p,\n",
    "                    \"label\":label_f,\n",
    "                    \"rlabel\":r.entity_type\n",
    "                }))\n",
    "    preds.extend(pre_preds)"
   ]
  },
  {
   "cell_type": "markdown",
   "id": "0298262f",
   "metadata": {
    "papermill": {
     "duration": 0.0086,
     "end_time": "2024-01-20T21:11:01.459608",
     "exception": false,
     "start_time": "2024-01-20T21:11:01.451008",
     "status": "completed"
    },
    "tags": []
   },
   "source": [
    "# Submission"
   ]
  },
  {
   "cell_type": "code",
   "execution_count": 14,
   "id": "4f38fa49",
   "metadata": {
    "execution": {
     "iopub.execute_input": "2024-01-20T21:11:01.478632Z",
     "iopub.status.busy": "2024-01-20T21:11:01.478223Z",
     "iopub.status.idle": "2024-01-20T21:11:01.513567Z",
     "shell.execute_reply": "2024-01-20T21:11:01.512341Z"
    },
    "papermill": {
     "duration": 0.048238,
     "end_time": "2024-01-20T21:11:01.516179",
     "exception": false,
     "start_time": "2024-01-20T21:11:01.467941",
     "status": "completed"
    },
    "tags": []
   },
   "outputs": [
    {
     "data": {
      "text/html": [
       "<div>\n",
       "<style scoped>\n",
       "    .dataframe tbody tr th:only-of-type {\n",
       "        vertical-align: middle;\n",
       "    }\n",
       "\n",
       "    .dataframe tbody tr th {\n",
       "        vertical-align: top;\n",
       "    }\n",
       "\n",
       "    .dataframe thead th {\n",
       "        text-align: right;\n",
       "    }\n",
       "</style>\n",
       "<table border=\"1\" class=\"dataframe\">\n",
       "  <thead>\n",
       "    <tr style=\"text-align: right;\">\n",
       "      <th></th>\n",
       "      <th>row_id</th>\n",
       "      <th>document</th>\n",
       "      <th>token</th>\n",
       "      <th>label</th>\n",
       "    </tr>\n",
       "  </thead>\n",
       "  <tbody>\n",
       "    <tr>\n",
       "      <th>0</th>\n",
       "      <td>0</td>\n",
       "      <td>7</td>\n",
       "      <td>9</td>\n",
       "      <td>B-NAME_STUDENT</td>\n",
       "    </tr>\n",
       "    <tr>\n",
       "      <th>1</th>\n",
       "      <td>1</td>\n",
       "      <td>7</td>\n",
       "      <td>10</td>\n",
       "      <td>I-NAME_STUDENT</td>\n",
       "    </tr>\n",
       "    <tr>\n",
       "      <th>2</th>\n",
       "      <td>2</td>\n",
       "      <td>7</td>\n",
       "      <td>52</td>\n",
       "      <td>B-NAME_STUDENT</td>\n",
       "    </tr>\n",
       "    <tr>\n",
       "      <th>3</th>\n",
       "      <td>3</td>\n",
       "      <td>7</td>\n",
       "      <td>53</td>\n",
       "      <td>I-NAME_STUDENT</td>\n",
       "    </tr>\n",
       "    <tr>\n",
       "      <th>4</th>\n",
       "      <td>4</td>\n",
       "      <td>7</td>\n",
       "      <td>55</td>\n",
       "      <td>B-NAME_STUDENT</td>\n",
       "    </tr>\n",
       "    <tr>\n",
       "      <th>...</th>\n",
       "      <td>...</td>\n",
       "      <td>...</td>\n",
       "      <td>...</td>\n",
       "      <td>...</td>\n",
       "    </tr>\n",
       "    <tr>\n",
       "      <th>97</th>\n",
       "      <td>97</td>\n",
       "      <td>123</td>\n",
       "      <td>1591</td>\n",
       "      <td>B-URL_PERSONAL</td>\n",
       "    </tr>\n",
       "    <tr>\n",
       "      <th>98</th>\n",
       "      <td>98</td>\n",
       "      <td>123</td>\n",
       "      <td>1648</td>\n",
       "      <td>B-URL_PERSONAL</td>\n",
       "    </tr>\n",
       "    <tr>\n",
       "      <th>99</th>\n",
       "      <td>99</td>\n",
       "      <td>123</td>\n",
       "      <td>1690</td>\n",
       "      <td>B-URL_PERSONAL</td>\n",
       "    </tr>\n",
       "    <tr>\n",
       "      <th>100</th>\n",
       "      <td>100</td>\n",
       "      <td>123</td>\n",
       "      <td>1550</td>\n",
       "      <td>B-URL_PERSONAL</td>\n",
       "    </tr>\n",
       "    <tr>\n",
       "      <th>101</th>\n",
       "      <td>101</td>\n",
       "      <td>123</td>\n",
       "      <td>1691</td>\n",
       "      <td>B-URL_PERSONAL</td>\n",
       "    </tr>\n",
       "  </tbody>\n",
       "</table>\n",
       "<p>102 rows × 4 columns</p>\n",
       "</div>"
      ],
      "text/plain": [
       "     row_id  document  token           label\n",
       "0         0         7      9  B-NAME_STUDENT\n",
       "1         1         7     10  I-NAME_STUDENT\n",
       "2         2         7     52  B-NAME_STUDENT\n",
       "3         3         7     53  I-NAME_STUDENT\n",
       "4         4         7     55  B-NAME_STUDENT\n",
       "..      ...       ...    ...             ...\n",
       "97       97       123   1591  B-URL_PERSONAL\n",
       "98       98       123   1648  B-URL_PERSONAL\n",
       "99       99       123   1690  B-URL_PERSONAL\n",
       "100     100       123   1550  B-URL_PERSONAL\n",
       "101     101       123   1691  B-URL_PERSONAL\n",
       "\n",
       "[102 rows x 4 columns]"
      ]
     },
     "execution_count": 14,
     "metadata": {},
     "output_type": "execute_result"
    }
   ],
   "source": [
    "submission = pd.DataFrame(preds).iloc[:,:-1].reset_index()\n",
    "submission.columns = ['row_id','document', 'token', 'label']\n",
    "submission"
   ]
  },
  {
   "cell_type": "code",
   "execution_count": 15,
   "id": "36952478",
   "metadata": {
    "execution": {
     "iopub.execute_input": "2024-01-20T21:11:01.536156Z",
     "iopub.status.busy": "2024-01-20T21:11:01.535763Z",
     "iopub.status.idle": "2024-01-20T21:11:01.546164Z",
     "shell.execute_reply": "2024-01-20T21:11:01.545250Z"
    },
    "papermill": {
     "duration": 0.0241,
     "end_time": "2024-01-20T21:11:01.549097",
     "exception": false,
     "start_time": "2024-01-20T21:11:01.524997",
     "status": "completed"
    },
    "tags": []
   },
   "outputs": [],
   "source": [
    "submission.to_csv('submission.csv', index = False)"
   ]
  }
 ],
 "metadata": {
  "kaggle": {
   "accelerator": "none",
   "dataSources": [
    {
     "databundleVersionId": 7500999,
     "sourceId": 66653,
     "sourceType": "competition"
    },
    {
     "sourceId": 159367535,
     "sourceType": "kernelVersion"
    }
   ],
   "dockerImageVersionId": 30635,
   "isGpuEnabled": false,
   "isInternetEnabled": false,
   "language": "python",
   "sourceType": "notebook"
  },
  "kernelspec": {
   "display_name": "Python 3",
   "language": "python",
   "name": "python3"
  },
  "language_info": {
   "codemirror_mode": {
    "name": "ipython",
    "version": 3
   },
   "file_extension": ".py",
   "mimetype": "text/x-python",
   "name": "python",
   "nbconvert_exporter": "python",
   "pygments_lexer": "ipython3",
   "version": "3.10.12"
  },
  "papermill": {
   "default_parameters": {},
   "duration": 55.334954,
   "end_time": "2024-01-20T21:11:03.385927",
   "environment_variables": {},
   "exception": null,
   "input_path": "__notebook__.ipynb",
   "output_path": "__notebook__.ipynb",
   "parameters": {},
   "start_time": "2024-01-20T21:10:08.050973",
   "version": "2.4.0"
  },
  "widgets": {
   "application/vnd.jupyter.widget-state+json": {
    "state": {
     "001a9f9bb202457ba1f5887e10348b2f": {
      "model_module": "@jupyter-widgets/base",
      "model_module_version": "1.2.0",
      "model_name": "LayoutModel",
      "state": {
       "_model_module": "@jupyter-widgets/base",
       "_model_module_version": "1.2.0",
       "_model_name": "LayoutModel",
       "_view_count": null,
       "_view_module": "@jupyter-widgets/base",
       "_view_module_version": "1.2.0",
       "_view_name": "LayoutView",
       "align_content": null,
       "align_items": null,
       "align_self": null,
       "border": null,
       "bottom": null,
       "display": null,
       "flex": null,
       "flex_flow": null,
       "grid_area": null,
       "grid_auto_columns": null,
       "grid_auto_flow": null,
       "grid_auto_rows": null,
       "grid_column": null,
       "grid_gap": null,
       "grid_row": null,
       "grid_template_areas": null,
       "grid_template_columns": null,
       "grid_template_rows": null,
       "height": null,
       "justify_content": null,
       "justify_items": null,
       "left": null,
       "margin": null,
       "max_height": null,
       "max_width": null,
       "min_height": null,
       "min_width": null,
       "object_fit": null,
       "object_position": null,
       "order": null,
       "overflow": null,
       "overflow_x": null,
       "overflow_y": null,
       "padding": null,
       "right": null,
       "top": null,
       "visibility": null,
       "width": null
      }
     },
     "054693ea3446401786b1b9690bd0c87f": {
      "model_module": "@jupyter-widgets/controls",
      "model_module_version": "1.5.0",
      "model_name": "DescriptionStyleModel",
      "state": {
       "_model_module": "@jupyter-widgets/controls",
       "_model_module_version": "1.5.0",
       "_model_name": "DescriptionStyleModel",
       "_view_count": null,
       "_view_module": "@jupyter-widgets/base",
       "_view_module_version": "1.2.0",
       "_view_name": "StyleView",
       "description_width": ""
      }
     },
     "0653ab625c4f498e8e37e08788f65d40": {
      "model_module": "@jupyter-widgets/base",
      "model_module_version": "1.2.0",
      "model_name": "LayoutModel",
      "state": {
       "_model_module": "@jupyter-widgets/base",
       "_model_module_version": "1.2.0",
       "_model_name": "LayoutModel",
       "_view_count": null,
       "_view_module": "@jupyter-widgets/base",
       "_view_module_version": "1.2.0",
       "_view_name": "LayoutView",
       "align_content": null,
       "align_items": null,
       "align_self": null,
       "border": null,
       "bottom": null,
       "display": null,
       "flex": null,
       "flex_flow": null,
       "grid_area": null,
       "grid_auto_columns": null,
       "grid_auto_flow": null,
       "grid_auto_rows": null,
       "grid_column": null,
       "grid_gap": null,
       "grid_row": null,
       "grid_template_areas": null,
       "grid_template_columns": null,
       "grid_template_rows": null,
       "height": null,
       "justify_content": null,
       "justify_items": null,
       "left": null,
       "margin": null,
       "max_height": null,
       "max_width": null,
       "min_height": null,
       "min_width": null,
       "object_fit": null,
       "object_position": null,
       "order": null,
       "overflow": null,
       "overflow_x": null,
       "overflow_y": null,
       "padding": null,
       "right": null,
       "top": null,
       "visibility": null,
       "width": null
      }
     },
     "0b021b9d2206461ebe518abf4ecc4296": {
      "model_module": "@jupyter-widgets/base",
      "model_module_version": "1.2.0",
      "model_name": "LayoutModel",
      "state": {
       "_model_module": "@jupyter-widgets/base",
       "_model_module_version": "1.2.0",
       "_model_name": "LayoutModel",
       "_view_count": null,
       "_view_module": "@jupyter-widgets/base",
       "_view_module_version": "1.2.0",
       "_view_name": "LayoutView",
       "align_content": null,
       "align_items": null,
       "align_self": null,
       "border": null,
       "bottom": null,
       "display": null,
       "flex": null,
       "flex_flow": null,
       "grid_area": null,
       "grid_auto_columns": null,
       "grid_auto_flow": null,
       "grid_auto_rows": null,
       "grid_column": null,
       "grid_gap": null,
       "grid_row": null,
       "grid_template_areas": null,
       "grid_template_columns": null,
       "grid_template_rows": null,
       "height": null,
       "justify_content": null,
       "justify_items": null,
       "left": null,
       "margin": null,
       "max_height": null,
       "max_width": null,
       "min_height": null,
       "min_width": null,
       "object_fit": null,
       "object_position": null,
       "order": null,
       "overflow": null,
       "overflow_x": null,
       "overflow_y": null,
       "padding": null,
       "right": null,
       "top": null,
       "visibility": null,
       "width": null
      }
     },
     "0b960ca95f134b978738b6947547e7e5": {
      "model_module": "@jupyter-widgets/controls",
      "model_module_version": "1.5.0",
      "model_name": "HTMLModel",
      "state": {
       "_dom_classes": [],
       "_model_module": "@jupyter-widgets/controls",
       "_model_module_version": "1.5.0",
       "_model_name": "HTMLModel",
       "_view_count": null,
       "_view_module": "@jupyter-widgets/controls",
       "_view_module_version": "1.5.0",
       "_view_name": "HTMLView",
       "description": "",
       "description_tooltip": null,
       "layout": "IPY_MODEL_7891b8151f3747e88cfb71b59b67d785",
       "placeholder": "​",
       "style": "IPY_MODEL_bc4a13bca7e44b8d8f2f45f5422d8167",
       "value": "100%"
      }
     },
     "0be70ff74785453dbe66357f6caee9d3": {
      "model_module": "@jupyter-widgets/controls",
      "model_module_version": "1.5.0",
      "model_name": "HBoxModel",
      "state": {
       "_dom_classes": [],
       "_model_module": "@jupyter-widgets/controls",
       "_model_module_version": "1.5.0",
       "_model_name": "HBoxModel",
       "_view_count": null,
       "_view_module": "@jupyter-widgets/controls",
       "_view_module_version": "1.5.0",
       "_view_name": "HBoxView",
       "box_style": "",
       "children": [
        "IPY_MODEL_0b960ca95f134b978738b6947547e7e5",
        "IPY_MODEL_3f928e6d375148f98386192a2c6c2629",
        "IPY_MODEL_402a58fe8be04e4691b27dd30b3da6e3"
       ],
       "layout": "IPY_MODEL_239ab07f253f41cea5e91a27b4ae0ba4"
      }
     },
     "0e6cac8ea5a74b8996a365c8e156d14a": {
      "model_module": "@jupyter-widgets/controls",
      "model_module_version": "1.5.0",
      "model_name": "HTMLModel",
      "state": {
       "_dom_classes": [],
       "_model_module": "@jupyter-widgets/controls",
       "_model_module_version": "1.5.0",
       "_model_name": "HTMLModel",
       "_view_count": null,
       "_view_module": "@jupyter-widgets/controls",
       "_view_module_version": "1.5.0",
       "_view_name": "HTMLView",
       "description": "",
       "description_tooltip": null,
       "layout": "IPY_MODEL_8bc4cd2c81354f8faa58bf1f32c9dbd9",
       "placeholder": "​",
       "style": "IPY_MODEL_e60254318a2c4a39ab1c904e3b0a93cd",
       "value": "100%"
      }
     },
     "1a12688461c44802833b68be66e23b30": {
      "model_module": "@jupyter-widgets/controls",
      "model_module_version": "1.5.0",
      "model_name": "HBoxModel",
      "state": {
       "_dom_classes": [],
       "_model_module": "@jupyter-widgets/controls",
       "_model_module_version": "1.5.0",
       "_model_name": "HBoxModel",
       "_view_count": null,
       "_view_module": "@jupyter-widgets/controls",
       "_view_module_version": "1.5.0",
       "_view_name": "HBoxView",
       "box_style": "",
       "children": [
        "IPY_MODEL_0e6cac8ea5a74b8996a365c8e156d14a",
        "IPY_MODEL_8a14de41c2464623b71547f8983fc5ec",
        "IPY_MODEL_9eac75b4aeba491e8f95ba39452e3d85"
       ],
       "layout": "IPY_MODEL_33489077b2d5426486165721dd3bfad0"
      }
     },
     "1aa26acea0f7459d89ecef6f093234c1": {
      "model_module": "@jupyter-widgets/controls",
      "model_module_version": "1.5.0",
      "model_name": "ProgressStyleModel",
      "state": {
       "_model_module": "@jupyter-widgets/controls",
       "_model_module_version": "1.5.0",
       "_model_name": "ProgressStyleModel",
       "_view_count": null,
       "_view_module": "@jupyter-widgets/base",
       "_view_module_version": "1.2.0",
       "_view_name": "StyleView",
       "bar_color": null,
       "description_width": ""
      }
     },
     "239ab07f253f41cea5e91a27b4ae0ba4": {
      "model_module": "@jupyter-widgets/base",
      "model_module_version": "1.2.0",
      "model_name": "LayoutModel",
      "state": {
       "_model_module": "@jupyter-widgets/base",
       "_model_module_version": "1.2.0",
       "_model_name": "LayoutModel",
       "_view_count": null,
       "_view_module": "@jupyter-widgets/base",
       "_view_module_version": "1.2.0",
       "_view_name": "LayoutView",
       "align_content": null,
       "align_items": null,
       "align_self": null,
       "border": null,
       "bottom": null,
       "display": null,
       "flex": null,
       "flex_flow": null,
       "grid_area": null,
       "grid_auto_columns": null,
       "grid_auto_flow": null,
       "grid_auto_rows": null,
       "grid_column": null,
       "grid_gap": null,
       "grid_row": null,
       "grid_template_areas": null,
       "grid_template_columns": null,
       "grid_template_rows": null,
       "height": null,
       "justify_content": null,
       "justify_items": null,
       "left": null,
       "margin": null,
       "max_height": null,
       "max_width": null,
       "min_height": null,
       "min_width": null,
       "object_fit": null,
       "object_position": null,
       "order": null,
       "overflow": null,
       "overflow_x": null,
       "overflow_y": null,
       "padding": null,
       "right": null,
       "top": null,
       "visibility": null,
       "width": null
      }
     },
     "287b4da2f7434145826f448f64c39acb": {
      "model_module": "@jupyter-widgets/base",
      "model_module_version": "1.2.0",
      "model_name": "LayoutModel",
      "state": {
       "_model_module": "@jupyter-widgets/base",
       "_model_module_version": "1.2.0",
       "_model_name": "LayoutModel",
       "_view_count": null,
       "_view_module": "@jupyter-widgets/base",
       "_view_module_version": "1.2.0",
       "_view_name": "LayoutView",
       "align_content": null,
       "align_items": null,
       "align_self": null,
       "border": null,
       "bottom": null,
       "display": null,
       "flex": null,
       "flex_flow": null,
       "grid_area": null,
       "grid_auto_columns": null,
       "grid_auto_flow": null,
       "grid_auto_rows": null,
       "grid_column": null,
       "grid_gap": null,
       "grid_row": null,
       "grid_template_areas": null,
       "grid_template_columns": null,
       "grid_template_rows": null,
       "height": null,
       "justify_content": null,
       "justify_items": null,
       "left": null,
       "margin": null,
       "max_height": null,
       "max_width": null,
       "min_height": null,
       "min_width": null,
       "object_fit": null,
       "object_position": null,
       "order": null,
       "overflow": null,
       "overflow_x": null,
       "overflow_y": null,
       "padding": null,
       "right": null,
       "top": null,
       "visibility": null,
       "width": null
      }
     },
     "33489077b2d5426486165721dd3bfad0": {
      "model_module": "@jupyter-widgets/base",
      "model_module_version": "1.2.0",
      "model_name": "LayoutModel",
      "state": {
       "_model_module": "@jupyter-widgets/base",
       "_model_module_version": "1.2.0",
       "_model_name": "LayoutModel",
       "_view_count": null,
       "_view_module": "@jupyter-widgets/base",
       "_view_module_version": "1.2.0",
       "_view_name": "LayoutView",
       "align_content": null,
       "align_items": null,
       "align_self": null,
       "border": null,
       "bottom": null,
       "display": null,
       "flex": null,
       "flex_flow": null,
       "grid_area": null,
       "grid_auto_columns": null,
       "grid_auto_flow": null,
       "grid_auto_rows": null,
       "grid_column": null,
       "grid_gap": null,
       "grid_row": null,
       "grid_template_areas": null,
       "grid_template_columns": null,
       "grid_template_rows": null,
       "height": null,
       "justify_content": null,
       "justify_items": null,
       "left": null,
       "margin": null,
       "max_height": null,
       "max_width": null,
       "min_height": null,
       "min_width": null,
       "object_fit": null,
       "object_position": null,
       "order": null,
       "overflow": null,
       "overflow_x": null,
       "overflow_y": null,
       "padding": null,
       "right": null,
       "top": null,
       "visibility": null,
       "width": null
      }
     },
     "38c5d023932e4727a4139231d3a5f180": {
      "model_module": "@jupyter-widgets/base",
      "model_module_version": "1.2.0",
      "model_name": "LayoutModel",
      "state": {
       "_model_module": "@jupyter-widgets/base",
       "_model_module_version": "1.2.0",
       "_model_name": "LayoutModel",
       "_view_count": null,
       "_view_module": "@jupyter-widgets/base",
       "_view_module_version": "1.2.0",
       "_view_name": "LayoutView",
       "align_content": null,
       "align_items": null,
       "align_self": null,
       "border": null,
       "bottom": null,
       "display": null,
       "flex": null,
       "flex_flow": null,
       "grid_area": null,
       "grid_auto_columns": null,
       "grid_auto_flow": null,
       "grid_auto_rows": null,
       "grid_column": null,
       "grid_gap": null,
       "grid_row": null,
       "grid_template_areas": null,
       "grid_template_columns": null,
       "grid_template_rows": null,
       "height": null,
       "justify_content": null,
       "justify_items": null,
       "left": null,
       "margin": null,
       "max_height": null,
       "max_width": null,
       "min_height": null,
       "min_width": null,
       "object_fit": null,
       "object_position": null,
       "order": null,
       "overflow": null,
       "overflow_x": null,
       "overflow_y": null,
       "padding": null,
       "right": null,
       "top": null,
       "visibility": null,
       "width": null
      }
     },
     "3f928e6d375148f98386192a2c6c2629": {
      "model_module": "@jupyter-widgets/controls",
      "model_module_version": "1.5.0",
      "model_name": "FloatProgressModel",
      "state": {
       "_dom_classes": [],
       "_model_module": "@jupyter-widgets/controls",
       "_model_module_version": "1.5.0",
       "_model_name": "FloatProgressModel",
       "_view_count": null,
       "_view_module": "@jupyter-widgets/controls",
       "_view_module_version": "1.5.0",
       "_view_name": "ProgressView",
       "bar_style": "success",
       "description": "",
       "description_tooltip": null,
       "layout": "IPY_MODEL_ef475568e3494b03813eed047c48c412",
       "max": 10.0,
       "min": 0.0,
       "orientation": "horizontal",
       "style": "IPY_MODEL_b13c808e614d44858873a38e3a44daa9",
       "value": 10.0
      }
     },
     "402a58fe8be04e4691b27dd30b3da6e3": {
      "model_module": "@jupyter-widgets/controls",
      "model_module_version": "1.5.0",
      "model_name": "HTMLModel",
      "state": {
       "_dom_classes": [],
       "_model_module": "@jupyter-widgets/controls",
       "_model_module_version": "1.5.0",
       "_model_name": "HTMLModel",
       "_view_count": null,
       "_view_module": "@jupyter-widgets/controls",
       "_view_module_version": "1.5.0",
       "_view_name": "HTMLView",
       "description": "",
       "description_tooltip": null,
       "layout": "IPY_MODEL_c552e82997f647d1ae69fc1b3d6a4f84",
       "placeholder": "​",
       "style": "IPY_MODEL_fa88ee53d70d45deb842806187e8ecc6",
       "value": " 10/10 [00:01&lt;00:00,  4.88it/s]"
      }
     },
     "5f571f2839ed45e492780d2fa81b6465": {
      "model_module": "@jupyter-widgets/base",
      "model_module_version": "1.2.0",
      "model_name": "LayoutModel",
      "state": {
       "_model_module": "@jupyter-widgets/base",
       "_model_module_version": "1.2.0",
       "_model_name": "LayoutModel",
       "_view_count": null,
       "_view_module": "@jupyter-widgets/base",
       "_view_module_version": "1.2.0",
       "_view_name": "LayoutView",
       "align_content": null,
       "align_items": null,
       "align_self": null,
       "border": null,
       "bottom": null,
       "display": null,
       "flex": null,
       "flex_flow": null,
       "grid_area": null,
       "grid_auto_columns": null,
       "grid_auto_flow": null,
       "grid_auto_rows": null,
       "grid_column": null,
       "grid_gap": null,
       "grid_row": null,
       "grid_template_areas": null,
       "grid_template_columns": null,
       "grid_template_rows": null,
       "height": null,
       "justify_content": null,
       "justify_items": null,
       "left": null,
       "margin": null,
       "max_height": null,
       "max_width": null,
       "min_height": null,
       "min_width": null,
       "object_fit": null,
       "object_position": null,
       "order": null,
       "overflow": null,
       "overflow_x": null,
       "overflow_y": null,
       "padding": null,
       "right": null,
       "top": null,
       "visibility": null,
       "width": null
      }
     },
     "7891b8151f3747e88cfb71b59b67d785": {
      "model_module": "@jupyter-widgets/base",
      "model_module_version": "1.2.0",
      "model_name": "LayoutModel",
      "state": {
       "_model_module": "@jupyter-widgets/base",
       "_model_module_version": "1.2.0",
       "_model_name": "LayoutModel",
       "_view_count": null,
       "_view_module": "@jupyter-widgets/base",
       "_view_module_version": "1.2.0",
       "_view_name": "LayoutView",
       "align_content": null,
       "align_items": null,
       "align_self": null,
       "border": null,
       "bottom": null,
       "display": null,
       "flex": null,
       "flex_flow": null,
       "grid_area": null,
       "grid_auto_columns": null,
       "grid_auto_flow": null,
       "grid_auto_rows": null,
       "grid_column": null,
       "grid_gap": null,
       "grid_row": null,
       "grid_template_areas": null,
       "grid_template_columns": null,
       "grid_template_rows": null,
       "height": null,
       "justify_content": null,
       "justify_items": null,
       "left": null,
       "margin": null,
       "max_height": null,
       "max_width": null,
       "min_height": null,
       "min_width": null,
       "object_fit": null,
       "object_position": null,
       "order": null,
       "overflow": null,
       "overflow_x": null,
       "overflow_y": null,
       "padding": null,
       "right": null,
       "top": null,
       "visibility": null,
       "width": null
      }
     },
     "82a782799b0c4b3b9473316da25f7e6d": {
      "model_module": "@jupyter-widgets/controls",
      "model_module_version": "1.5.0",
      "model_name": "FloatProgressModel",
      "state": {
       "_dom_classes": [],
       "_model_module": "@jupyter-widgets/controls",
       "_model_module_version": "1.5.0",
       "_model_name": "FloatProgressModel",
       "_view_count": null,
       "_view_module": "@jupyter-widgets/controls",
       "_view_module_version": "1.5.0",
       "_view_name": "ProgressView",
       "bar_style": "success",
       "description": "",
       "description_tooltip": null,
       "layout": "IPY_MODEL_0b021b9d2206461ebe518abf4ecc4296",
       "max": 10.0,
       "min": 0.0,
       "orientation": "horizontal",
       "style": "IPY_MODEL_fd435ccb72e849af9bf1022f5fe5a4a4",
       "value": 10.0
      }
     },
     "84972e15a3734cf189c2f2cc8499e1aa": {
      "model_module": "@jupyter-widgets/controls",
      "model_module_version": "1.5.0",
      "model_name": "FloatProgressModel",
      "state": {
       "_dom_classes": [],
       "_model_module": "@jupyter-widgets/controls",
       "_model_module_version": "1.5.0",
       "_model_name": "FloatProgressModel",
       "_view_count": null,
       "_view_module": "@jupyter-widgets/controls",
       "_view_module_version": "1.5.0",
       "_view_name": "ProgressView",
       "bar_style": "success",
       "description": "",
       "description_tooltip": null,
       "layout": "IPY_MODEL_38c5d023932e4727a4139231d3a5f180",
       "max": 6807.0,
       "min": 0.0,
       "orientation": "horizontal",
       "style": "IPY_MODEL_1aa26acea0f7459d89ecef6f093234c1",
       "value": 6807.0
      }
     },
     "8a14de41c2464623b71547f8983fc5ec": {
      "model_module": "@jupyter-widgets/controls",
      "model_module_version": "1.5.0",
      "model_name": "FloatProgressModel",
      "state": {
       "_dom_classes": [],
       "_model_module": "@jupyter-widgets/controls",
       "_model_module_version": "1.5.0",
       "_model_name": "FloatProgressModel",
       "_view_count": null,
       "_view_module": "@jupyter-widgets/controls",
       "_view_module_version": "1.5.0",
       "_view_name": "ProgressView",
       "bar_style": "success",
       "description": "",
       "description_tooltip": null,
       "layout": "IPY_MODEL_a21307093bd049179f1aac2bcb4c0892",
       "max": 10.0,
       "min": 0.0,
       "orientation": "horizontal",
       "style": "IPY_MODEL_da85aa06e2524f1a8e1dfbef7e0efd16",
       "value": 10.0
      }
     },
     "8bc4cd2c81354f8faa58bf1f32c9dbd9": {
      "model_module": "@jupyter-widgets/base",
      "model_module_version": "1.2.0",
      "model_name": "LayoutModel",
      "state": {
       "_model_module": "@jupyter-widgets/base",
       "_model_module_version": "1.2.0",
       "_model_name": "LayoutModel",
       "_view_count": null,
       "_view_module": "@jupyter-widgets/base",
       "_view_module_version": "1.2.0",
       "_view_name": "LayoutView",
       "align_content": null,
       "align_items": null,
       "align_self": null,
       "border": null,
       "bottom": null,
       "display": null,
       "flex": null,
       "flex_flow": null,
       "grid_area": null,
       "grid_auto_columns": null,
       "grid_auto_flow": null,
       "grid_auto_rows": null,
       "grid_column": null,
       "grid_gap": null,
       "grid_row": null,
       "grid_template_areas": null,
       "grid_template_columns": null,
       "grid_template_rows": null,
       "height": null,
       "justify_content": null,
       "justify_items": null,
       "left": null,
       "margin": null,
       "max_height": null,
       "max_width": null,
       "min_height": null,
       "min_width": null,
       "object_fit": null,
       "object_position": null,
       "order": null,
       "overflow": null,
       "overflow_x": null,
       "overflow_y": null,
       "padding": null,
       "right": null,
       "top": null,
       "visibility": null,
       "width": null
      }
     },
     "9391bce8ea3f4d35b74f315ee06e30a9": {
      "model_module": "@jupyter-widgets/controls",
      "model_module_version": "1.5.0",
      "model_name": "HTMLModel",
      "state": {
       "_dom_classes": [],
       "_model_module": "@jupyter-widgets/controls",
       "_model_module_version": "1.5.0",
       "_model_name": "HTMLModel",
       "_view_count": null,
       "_view_module": "@jupyter-widgets/controls",
       "_view_module_version": "1.5.0",
       "_view_name": "HTMLView",
       "description": "",
       "description_tooltip": null,
       "layout": "IPY_MODEL_5f571f2839ed45e492780d2fa81b6465",
       "placeholder": "​",
       "style": "IPY_MODEL_af807dddb9074ce58ffa315c5aa1fff9",
       "value": " 6807/6807 [00:08&lt;00:00, 903.46it/s]"
      }
     },
     "9eac75b4aeba491e8f95ba39452e3d85": {
      "model_module": "@jupyter-widgets/controls",
      "model_module_version": "1.5.0",
      "model_name": "HTMLModel",
      "state": {
       "_dom_classes": [],
       "_model_module": "@jupyter-widgets/controls",
       "_model_module_version": "1.5.0",
       "_model_name": "HTMLModel",
       "_view_count": null,
       "_view_module": "@jupyter-widgets/controls",
       "_view_module_version": "1.5.0",
       "_view_name": "HTMLView",
       "description": "",
       "description_tooltip": null,
       "layout": "IPY_MODEL_287b4da2f7434145826f448f64c39acb",
       "placeholder": "​",
       "style": "IPY_MODEL_b231737f9dc640ad84d053daf6bbecd0",
       "value": " 10/10 [00:00&lt;00:00, 370.46it/s]"
      }
     },
     "a21307093bd049179f1aac2bcb4c0892": {
      "model_module": "@jupyter-widgets/base",
      "model_module_version": "1.2.0",
      "model_name": "LayoutModel",
      "state": {
       "_model_module": "@jupyter-widgets/base",
       "_model_module_version": "1.2.0",
       "_model_name": "LayoutModel",
       "_view_count": null,
       "_view_module": "@jupyter-widgets/base",
       "_view_module_version": "1.2.0",
       "_view_name": "LayoutView",
       "align_content": null,
       "align_items": null,
       "align_self": null,
       "border": null,
       "bottom": null,
       "display": null,
       "flex": null,
       "flex_flow": null,
       "grid_area": null,
       "grid_auto_columns": null,
       "grid_auto_flow": null,
       "grid_auto_rows": null,
       "grid_column": null,
       "grid_gap": null,
       "grid_row": null,
       "grid_template_areas": null,
       "grid_template_columns": null,
       "grid_template_rows": null,
       "height": null,
       "justify_content": null,
       "justify_items": null,
       "left": null,
       "margin": null,
       "max_height": null,
       "max_width": null,
       "min_height": null,
       "min_width": null,
       "object_fit": null,
       "object_position": null,
       "order": null,
       "overflow": null,
       "overflow_x": null,
       "overflow_y": null,
       "padding": null,
       "right": null,
       "top": null,
       "visibility": null,
       "width": null
      }
     },
     "af807dddb9074ce58ffa315c5aa1fff9": {
      "model_module": "@jupyter-widgets/controls",
      "model_module_version": "1.5.0",
      "model_name": "DescriptionStyleModel",
      "state": {
       "_model_module": "@jupyter-widgets/controls",
       "_model_module_version": "1.5.0",
       "_model_name": "DescriptionStyleModel",
       "_view_count": null,
       "_view_module": "@jupyter-widgets/base",
       "_view_module_version": "1.2.0",
       "_view_name": "StyleView",
       "description_width": ""
      }
     },
     "b13c808e614d44858873a38e3a44daa9": {
      "model_module": "@jupyter-widgets/controls",
      "model_module_version": "1.5.0",
      "model_name": "ProgressStyleModel",
      "state": {
       "_model_module": "@jupyter-widgets/controls",
       "_model_module_version": "1.5.0",
       "_model_name": "ProgressStyleModel",
       "_view_count": null,
       "_view_module": "@jupyter-widgets/base",
       "_view_module_version": "1.2.0",
       "_view_name": "StyleView",
       "bar_color": null,
       "description_width": ""
      }
     },
     "b231737f9dc640ad84d053daf6bbecd0": {
      "model_module": "@jupyter-widgets/controls",
      "model_module_version": "1.5.0",
      "model_name": "DescriptionStyleModel",
      "state": {
       "_model_module": "@jupyter-widgets/controls",
       "_model_module_version": "1.5.0",
       "_model_name": "DescriptionStyleModel",
       "_view_count": null,
       "_view_module": "@jupyter-widgets/base",
       "_view_module_version": "1.2.0",
       "_view_name": "StyleView",
       "description_width": ""
      }
     },
     "b387855a08fb456aba07b12e4de1cd8c": {
      "model_module": "@jupyter-widgets/controls",
      "model_module_version": "1.5.0",
      "model_name": "DescriptionStyleModel",
      "state": {
       "_model_module": "@jupyter-widgets/controls",
       "_model_module_version": "1.5.0",
       "_model_name": "DescriptionStyleModel",
       "_view_count": null,
       "_view_module": "@jupyter-widgets/base",
       "_view_module_version": "1.2.0",
       "_view_name": "StyleView",
       "description_width": ""
      }
     },
     "b51c2c9ad1b34d5182af65e829cf22e6": {
      "model_module": "@jupyter-widgets/controls",
      "model_module_version": "1.5.0",
      "model_name": "HTMLModel",
      "state": {
       "_dom_classes": [],
       "_model_module": "@jupyter-widgets/controls",
       "_model_module_version": "1.5.0",
       "_model_name": "HTMLModel",
       "_view_count": null,
       "_view_module": "@jupyter-widgets/controls",
       "_view_module_version": "1.5.0",
       "_view_name": "HTMLView",
       "description": "",
       "description_tooltip": null,
       "layout": "IPY_MODEL_e6459f25263b4966888dd4f7102a739d",
       "placeholder": "​",
       "style": "IPY_MODEL_b387855a08fb456aba07b12e4de1cd8c",
       "value": " 10/10 [00:02&lt;00:00,  4.27it/s]"
      }
     },
     "b8aa97e182c149768c24a482702ee829": {
      "model_module": "@jupyter-widgets/base",
      "model_module_version": "1.2.0",
      "model_name": "LayoutModel",
      "state": {
       "_model_module": "@jupyter-widgets/base",
       "_model_module_version": "1.2.0",
       "_model_name": "LayoutModel",
       "_view_count": null,
       "_view_module": "@jupyter-widgets/base",
       "_view_module_version": "1.2.0",
       "_view_name": "LayoutView",
       "align_content": null,
       "align_items": null,
       "align_self": null,
       "border": null,
       "bottom": null,
       "display": null,
       "flex": null,
       "flex_flow": null,
       "grid_area": null,
       "grid_auto_columns": null,
       "grid_auto_flow": null,
       "grid_auto_rows": null,
       "grid_column": null,
       "grid_gap": null,
       "grid_row": null,
       "grid_template_areas": null,
       "grid_template_columns": null,
       "grid_template_rows": null,
       "height": null,
       "justify_content": null,
       "justify_items": null,
       "left": null,
       "margin": null,
       "max_height": null,
       "max_width": null,
       "min_height": null,
       "min_width": null,
       "object_fit": null,
       "object_position": null,
       "order": null,
       "overflow": null,
       "overflow_x": null,
       "overflow_y": null,
       "padding": null,
       "right": null,
       "top": null,
       "visibility": null,
       "width": null
      }
     },
     "bc4a13bca7e44b8d8f2f45f5422d8167": {
      "model_module": "@jupyter-widgets/controls",
      "model_module_version": "1.5.0",
      "model_name": "DescriptionStyleModel",
      "state": {
       "_model_module": "@jupyter-widgets/controls",
       "_model_module_version": "1.5.0",
       "_model_name": "DescriptionStyleModel",
       "_view_count": null,
       "_view_module": "@jupyter-widgets/base",
       "_view_module_version": "1.2.0",
       "_view_name": "StyleView",
       "description_width": ""
      }
     },
     "c0c50a7575cf4edd892687a46b442cd8": {
      "model_module": "@jupyter-widgets/controls",
      "model_module_version": "1.5.0",
      "model_name": "HBoxModel",
      "state": {
       "_dom_classes": [],
       "_model_module": "@jupyter-widgets/controls",
       "_model_module_version": "1.5.0",
       "_model_name": "HBoxModel",
       "_view_count": null,
       "_view_module": "@jupyter-widgets/controls",
       "_view_module_version": "1.5.0",
       "_view_name": "HBoxView",
       "box_style": "",
       "children": [
        "IPY_MODEL_e2026025371347c98373ea7c7ee05300",
        "IPY_MODEL_84972e15a3734cf189c2f2cc8499e1aa",
        "IPY_MODEL_9391bce8ea3f4d35b74f315ee06e30a9"
       ],
       "layout": "IPY_MODEL_c8fb76651f334ac5b61fcb0d806d7106"
      }
     },
     "c552e82997f647d1ae69fc1b3d6a4f84": {
      "model_module": "@jupyter-widgets/base",
      "model_module_version": "1.2.0",
      "model_name": "LayoutModel",
      "state": {
       "_model_module": "@jupyter-widgets/base",
       "_model_module_version": "1.2.0",
       "_model_name": "LayoutModel",
       "_view_count": null,
       "_view_module": "@jupyter-widgets/base",
       "_view_module_version": "1.2.0",
       "_view_name": "LayoutView",
       "align_content": null,
       "align_items": null,
       "align_self": null,
       "border": null,
       "bottom": null,
       "display": null,
       "flex": null,
       "flex_flow": null,
       "grid_area": null,
       "grid_auto_columns": null,
       "grid_auto_flow": null,
       "grid_auto_rows": null,
       "grid_column": null,
       "grid_gap": null,
       "grid_row": null,
       "grid_template_areas": null,
       "grid_template_columns": null,
       "grid_template_rows": null,
       "height": null,
       "justify_content": null,
       "justify_items": null,
       "left": null,
       "margin": null,
       "max_height": null,
       "max_width": null,
       "min_height": null,
       "min_width": null,
       "object_fit": null,
       "object_position": null,
       "order": null,
       "overflow": null,
       "overflow_x": null,
       "overflow_y": null,
       "padding": null,
       "right": null,
       "top": null,
       "visibility": null,
       "width": null
      }
     },
     "c8fb76651f334ac5b61fcb0d806d7106": {
      "model_module": "@jupyter-widgets/base",
      "model_module_version": "1.2.0",
      "model_name": "LayoutModel",
      "state": {
       "_model_module": "@jupyter-widgets/base",
       "_model_module_version": "1.2.0",
       "_model_name": "LayoutModel",
       "_view_count": null,
       "_view_module": "@jupyter-widgets/base",
       "_view_module_version": "1.2.0",
       "_view_name": "LayoutView",
       "align_content": null,
       "align_items": null,
       "align_self": null,
       "border": null,
       "bottom": null,
       "display": null,
       "flex": null,
       "flex_flow": null,
       "grid_area": null,
       "grid_auto_columns": null,
       "grid_auto_flow": null,
       "grid_auto_rows": null,
       "grid_column": null,
       "grid_gap": null,
       "grid_row": null,
       "grid_template_areas": null,
       "grid_template_columns": null,
       "grid_template_rows": null,
       "height": null,
       "justify_content": null,
       "justify_items": null,
       "left": null,
       "margin": null,
       "max_height": null,
       "max_width": null,
       "min_height": null,
       "min_width": null,
       "object_fit": null,
       "object_position": null,
       "order": null,
       "overflow": null,
       "overflow_x": null,
       "overflow_y": null,
       "padding": null,
       "right": null,
       "top": null,
       "visibility": null,
       "width": null
      }
     },
     "cd9fdd552ade456fb0667faa5ea6fdb6": {
      "model_module": "@jupyter-widgets/controls",
      "model_module_version": "1.5.0",
      "model_name": "HTMLModel",
      "state": {
       "_dom_classes": [],
       "_model_module": "@jupyter-widgets/controls",
       "_model_module_version": "1.5.0",
       "_model_name": "HTMLModel",
       "_view_count": null,
       "_view_module": "@jupyter-widgets/controls",
       "_view_module_version": "1.5.0",
       "_view_name": "HTMLView",
       "description": "",
       "description_tooltip": null,
       "layout": "IPY_MODEL_001a9f9bb202457ba1f5887e10348b2f",
       "placeholder": "​",
       "style": "IPY_MODEL_ede84c9987cf49c3adb24311ddac34a9",
       "value": "100%"
      }
     },
     "da85aa06e2524f1a8e1dfbef7e0efd16": {
      "model_module": "@jupyter-widgets/controls",
      "model_module_version": "1.5.0",
      "model_name": "ProgressStyleModel",
      "state": {
       "_model_module": "@jupyter-widgets/controls",
       "_model_module_version": "1.5.0",
       "_model_name": "ProgressStyleModel",
       "_view_count": null,
       "_view_module": "@jupyter-widgets/base",
       "_view_module_version": "1.2.0",
       "_view_name": "StyleView",
       "bar_color": null,
       "description_width": ""
      }
     },
     "e0191db600194026a505115746db1baf": {
      "model_module": "@jupyter-widgets/controls",
      "model_module_version": "1.5.0",
      "model_name": "HBoxModel",
      "state": {
       "_dom_classes": [],
       "_model_module": "@jupyter-widgets/controls",
       "_model_module_version": "1.5.0",
       "_model_name": "HBoxModel",
       "_view_count": null,
       "_view_module": "@jupyter-widgets/controls",
       "_view_module_version": "1.5.0",
       "_view_name": "HBoxView",
       "box_style": "",
       "children": [
        "IPY_MODEL_cd9fdd552ade456fb0667faa5ea6fdb6",
        "IPY_MODEL_82a782799b0c4b3b9473316da25f7e6d",
        "IPY_MODEL_b51c2c9ad1b34d5182af65e829cf22e6"
       ],
       "layout": "IPY_MODEL_b8aa97e182c149768c24a482702ee829"
      }
     },
     "e2026025371347c98373ea7c7ee05300": {
      "model_module": "@jupyter-widgets/controls",
      "model_module_version": "1.5.0",
      "model_name": "HTMLModel",
      "state": {
       "_dom_classes": [],
       "_model_module": "@jupyter-widgets/controls",
       "_model_module_version": "1.5.0",
       "_model_name": "HTMLModel",
       "_view_count": null,
       "_view_module": "@jupyter-widgets/controls",
       "_view_module_version": "1.5.0",
       "_view_name": "HTMLView",
       "description": "",
       "description_tooltip": null,
       "layout": "IPY_MODEL_0653ab625c4f498e8e37e08788f65d40",
       "placeholder": "​",
       "style": "IPY_MODEL_054693ea3446401786b1b9690bd0c87f",
       "value": "100%"
      }
     },
     "e60254318a2c4a39ab1c904e3b0a93cd": {
      "model_module": "@jupyter-widgets/controls",
      "model_module_version": "1.5.0",
      "model_name": "DescriptionStyleModel",
      "state": {
       "_model_module": "@jupyter-widgets/controls",
       "_model_module_version": "1.5.0",
       "_model_name": "DescriptionStyleModel",
       "_view_count": null,
       "_view_module": "@jupyter-widgets/base",
       "_view_module_version": "1.2.0",
       "_view_name": "StyleView",
       "description_width": ""
      }
     },
     "e6459f25263b4966888dd4f7102a739d": {
      "model_module": "@jupyter-widgets/base",
      "model_module_version": "1.2.0",
      "model_name": "LayoutModel",
      "state": {
       "_model_module": "@jupyter-widgets/base",
       "_model_module_version": "1.2.0",
       "_model_name": "LayoutModel",
       "_view_count": null,
       "_view_module": "@jupyter-widgets/base",
       "_view_module_version": "1.2.0",
       "_view_name": "LayoutView",
       "align_content": null,
       "align_items": null,
       "align_self": null,
       "border": null,
       "bottom": null,
       "display": null,
       "flex": null,
       "flex_flow": null,
       "grid_area": null,
       "grid_auto_columns": null,
       "grid_auto_flow": null,
       "grid_auto_rows": null,
       "grid_column": null,
       "grid_gap": null,
       "grid_row": null,
       "grid_template_areas": null,
       "grid_template_columns": null,
       "grid_template_rows": null,
       "height": null,
       "justify_content": null,
       "justify_items": null,
       "left": null,
       "margin": null,
       "max_height": null,
       "max_width": null,
       "min_height": null,
       "min_width": null,
       "object_fit": null,
       "object_position": null,
       "order": null,
       "overflow": null,
       "overflow_x": null,
       "overflow_y": null,
       "padding": null,
       "right": null,
       "top": null,
       "visibility": null,
       "width": null
      }
     },
     "ede84c9987cf49c3adb24311ddac34a9": {
      "model_module": "@jupyter-widgets/controls",
      "model_module_version": "1.5.0",
      "model_name": "DescriptionStyleModel",
      "state": {
       "_model_module": "@jupyter-widgets/controls",
       "_model_module_version": "1.5.0",
       "_model_name": "DescriptionStyleModel",
       "_view_count": null,
       "_view_module": "@jupyter-widgets/base",
       "_view_module_version": "1.2.0",
       "_view_name": "StyleView",
       "description_width": ""
      }
     },
     "ef475568e3494b03813eed047c48c412": {
      "model_module": "@jupyter-widgets/base",
      "model_module_version": "1.2.0",
      "model_name": "LayoutModel",
      "state": {
       "_model_module": "@jupyter-widgets/base",
       "_model_module_version": "1.2.0",
       "_model_name": "LayoutModel",
       "_view_count": null,
       "_view_module": "@jupyter-widgets/base",
       "_view_module_version": "1.2.0",
       "_view_name": "LayoutView",
       "align_content": null,
       "align_items": null,
       "align_self": null,
       "border": null,
       "bottom": null,
       "display": null,
       "flex": null,
       "flex_flow": null,
       "grid_area": null,
       "grid_auto_columns": null,
       "grid_auto_flow": null,
       "grid_auto_rows": null,
       "grid_column": null,
       "grid_gap": null,
       "grid_row": null,
       "grid_template_areas": null,
       "grid_template_columns": null,
       "grid_template_rows": null,
       "height": null,
       "justify_content": null,
       "justify_items": null,
       "left": null,
       "margin": null,
       "max_height": null,
       "max_width": null,
       "min_height": null,
       "min_width": null,
       "object_fit": null,
       "object_position": null,
       "order": null,
       "overflow": null,
       "overflow_x": null,
       "overflow_y": null,
       "padding": null,
       "right": null,
       "top": null,
       "visibility": null,
       "width": null
      }
     },
     "fa88ee53d70d45deb842806187e8ecc6": {
      "model_module": "@jupyter-widgets/controls",
      "model_module_version": "1.5.0",
      "model_name": "DescriptionStyleModel",
      "state": {
       "_model_module": "@jupyter-widgets/controls",
       "_model_module_version": "1.5.0",
       "_model_name": "DescriptionStyleModel",
       "_view_count": null,
       "_view_module": "@jupyter-widgets/base",
       "_view_module_version": "1.2.0",
       "_view_name": "StyleView",
       "description_width": ""
      }
     },
     "fd435ccb72e849af9bf1022f5fe5a4a4": {
      "model_module": "@jupyter-widgets/controls",
      "model_module_version": "1.5.0",
      "model_name": "ProgressStyleModel",
      "state": {
       "_model_module": "@jupyter-widgets/controls",
       "_model_module_version": "1.5.0",
       "_model_name": "ProgressStyleModel",
       "_view_count": null,
       "_view_module": "@jupyter-widgets/base",
       "_view_module_version": "1.2.0",
       "_view_name": "StyleView",
       "bar_color": null,
       "description_width": ""
      }
     }
    },
    "version_major": 2,
    "version_minor": 0
   }
  }
 },
 "nbformat": 4,
 "nbformat_minor": 5
}
