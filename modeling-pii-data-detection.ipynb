{
 "cells": [
  {
   "cell_type": "markdown",
   "id": "6c9d5b37",
   "metadata": {
    "papermill": {
     "duration": 0.008618,
     "end_time": "2024-01-20T21:20:11.692717",
     "exception": false,
     "start_time": "2024-01-20T21:20:11.684099",
     "status": "completed"
    },
    "tags": []
   },
   "source": [
    "We will be using Presidio: a Microsoft framework for PII detection. Credit to pjmathematician for both the idea and the baseline code: https://www.kaggle.com/code/pjmathematician/pii-eda-presidio-baseline"
   ]
  },
  {
   "cell_type": "markdown",
   "id": "068aab60",
   "metadata": {
    "papermill": {
     "duration": 0.007849,
     "end_time": "2024-01-20T21:20:11.708488",
     "exception": false,
     "start_time": "2024-01-20T21:20:11.700639",
     "status": "completed"
    },
    "tags": []
   },
   "source": [
    "# Downloading and Loading Libraries"
   ]
  },
  {
   "cell_type": "code",
   "execution_count": 1,
   "id": "24c9178d",
   "metadata": {
    "execution": {
     "iopub.execute_input": "2024-01-20T21:20:11.726864Z",
     "iopub.status.busy": "2024-01-20T21:20:11.726419Z",
     "iopub.status.idle": "2024-01-20T21:20:34.134204Z",
     "shell.execute_reply": "2024-01-20T21:20:34.132171Z"
    },
    "papermill": {
     "duration": 22.420697,
     "end_time": "2024-01-20T21:20:34.137418",
     "exception": false,
     "start_time": "2024-01-20T21:20:11.716721",
     "status": "completed"
    },
    "tags": []
   },
   "outputs": [],
   "source": [
    "%%capture\n",
    "!pip install presidio_analyzer --no-index --find-links=file:///kaggle/input/presidio-wheels/presidio"
   ]
  },
  {
   "cell_type": "code",
   "execution_count": 2,
   "id": "23ee3f10",
   "metadata": {
    "_cell_guid": "b1076dfc-b9ad-4769-8c92-a6c4dae69d19",
    "_uuid": "8f2839f25d086af736a60e9eeb907d3b93b6e0e5",
    "execution": {
     "iopub.execute_input": "2024-01-20T21:20:34.156341Z",
     "iopub.status.busy": "2024-01-20T21:20:34.155352Z",
     "iopub.status.idle": "2024-01-20T21:20:40.807854Z",
     "shell.execute_reply": "2024-01-20T21:20:40.806806Z"
    },
    "papermill": {
     "duration": 6.664844,
     "end_time": "2024-01-20T21:20:40.810720",
     "exception": false,
     "start_time": "2024-01-20T21:20:34.145876",
     "status": "completed"
    },
    "tags": []
   },
   "outputs": [],
   "source": [
    "import json\n",
    "import pandas as pd\n",
    "from tqdm.auto import tqdm\n",
    "from presidio_analyzer import AnalyzerEngine, EntityRecognizer, PatternRecognizer, Pattern, RecognizerResult\n",
    "from presidio_analyzer.nlp_engine import NlpArtifacts\n",
    "from presidio_analyzer.recognizer_registry import RecognizerRegistry"
   ]
  },
  {
   "cell_type": "markdown",
   "id": "3c27ea9f",
   "metadata": {
    "papermill": {
     "duration": 0.007606,
     "end_time": "2024-01-20T21:20:40.826252",
     "exception": false,
     "start_time": "2024-01-20T21:20:40.818646",
     "status": "completed"
    },
    "tags": []
   },
   "source": [
    "# Loading Data"
   ]
  },
  {
   "cell_type": "code",
   "execution_count": 3,
   "id": "d30d6e5b",
   "metadata": {
    "execution": {
     "iopub.execute_input": "2024-01-20T21:20:40.844415Z",
     "iopub.status.busy": "2024-01-20T21:20:40.843241Z",
     "iopub.status.idle": "2024-01-20T21:20:43.995763Z",
     "shell.execute_reply": "2024-01-20T21:20:43.994731Z"
    },
    "papermill": {
     "duration": 3.164601,
     "end_time": "2024-01-20T21:20:43.998595",
     "exception": false,
     "start_time": "2024-01-20T21:20:40.833994",
     "status": "completed"
    },
    "tags": []
   },
   "outputs": [],
   "source": [
    "train = json.load(open('/kaggle/input/pii-detection-removal-from-educational-data/train.json'))\n",
    "test = json.load(open('/kaggle/input/pii-detection-removal-from-educational-data/test.json'))"
   ]
  },
  {
   "cell_type": "markdown",
   "id": "883e492b",
   "metadata": {
    "papermill": {
     "duration": 0.007623,
     "end_time": "2024-01-20T21:20:44.014974",
     "exception": false,
     "start_time": "2024-01-20T21:20:44.007351",
     "status": "completed"
    },
    "tags": []
   },
   "source": [
    "# Functions"
   ]
  },
  {
   "cell_type": "code",
   "execution_count": 4,
   "id": "b0967231",
   "metadata": {
    "execution": {
     "iopub.execute_input": "2024-01-20T21:20:44.032896Z",
     "iopub.status.busy": "2024-01-20T21:20:44.032157Z",
     "iopub.status.idle": "2024-01-20T21:20:44.039229Z",
     "shell.execute_reply": "2024-01-20T21:20:44.038289Z"
    },
    "papermill": {
     "duration": 0.019091,
     "end_time": "2024-01-20T21:20:44.041835",
     "exception": false,
     "start_time": "2024-01-20T21:20:44.022744",
     "status": "completed"
    },
    "tags": []
   },
   "outputs": [],
   "source": [
    "#Functions sourced from pjmathematician: https://www.kaggle.com/code/pjmathematician/pii-eda-presidio-baseline\n",
    "\n",
    "def tokens2index(row):\n",
    "    tokens  = row['tokens']\n",
    "    start_ind = []\n",
    "    end_ind = []\n",
    "    prev_ind = 0\n",
    "    for tok in tokens:\n",
    "        start = prev_ind + row['full_text'][prev_ind:].index(tok)\n",
    "        end = start+len(tok)\n",
    "        start_ind.append(start)\n",
    "        end_ind.append(end)\n",
    "        prev_ind = end\n",
    "    return start_ind, end_ind"
   ]
  },
  {
   "cell_type": "code",
   "execution_count": 5,
   "id": "0200c1d6",
   "metadata": {
    "execution": {
     "iopub.execute_input": "2024-01-20T21:20:44.059603Z",
     "iopub.status.busy": "2024-01-20T21:20:44.058907Z",
     "iopub.status.idle": "2024-01-20T21:20:44.067622Z",
     "shell.execute_reply": "2024-01-20T21:20:44.066542Z"
    },
    "papermill": {
     "duration": 0.02072,
     "end_time": "2024-01-20T21:20:44.070317",
     "exception": false,
     "start_time": "2024-01-20T21:20:44.049597",
     "status": "completed"
    },
    "tags": []
   },
   "outputs": [],
   "source": [
    "def find_or_next_larger(arr, target):\n",
    "    left, right = 0, len(arr) - 1\n",
    "\n",
    "    while left <= right:\n",
    "        mid = (left + right) // 2\n",
    "\n",
    "        if arr[mid] == target:\n",
    "            return mid\n",
    "        elif arr[mid] < target:\n",
    "            left = mid + 1\n",
    "        else:\n",
    "            right = mid - 1\n",
    "    return left"
   ]
  },
  {
   "cell_type": "code",
   "execution_count": 6,
   "id": "27aed674",
   "metadata": {
    "execution": {
     "iopub.execute_input": "2024-01-20T21:20:44.088424Z",
     "iopub.status.busy": "2024-01-20T21:20:44.087625Z",
     "iopub.status.idle": "2024-01-20T21:20:44.093537Z",
     "shell.execute_reply": "2024-01-20T21:20:44.092291Z"
    },
    "papermill": {
     "duration": 0.017848,
     "end_time": "2024-01-20T21:20:44.096207",
     "exception": false,
     "start_time": "2024-01-20T21:20:44.078359",
     "status": "completed"
    },
    "tags": []
   },
   "outputs": [],
   "source": [
    "def count_trailing_whitespaces(word):\n",
    "    return len(word) - len(word.rstrip())"
   ]
  },
  {
   "cell_type": "markdown",
   "id": "19aa36d2",
   "metadata": {
    "papermill": {
     "duration": 0.007516,
     "end_time": "2024-01-20T21:20:44.111515",
     "exception": false,
     "start_time": "2024-01-20T21:20:44.103999",
     "status": "completed"
    },
    "tags": []
   },
   "source": [
    "# Modeling"
   ]
  },
  {
   "cell_type": "code",
   "execution_count": 7,
   "id": "eabed553",
   "metadata": {
    "execution": {
     "iopub.execute_input": "2024-01-20T21:20:44.129923Z",
     "iopub.status.busy": "2024-01-20T21:20:44.129431Z",
     "iopub.status.idle": "2024-01-20T21:20:44.137539Z",
     "shell.execute_reply": "2024-01-20T21:20:44.136419Z"
    },
    "papermill": {
     "duration": 0.020447,
     "end_time": "2024-01-20T21:20:44.140136",
     "exception": false,
     "start_time": "2024-01-20T21:20:44.119689",
     "status": "completed"
    },
    "tags": []
   },
   "outputs": [],
   "source": [
    "#Credit to leonshangguan for the Pattern Recognizers: \n",
    "\n",
    "address_regex = r'\\b\\d+\\s+\\w+(\\s+\\w+)*\\s+((st(\\.)?)|(ave(\\.)?)|(rd(\\.)?)|(blvd(\\.)?)|(ln(\\.)?)|(ct(\\.)?)|(dr(\\.)?))\\b'\n",
    "address_pattern = Pattern(name=\"address\", regex=address_regex, score=0.5)\n",
    "address_recognizer = PatternRecognizer(supported_entity=\"ADDRESS_CUSTOM\", patterns = [address_pattern], context=[\"st\", \"Apt\"])\n",
    "\n",
    "email_regex = r'\\b[A-Za-z0-9._%+-]+@[A-Za-z0-9.-]+\\.[A-Z|a-z]{2,}\\b'\n",
    "email_pattern = Pattern(name=\"email address\", regex=email_regex, score=0.5)\n",
    "email_recognizer = PatternRecognizer(supported_entity=\"EMAIL_CUSTOM\", patterns = [email_pattern])\n",
    "\n",
    "url_regex = r'https?://\\S+|www\\.\\S+'\n",
    "url_pattern = Pattern(name=\"url\", regex=url_regex, score=0.5)\n",
    "url_recognizer = PatternRecognizer(supported_entity=\"URL_CUSTOM\", patterns = [url_pattern])"
   ]
  },
  {
   "cell_type": "code",
   "execution_count": 8,
   "id": "c56d4699",
   "metadata": {
    "execution": {
     "iopub.execute_input": "2024-01-20T21:20:44.157873Z",
     "iopub.status.busy": "2024-01-20T21:20:44.157432Z",
     "iopub.status.idle": "2024-01-20T21:20:44.166968Z",
     "shell.execute_reply": "2024-01-20T21:20:44.165838Z"
    },
    "papermill": {
     "duration": 0.021314,
     "end_time": "2024-01-20T21:20:44.169448",
     "exception": false,
     "start_time": "2024-01-20T21:20:44.148134",
     "status": "completed"
    },
    "tags": []
   },
   "outputs": [],
   "source": [
    "#Credit to Microsoft for the Numbers Recognizer, which can identify numbers within words like \"Fifty\":\n",
    "#https://microsoft.github.io/presidio/tutorial/03_rule_based/\n",
    "\n",
    "class NumbersRecognizer(EntityRecognizer):\n",
    "\n",
    "    expected_confidence_level = 0.7  # expected confidence level for this recognizer\n",
    "\n",
    "    def load(self) -> None:\n",
    "        \"\"\"No loading is required.\"\"\"\n",
    "        pass\n",
    "\n",
    "    def analyze(self, text: str, entities: list[str], nlp_artifacts: NlpArtifacts) -> list[RecognizerResult]:\n",
    "        \"\"\"\n",
    "        Analyzes test to find tokens which represent numbers (either 123 or One Two Three).\n",
    "        \"\"\"\n",
    "        results = []\n",
    "\n",
    "        # iterate over the spaCy tokens, and call `token.like_num`\n",
    "        for token in nlp_artifacts.tokens:\n",
    "            if token.like_num:\n",
    "                result = RecognizerResult(\n",
    "                    entity_type=\"NUMBER\",\n",
    "                    start=token.idx,\n",
    "                    end=token.idx + len(token),\n",
    "                    score=self.expected_confidence_level,\n",
    "                )\n",
    "                results.append(result)\n",
    "        return results\n",
    "\n",
    "new_numbers_recognizer = NumbersRecognizer(supported_entities=[\"NUMBER\"])"
   ]
  },
  {
   "cell_type": "code",
   "execution_count": 9,
   "id": "eb6e05da",
   "metadata": {
    "execution": {
     "iopub.execute_input": "2024-01-20T21:20:44.187644Z",
     "iopub.status.busy": "2024-01-20T21:20:44.186851Z",
     "iopub.status.idle": "2024-01-20T21:20:44.193442Z",
     "shell.execute_reply": "2024-01-20T21:20:44.192476Z"
    },
    "papermill": {
     "duration": 0.018522,
     "end_time": "2024-01-20T21:20:44.195953",
     "exception": false,
     "start_time": "2024-01-20T21:20:44.177431",
     "status": "completed"
    },
    "tags": []
   },
   "outputs": [],
   "source": [
    "registry = RecognizerRegistry()\n",
    "registry.load_predefined_recognizers()\n",
    "registry.add_recognizer(address_recognizer)\n",
    "registry.add_recognizer(email_recognizer)\n",
    "registry.add_recognizer(url_recognizer)\n",
    "registry.add_recognizer(new_numbers_recognizer)"
   ]
  },
  {
   "cell_type": "code",
   "execution_count": 10,
   "id": "12006fc9",
   "metadata": {
    "execution": {
     "iopub.execute_input": "2024-01-20T21:20:44.214006Z",
     "iopub.status.busy": "2024-01-20T21:20:44.213233Z",
     "iopub.status.idle": "2024-01-20T21:20:50.045463Z",
     "shell.execute_reply": "2024-01-20T21:20:50.044089Z"
    },
    "papermill": {
     "duration": 5.844415,
     "end_time": "2024-01-20T21:20:50.048314",
     "exception": false,
     "start_time": "2024-01-20T21:20:44.203899",
     "status": "completed"
    },
    "tags": []
   },
   "outputs": [],
   "source": [
    "analyzer = AnalyzerEngine(supported_languages=['en'], registry=registry)"
   ]
  },
  {
   "cell_type": "markdown",
   "id": "617091a3",
   "metadata": {
    "papermill": {
     "duration": 0.008163,
     "end_time": "2024-01-20T21:20:50.064431",
     "exception": false,
     "start_time": "2024-01-20T21:20:50.056268",
     "status": "completed"
    },
    "tags": []
   },
   "source": [
    "## Training"
   ]
  },
  {
   "cell_type": "code",
   "execution_count": 11,
   "id": "b8bca8b5",
   "metadata": {
    "execution": {
     "iopub.execute_input": "2024-01-20T21:20:50.082365Z",
     "iopub.status.busy": "2024-01-20T21:20:50.081908Z",
     "iopub.status.idle": "2024-01-20T21:21:01.003248Z",
     "shell.execute_reply": "2024-01-20T21:21:01.001893Z"
    },
    "papermill": {
     "duration": 10.933767,
     "end_time": "2024-01-20T21:21:01.006083",
     "exception": false,
     "start_time": "2024-01-20T21:20:50.072316",
     "status": "completed"
    },
    "tags": []
   },
   "outputs": [
    {
     "data": {
      "application/vnd.jupyter.widget-view+json": {
       "model_id": "31fef864a69242458dffc7d2f8349f31",
       "version_major": 2,
       "version_minor": 0
      },
      "text/plain": [
       "  0%|          | 0/6807 [00:00<?, ?it/s]"
      ]
     },
     "metadata": {},
     "output_type": "display_data"
    },
    {
     "data": {
      "application/vnd.jupyter.widget-view+json": {
       "model_id": "deff0f943e3d43d78840dfb38b169b2d",
       "version_major": 2,
       "version_minor": 0
      },
      "text/plain": [
       "  0%|          | 0/10 [00:00<?, ?it/s]"
      ]
     },
     "metadata": {},
     "output_type": "display_data"
    },
    {
     "name": "stdout",
     "output_type": "stream",
     "text": [
      "[9, 10] PERSON Nathalie Sylla\n",
      "\n",
      " 0.85\n",
      "[52, 53] PERSON Buzan T. 0.85\n",
      "[55, 56] PERSON Buzan B. 0.85\n",
      "[60, 61, 62, 63, 64] PERSON Dessine-moi  l'intelligence 0.85\n",
      "[482, 483] PERSON Nathalie Sylla 0.85\n",
      "[741, 742] PERSON Nathalie Sylla 0.85\n"
     ]
    }
   ],
   "source": [
    "preds = []\n",
    "\n",
    "for i in tqdm(range(len(train))):\n",
    "    start, end = tokens2index(train[i])\n",
    "    train[i]['start'] = start\n",
    "    train[i]['end'] = end\n",
    "\n",
    "for i, d in enumerate(tqdm(train[:10])):\n",
    "    results = analyzer.analyze(text=d['full_text'],\n",
    "                           entities=[\"PHONE_NUMBER\", \"PERSON\", \"URL\", \"EMAIL_ADDRESS\"],\n",
    "                           language='en')\n",
    "    pre_preds = []\n",
    "    for r in results:\n",
    "        s = find_or_next_larger(d['start'], r.start)\n",
    "        end = r.end\n",
    "        word = d['full_text'][r.start:r.end]\n",
    "        end = end - count_trailing_whitespaces(word)\n",
    "        temp_preds = [s]\n",
    "        try:\n",
    "            while d['end'][s+1] <= end:\n",
    "                temp_preds.append(s+1)\n",
    "                s +=1\n",
    "        except:\n",
    "            pass\n",
    "        if i==0:\n",
    "            print(temp_preds, r.entity_type, word,r.score)\n",
    "        \n",
    "        if r.entity_type == 'PHONE_NUMBER':\n",
    "            label =  'PHONE_NUM'\n",
    "        if r.entity_type == 'PERSON':\n",
    "            label =  'NAME_STUDENT'\n",
    "        if r.entity_type == 'URL':\n",
    "            label = 'URL_PERSONAL'\n",
    "        if r.entity_type == 'EMAIL_ADDRESS':\n",
    "            label = \"EMAIL\"\n",
    "        for p in temp_preds:\n",
    "            if len(pre_preds) > 0:\n",
    "                if pre_preds[-1]['rlabel'] == r.entity_type and ((p - pre_preds[-1]['token'])==1):\n",
    "                    label_f = \"I-\"+label\n",
    "                else:\n",
    "                    label_f = \"B-\"+label\n",
    "            else:\n",
    "                label_f = \"B-\"+label\n",
    "            pre_preds.append(({\n",
    "#                     \"row_id\":i,\n",
    "                    \"document\":d['document'],\n",
    "                    \"token\":p,\n",
    "                    \"label\":label_f,\n",
    "                    \"rlabel\":r.entity_type\n",
    "                }))\n",
    "    preds.extend(pre_preds)"
   ]
  },
  {
   "cell_type": "markdown",
   "id": "9c16386b",
   "metadata": {
    "papermill": {
     "duration": 0.008211,
     "end_time": "2024-01-20T21:21:01.022868",
     "exception": false,
     "start_time": "2024-01-20T21:21:01.014657",
     "status": "completed"
    },
    "tags": []
   },
   "source": [
    "## Testing"
   ]
  },
  {
   "cell_type": "code",
   "execution_count": 12,
   "id": "c995589d",
   "metadata": {
    "execution": {
     "iopub.execute_input": "2024-01-20T21:21:01.041493Z",
     "iopub.status.busy": "2024-01-20T21:21:01.041047Z",
     "iopub.status.idle": "2024-01-20T21:21:01.046029Z",
     "shell.execute_reply": "2024-01-20T21:21:01.044864Z"
    },
    "papermill": {
     "duration": 0.017436,
     "end_time": "2024-01-20T21:21:01.048711",
     "exception": false,
     "start_time": "2024-01-20T21:21:01.031275",
     "status": "completed"
    },
    "tags": []
   },
   "outputs": [],
   "source": [
    "preds = []"
   ]
  },
  {
   "cell_type": "code",
   "execution_count": 13,
   "id": "a0e7bc8d",
   "metadata": {
    "execution": {
     "iopub.execute_input": "2024-01-20T21:21:01.067946Z",
     "iopub.status.busy": "2024-01-20T21:21:01.067223Z",
     "iopub.status.idle": "2024-01-20T21:21:01.101228Z",
     "shell.execute_reply": "2024-01-20T21:21:01.100361Z"
    },
    "papermill": {
     "duration": 0.046186,
     "end_time": "2024-01-20T21:21:01.103315",
     "exception": false,
     "start_time": "2024-01-20T21:21:01.057129",
     "status": "completed"
    },
    "tags": []
   },
   "outputs": [
    {
     "data": {
      "application/vnd.jupyter.widget-view+json": {
       "model_id": "822f060fde604e27ac5f5ee1f3878d62",
       "version_major": 2,
       "version_minor": 0
      },
      "text/plain": [
       "  0%|          | 0/10 [00:00<?, ?it/s]"
      ]
     },
     "metadata": {},
     "output_type": "display_data"
    }
   ],
   "source": [
    "for i in tqdm(range(len(test))):\n",
    "    start, end = tokens2index(test[i])\n",
    "    test[i]['start'] = start\n",
    "    test[i]['end'] = end"
   ]
  },
  {
   "cell_type": "code",
   "execution_count": 14,
   "id": "889b4564",
   "metadata": {
    "execution": {
     "iopub.execute_input": "2024-01-20T21:21:01.123055Z",
     "iopub.status.busy": "2024-01-20T21:21:01.122228Z",
     "iopub.status.idle": "2024-01-20T21:21:03.033589Z",
     "shell.execute_reply": "2024-01-20T21:21:03.032693Z"
    },
    "papermill": {
     "duration": 1.923925,
     "end_time": "2024-01-20T21:21:03.035970",
     "exception": false,
     "start_time": "2024-01-20T21:21:01.112045",
     "status": "completed"
    },
    "tags": []
   },
   "outputs": [
    {
     "data": {
      "application/vnd.jupyter.widget-view+json": {
       "model_id": "ae2b6cc17e0941d4b19c6c41663e4c7e",
       "version_major": 2,
       "version_minor": 0
      },
      "text/plain": [
       "  0%|          | 0/10 [00:00<?, ?it/s]"
      ]
     },
     "metadata": {},
     "output_type": "display_data"
    }
   ],
   "source": [
    "for i, d in enumerate(tqdm(test)):\n",
    "    results = analyzer.analyze(text=d['full_text'],\n",
    "                           entities=[\"PHONE_NUMBER\", \"PERSON\", \"URL\", \"EMAIL_ADDRESS\"],\n",
    "                           language='en')\n",
    "    pre_preds = []\n",
    "    for r in results:\n",
    "        s = find_or_next_larger(d['start'], r.start)\n",
    "        end = r.end\n",
    "        word = d['full_text'][r.start:r.end]\n",
    "        end = end - count_trailing_whitespaces(word)\n",
    "        temp_preds = [s]\n",
    "        try:\n",
    "            while d['end'][s+1] <= end:\n",
    "                temp_preds.append(s+1)\n",
    "                s +=1\n",
    "        except:\n",
    "            pass\n",
    "        \n",
    "        if r.entity_type == 'PHONE_NUMBER':\n",
    "            label =  'PHONE_NUM'\n",
    "        if r.entity_type == 'PERSON':\n",
    "            label =  'NAME_STUDENT'\n",
    "        if r.entity_type == 'URL':\n",
    "            label = 'URL_PERSONAL'\n",
    "        if r.entity_type == 'EMAIL_ADDRESS':\n",
    "            label = \"EMAIL\"\n",
    "        for p in temp_preds:\n",
    "            if len(pre_preds) > 0:\n",
    "                if pre_preds[-1]['rlabel'] == r.entity_type and ((p - pre_preds[-1]['token'])==1):\n",
    "                    label_f = \"I-\"+label\n",
    "                else:\n",
    "                    label_f = \"B-\"+label\n",
    "            else:\n",
    "                label_f = \"B-\"+label\n",
    "            pre_preds.append(({\n",
    "#                     \"row_id\":i,\n",
    "                    \"document\":d['document'],\n",
    "                    \"token\":p,\n",
    "                    \"label\":label_f,\n",
    "                    \"rlabel\":r.entity_type\n",
    "                }))\n",
    "    preds.extend(pre_preds)"
   ]
  },
  {
   "cell_type": "markdown",
   "id": "d187cc4d",
   "metadata": {
    "papermill": {
     "duration": 0.009198,
     "end_time": "2024-01-20T21:21:03.054452",
     "exception": false,
     "start_time": "2024-01-20T21:21:03.045254",
     "status": "completed"
    },
    "tags": []
   },
   "source": [
    "# Submission"
   ]
  },
  {
   "cell_type": "code",
   "execution_count": 15,
   "id": "6506a061",
   "metadata": {
    "execution": {
     "iopub.execute_input": "2024-01-20T21:21:03.074662Z",
     "iopub.status.busy": "2024-01-20T21:21:03.073762Z",
     "iopub.status.idle": "2024-01-20T21:21:03.112847Z",
     "shell.execute_reply": "2024-01-20T21:21:03.111655Z"
    },
    "papermill": {
     "duration": 0.052318,
     "end_time": "2024-01-20T21:21:03.115567",
     "exception": false,
     "start_time": "2024-01-20T21:21:03.063249",
     "status": "completed"
    },
    "tags": []
   },
   "outputs": [
    {
     "data": {
      "text/html": [
       "<div>\n",
       "<style scoped>\n",
       "    .dataframe tbody tr th:only-of-type {\n",
       "        vertical-align: middle;\n",
       "    }\n",
       "\n",
       "    .dataframe tbody tr th {\n",
       "        vertical-align: top;\n",
       "    }\n",
       "\n",
       "    .dataframe thead th {\n",
       "        text-align: right;\n",
       "    }\n",
       "</style>\n",
       "<table border=\"1\" class=\"dataframe\">\n",
       "  <thead>\n",
       "    <tr style=\"text-align: right;\">\n",
       "      <th></th>\n",
       "      <th>row_id</th>\n",
       "      <th>document</th>\n",
       "      <th>token</th>\n",
       "      <th>label</th>\n",
       "    </tr>\n",
       "  </thead>\n",
       "  <tbody>\n",
       "    <tr>\n",
       "      <th>0</th>\n",
       "      <td>0</td>\n",
       "      <td>7</td>\n",
       "      <td>9</td>\n",
       "      <td>B-NAME_STUDENT</td>\n",
       "    </tr>\n",
       "    <tr>\n",
       "      <th>1</th>\n",
       "      <td>1</td>\n",
       "      <td>7</td>\n",
       "      <td>10</td>\n",
       "      <td>I-NAME_STUDENT</td>\n",
       "    </tr>\n",
       "    <tr>\n",
       "      <th>2</th>\n",
       "      <td>2</td>\n",
       "      <td>7</td>\n",
       "      <td>52</td>\n",
       "      <td>B-NAME_STUDENT</td>\n",
       "    </tr>\n",
       "    <tr>\n",
       "      <th>3</th>\n",
       "      <td>3</td>\n",
       "      <td>7</td>\n",
       "      <td>53</td>\n",
       "      <td>I-NAME_STUDENT</td>\n",
       "    </tr>\n",
       "    <tr>\n",
       "      <th>4</th>\n",
       "      <td>4</td>\n",
       "      <td>7</td>\n",
       "      <td>55</td>\n",
       "      <td>B-NAME_STUDENT</td>\n",
       "    </tr>\n",
       "    <tr>\n",
       "      <th>...</th>\n",
       "      <td>...</td>\n",
       "      <td>...</td>\n",
       "      <td>...</td>\n",
       "      <td>...</td>\n",
       "    </tr>\n",
       "    <tr>\n",
       "      <th>97</th>\n",
       "      <td>97</td>\n",
       "      <td>123</td>\n",
       "      <td>1591</td>\n",
       "      <td>B-URL_PERSONAL</td>\n",
       "    </tr>\n",
       "    <tr>\n",
       "      <th>98</th>\n",
       "      <td>98</td>\n",
       "      <td>123</td>\n",
       "      <td>1648</td>\n",
       "      <td>B-URL_PERSONAL</td>\n",
       "    </tr>\n",
       "    <tr>\n",
       "      <th>99</th>\n",
       "      <td>99</td>\n",
       "      <td>123</td>\n",
       "      <td>1690</td>\n",
       "      <td>B-URL_PERSONAL</td>\n",
       "    </tr>\n",
       "    <tr>\n",
       "      <th>100</th>\n",
       "      <td>100</td>\n",
       "      <td>123</td>\n",
       "      <td>1550</td>\n",
       "      <td>B-URL_PERSONAL</td>\n",
       "    </tr>\n",
       "    <tr>\n",
       "      <th>101</th>\n",
       "      <td>101</td>\n",
       "      <td>123</td>\n",
       "      <td>1691</td>\n",
       "      <td>B-URL_PERSONAL</td>\n",
       "    </tr>\n",
       "  </tbody>\n",
       "</table>\n",
       "<p>102 rows × 4 columns</p>\n",
       "</div>"
      ],
      "text/plain": [
       "     row_id  document  token           label\n",
       "0         0         7      9  B-NAME_STUDENT\n",
       "1         1         7     10  I-NAME_STUDENT\n",
       "2         2         7     52  B-NAME_STUDENT\n",
       "3         3         7     53  I-NAME_STUDENT\n",
       "4         4         7     55  B-NAME_STUDENT\n",
       "..      ...       ...    ...             ...\n",
       "97       97       123   1591  B-URL_PERSONAL\n",
       "98       98       123   1648  B-URL_PERSONAL\n",
       "99       99       123   1690  B-URL_PERSONAL\n",
       "100     100       123   1550  B-URL_PERSONAL\n",
       "101     101       123   1691  B-URL_PERSONAL\n",
       "\n",
       "[102 rows x 4 columns]"
      ]
     },
     "execution_count": 15,
     "metadata": {},
     "output_type": "execute_result"
    }
   ],
   "source": [
    "submission = pd.DataFrame(preds).iloc[:,:-1].reset_index()\n",
    "submission.columns = ['row_id','document', 'token', 'label']\n",
    "submission"
   ]
  },
  {
   "cell_type": "code",
   "execution_count": 16,
   "id": "03788f34",
   "metadata": {
    "execution": {
     "iopub.execute_input": "2024-01-20T21:21:03.136921Z",
     "iopub.status.busy": "2024-01-20T21:21:03.136187Z",
     "iopub.status.idle": "2024-01-20T21:21:03.147744Z",
     "shell.execute_reply": "2024-01-20T21:21:03.146145Z"
    },
    "papermill": {
     "duration": 0.025259,
     "end_time": "2024-01-20T21:21:03.150489",
     "exception": false,
     "start_time": "2024-01-20T21:21:03.125230",
     "status": "completed"
    },
    "tags": []
   },
   "outputs": [],
   "source": [
    "submission.to_csv('submission.csv', index = False)"
   ]
  }
 ],
 "metadata": {
  "kaggle": {
   "accelerator": "none",
   "dataSources": [
    {
     "databundleVersionId": 7500999,
     "sourceId": 66653,
     "sourceType": "competition"
    },
    {
     "sourceId": 159367535,
     "sourceType": "kernelVersion"
    }
   ],
   "dockerImageVersionId": 30635,
   "isGpuEnabled": false,
   "isInternetEnabled": false,
   "language": "python",
   "sourceType": "notebook"
  },
  "kernelspec": {
   "display_name": "Python 3",
   "language": "python",
   "name": "python3"
  },
  "language_info": {
   "codemirror_mode": {
    "name": "ipython",
    "version": 3
   },
   "file_extension": ".py",
   "mimetype": "text/x-python",
   "name": "python",
   "nbconvert_exporter": "python",
   "pygments_lexer": "ipython3",
   "version": "3.10.12"
  },
  "papermill": {
   "default_parameters": {},
   "duration": 57.085213,
   "end_time": "2024-01-20T21:21:05.188844",
   "environment_variables": {},
   "exception": null,
   "input_path": "__notebook__.ipynb",
   "output_path": "__notebook__.ipynb",
   "parameters": {},
   "start_time": "2024-01-20T21:20:08.103631",
   "version": "2.4.0"
  },
  "widgets": {
   "application/vnd.jupyter.widget-state+json": {
    "state": {
     "0b0f2e2f7e78421faf29880dcdb7fe21": {
      "model_module": "@jupyter-widgets/controls",
      "model_module_version": "1.5.0",
      "model_name": "DescriptionStyleModel",
      "state": {
       "_model_module": "@jupyter-widgets/controls",
       "_model_module_version": "1.5.0",
       "_model_name": "DescriptionStyleModel",
       "_view_count": null,
       "_view_module": "@jupyter-widgets/base",
       "_view_module_version": "1.2.0",
       "_view_name": "StyleView",
       "description_width": ""
      }
     },
     "1028bd986dc84808bc3f0ff6281c66b1": {
      "model_module": "@jupyter-widgets/controls",
      "model_module_version": "1.5.0",
      "model_name": "FloatProgressModel",
      "state": {
       "_dom_classes": [],
       "_model_module": "@jupyter-widgets/controls",
       "_model_module_version": "1.5.0",
       "_model_name": "FloatProgressModel",
       "_view_count": null,
       "_view_module": "@jupyter-widgets/controls",
       "_view_module_version": "1.5.0",
       "_view_name": "ProgressView",
       "bar_style": "success",
       "description": "",
       "description_tooltip": null,
       "layout": "IPY_MODEL_b4aef989e3c04b9492b488be53d98921",
       "max": 10.0,
       "min": 0.0,
       "orientation": "horizontal",
       "style": "IPY_MODEL_94f86268de6848ce825d1dec68a46ab6",
       "value": 10.0
      }
     },
     "1a142aec53594809ac3f4dae71642ca6": {
      "model_module": "@jupyter-widgets/controls",
      "model_module_version": "1.5.0",
      "model_name": "HTMLModel",
      "state": {
       "_dom_classes": [],
       "_model_module": "@jupyter-widgets/controls",
       "_model_module_version": "1.5.0",
       "_model_name": "HTMLModel",
       "_view_count": null,
       "_view_module": "@jupyter-widgets/controls",
       "_view_module_version": "1.5.0",
       "_view_name": "HTMLView",
       "description": "",
       "description_tooltip": null,
       "layout": "IPY_MODEL_58df48674f6b42988f8d18fa66099ef6",
       "placeholder": "​",
       "style": "IPY_MODEL_f56d018f9f65454c9f55cb014f4f7c64",
       "value": "100%"
      }
     },
     "2b2541a85fac4eeeaac6d8c27092c1f9": {
      "model_module": "@jupyter-widgets/base",
      "model_module_version": "1.2.0",
      "model_name": "LayoutModel",
      "state": {
       "_model_module": "@jupyter-widgets/base",
       "_model_module_version": "1.2.0",
       "_model_name": "LayoutModel",
       "_view_count": null,
       "_view_module": "@jupyter-widgets/base",
       "_view_module_version": "1.2.0",
       "_view_name": "LayoutView",
       "align_content": null,
       "align_items": null,
       "align_self": null,
       "border": null,
       "bottom": null,
       "display": null,
       "flex": null,
       "flex_flow": null,
       "grid_area": null,
       "grid_auto_columns": null,
       "grid_auto_flow": null,
       "grid_auto_rows": null,
       "grid_column": null,
       "grid_gap": null,
       "grid_row": null,
       "grid_template_areas": null,
       "grid_template_columns": null,
       "grid_template_rows": null,
       "height": null,
       "justify_content": null,
       "justify_items": null,
       "left": null,
       "margin": null,
       "max_height": null,
       "max_width": null,
       "min_height": null,
       "min_width": null,
       "object_fit": null,
       "object_position": null,
       "order": null,
       "overflow": null,
       "overflow_x": null,
       "overflow_y": null,
       "padding": null,
       "right": null,
       "top": null,
       "visibility": null,
       "width": null
      }
     },
     "31fef864a69242458dffc7d2f8349f31": {
      "model_module": "@jupyter-widgets/controls",
      "model_module_version": "1.5.0",
      "model_name": "HBoxModel",
      "state": {
       "_dom_classes": [],
       "_model_module": "@jupyter-widgets/controls",
       "_model_module_version": "1.5.0",
       "_model_name": "HBoxModel",
       "_view_count": null,
       "_view_module": "@jupyter-widgets/controls",
       "_view_module_version": "1.5.0",
       "_view_name": "HBoxView",
       "box_style": "",
       "children": [
        "IPY_MODEL_725161b3a4754bd98964e847eb9874fe",
        "IPY_MODEL_e858a4ac0a464fba8cc38d5c6706e3f0",
        "IPY_MODEL_80b58c48cfbd47b786e5940e646513a0"
       ],
       "layout": "IPY_MODEL_2b2541a85fac4eeeaac6d8c27092c1f9"
      }
     },
     "347349c98a35427fb61d90e979e7b146": {
      "model_module": "@jupyter-widgets/controls",
      "model_module_version": "1.5.0",
      "model_name": "DescriptionStyleModel",
      "state": {
       "_model_module": "@jupyter-widgets/controls",
       "_model_module_version": "1.5.0",
       "_model_name": "DescriptionStyleModel",
       "_view_count": null,
       "_view_module": "@jupyter-widgets/base",
       "_view_module_version": "1.2.0",
       "_view_name": "StyleView",
       "description_width": ""
      }
     },
     "3c741b82a0eb4674bbfe9882ae49575b": {
      "model_module": "@jupyter-widgets/controls",
      "model_module_version": "1.5.0",
      "model_name": "HTMLModel",
      "state": {
       "_dom_classes": [],
       "_model_module": "@jupyter-widgets/controls",
       "_model_module_version": "1.5.0",
       "_model_name": "HTMLModel",
       "_view_count": null,
       "_view_module": "@jupyter-widgets/controls",
       "_view_module_version": "1.5.0",
       "_view_name": "HTMLView",
       "description": "",
       "description_tooltip": null,
       "layout": "IPY_MODEL_e72dc514830943d884a3e6afbe0255b3",
       "placeholder": "​",
       "style": "IPY_MODEL_8b02c0c4dfac42df8bf466bede5e0102",
       "value": " 10/10 [00:00&lt;00:00, 386.02it/s]"
      }
     },
     "3dc91751b657466eaa13400b7a95f256": {
      "model_module": "@jupyter-widgets/base",
      "model_module_version": "1.2.0",
      "model_name": "LayoutModel",
      "state": {
       "_model_module": "@jupyter-widgets/base",
       "_model_module_version": "1.2.0",
       "_model_name": "LayoutModel",
       "_view_count": null,
       "_view_module": "@jupyter-widgets/base",
       "_view_module_version": "1.2.0",
       "_view_name": "LayoutView",
       "align_content": null,
       "align_items": null,
       "align_self": null,
       "border": null,
       "bottom": null,
       "display": null,
       "flex": null,
       "flex_flow": null,
       "grid_area": null,
       "grid_auto_columns": null,
       "grid_auto_flow": null,
       "grid_auto_rows": null,
       "grid_column": null,
       "grid_gap": null,
       "grid_row": null,
       "grid_template_areas": null,
       "grid_template_columns": null,
       "grid_template_rows": null,
       "height": null,
       "justify_content": null,
       "justify_items": null,
       "left": null,
       "margin": null,
       "max_height": null,
       "max_width": null,
       "min_height": null,
       "min_width": null,
       "object_fit": null,
       "object_position": null,
       "order": null,
       "overflow": null,
       "overflow_x": null,
       "overflow_y": null,
       "padding": null,
       "right": null,
       "top": null,
       "visibility": null,
       "width": null
      }
     },
     "4262bbce5c8147d2bac9499ad89b108a": {
      "model_module": "@jupyter-widgets/controls",
      "model_module_version": "1.5.0",
      "model_name": "HTMLModel",
      "state": {
       "_dom_classes": [],
       "_model_module": "@jupyter-widgets/controls",
       "_model_module_version": "1.5.0",
       "_model_name": "HTMLModel",
       "_view_count": null,
       "_view_module": "@jupyter-widgets/controls",
       "_view_module_version": "1.5.0",
       "_view_name": "HTMLView",
       "description": "",
       "description_tooltip": null,
       "layout": "IPY_MODEL_72a4452f207e4d31ad90e72202c85c3a",
       "placeholder": "​",
       "style": "IPY_MODEL_56dca99344a74d2b91b19ef1ec6aabea",
       "value": "100%"
      }
     },
     "455a634e6bdb4b36aea772340a01e063": {
      "model_module": "@jupyter-widgets/base",
      "model_module_version": "1.2.0",
      "model_name": "LayoutModel",
      "state": {
       "_model_module": "@jupyter-widgets/base",
       "_model_module_version": "1.2.0",
       "_model_name": "LayoutModel",
       "_view_count": null,
       "_view_module": "@jupyter-widgets/base",
       "_view_module_version": "1.2.0",
       "_view_name": "LayoutView",
       "align_content": null,
       "align_items": null,
       "align_self": null,
       "border": null,
       "bottom": null,
       "display": null,
       "flex": null,
       "flex_flow": null,
       "grid_area": null,
       "grid_auto_columns": null,
       "grid_auto_flow": null,
       "grid_auto_rows": null,
       "grid_column": null,
       "grid_gap": null,
       "grid_row": null,
       "grid_template_areas": null,
       "grid_template_columns": null,
       "grid_template_rows": null,
       "height": null,
       "justify_content": null,
       "justify_items": null,
       "left": null,
       "margin": null,
       "max_height": null,
       "max_width": null,
       "min_height": null,
       "min_width": null,
       "object_fit": null,
       "object_position": null,
       "order": null,
       "overflow": null,
       "overflow_x": null,
       "overflow_y": null,
       "padding": null,
       "right": null,
       "top": null,
       "visibility": null,
       "width": null
      }
     },
     "4bd971614ed2443880339182a060bb65": {
      "model_module": "@jupyter-widgets/controls",
      "model_module_version": "1.5.0",
      "model_name": "HTMLModel",
      "state": {
       "_dom_classes": [],
       "_model_module": "@jupyter-widgets/controls",
       "_model_module_version": "1.5.0",
       "_model_name": "HTMLModel",
       "_view_count": null,
       "_view_module": "@jupyter-widgets/controls",
       "_view_module_version": "1.5.0",
       "_view_name": "HTMLView",
       "description": "",
       "description_tooltip": null,
       "layout": "IPY_MODEL_7218df1fb1df4e7ab2a6e5efe5ddfcf1",
       "placeholder": "​",
       "style": "IPY_MODEL_347349c98a35427fb61d90e979e7b146",
       "value": "100%"
      }
     },
     "4fcfe21fc3354e60b3082fa721f0d7cf": {
      "model_module": "@jupyter-widgets/controls",
      "model_module_version": "1.5.0",
      "model_name": "ProgressStyleModel",
      "state": {
       "_model_module": "@jupyter-widgets/controls",
       "_model_module_version": "1.5.0",
       "_model_name": "ProgressStyleModel",
       "_view_count": null,
       "_view_module": "@jupyter-widgets/base",
       "_view_module_version": "1.2.0",
       "_view_name": "StyleView",
       "bar_color": null,
       "description_width": ""
      }
     },
     "513ef1f0605a44e6b26819bdb5228ac3": {
      "model_module": "@jupyter-widgets/base",
      "model_module_version": "1.2.0",
      "model_name": "LayoutModel",
      "state": {
       "_model_module": "@jupyter-widgets/base",
       "_model_module_version": "1.2.0",
       "_model_name": "LayoutModel",
       "_view_count": null,
       "_view_module": "@jupyter-widgets/base",
       "_view_module_version": "1.2.0",
       "_view_name": "LayoutView",
       "align_content": null,
       "align_items": null,
       "align_self": null,
       "border": null,
       "bottom": null,
       "display": null,
       "flex": null,
       "flex_flow": null,
       "grid_area": null,
       "grid_auto_columns": null,
       "grid_auto_flow": null,
       "grid_auto_rows": null,
       "grid_column": null,
       "grid_gap": null,
       "grid_row": null,
       "grid_template_areas": null,
       "grid_template_columns": null,
       "grid_template_rows": null,
       "height": null,
       "justify_content": null,
       "justify_items": null,
       "left": null,
       "margin": null,
       "max_height": null,
       "max_width": null,
       "min_height": null,
       "min_width": null,
       "object_fit": null,
       "object_position": null,
       "order": null,
       "overflow": null,
       "overflow_x": null,
       "overflow_y": null,
       "padding": null,
       "right": null,
       "top": null,
       "visibility": null,
       "width": null
      }
     },
     "56dca99344a74d2b91b19ef1ec6aabea": {
      "model_module": "@jupyter-widgets/controls",
      "model_module_version": "1.5.0",
      "model_name": "DescriptionStyleModel",
      "state": {
       "_model_module": "@jupyter-widgets/controls",
       "_model_module_version": "1.5.0",
       "_model_name": "DescriptionStyleModel",
       "_view_count": null,
       "_view_module": "@jupyter-widgets/base",
       "_view_module_version": "1.2.0",
       "_view_name": "StyleView",
       "description_width": ""
      }
     },
     "58df48674f6b42988f8d18fa66099ef6": {
      "model_module": "@jupyter-widgets/base",
      "model_module_version": "1.2.0",
      "model_name": "LayoutModel",
      "state": {
       "_model_module": "@jupyter-widgets/base",
       "_model_module_version": "1.2.0",
       "_model_name": "LayoutModel",
       "_view_count": null,
       "_view_module": "@jupyter-widgets/base",
       "_view_module_version": "1.2.0",
       "_view_name": "LayoutView",
       "align_content": null,
       "align_items": null,
       "align_self": null,
       "border": null,
       "bottom": null,
       "display": null,
       "flex": null,
       "flex_flow": null,
       "grid_area": null,
       "grid_auto_columns": null,
       "grid_auto_flow": null,
       "grid_auto_rows": null,
       "grid_column": null,
       "grid_gap": null,
       "grid_row": null,
       "grid_template_areas": null,
       "grid_template_columns": null,
       "grid_template_rows": null,
       "height": null,
       "justify_content": null,
       "justify_items": null,
       "left": null,
       "margin": null,
       "max_height": null,
       "max_width": null,
       "min_height": null,
       "min_width": null,
       "object_fit": null,
       "object_position": null,
       "order": null,
       "overflow": null,
       "overflow_x": null,
       "overflow_y": null,
       "padding": null,
       "right": null,
       "top": null,
       "visibility": null,
       "width": null
      }
     },
     "66dd4a10bd214f46b299f8c2b55493ac": {
      "model_module": "@jupyter-widgets/controls",
      "model_module_version": "1.5.0",
      "model_name": "HTMLModel",
      "state": {
       "_dom_classes": [],
       "_model_module": "@jupyter-widgets/controls",
       "_model_module_version": "1.5.0",
       "_model_name": "HTMLModel",
       "_view_count": null,
       "_view_module": "@jupyter-widgets/controls",
       "_view_module_version": "1.5.0",
       "_view_name": "HTMLView",
       "description": "",
       "description_tooltip": null,
       "layout": "IPY_MODEL_9f99094e945940df85755a3fa1d97a59",
       "placeholder": "​",
       "style": "IPY_MODEL_9bb06fe809054130a1c459908a09f279",
       "value": " 10/10 [00:02&lt;00:00,  4.04it/s]"
      }
     },
     "6e31267784b948cc9914b11bb6bdfe8d": {
      "model_module": "@jupyter-widgets/base",
      "model_module_version": "1.2.0",
      "model_name": "LayoutModel",
      "state": {
       "_model_module": "@jupyter-widgets/base",
       "_model_module_version": "1.2.0",
       "_model_name": "LayoutModel",
       "_view_count": null,
       "_view_module": "@jupyter-widgets/base",
       "_view_module_version": "1.2.0",
       "_view_name": "LayoutView",
       "align_content": null,
       "align_items": null,
       "align_self": null,
       "border": null,
       "bottom": null,
       "display": null,
       "flex": null,
       "flex_flow": null,
       "grid_area": null,
       "grid_auto_columns": null,
       "grid_auto_flow": null,
       "grid_auto_rows": null,
       "grid_column": null,
       "grid_gap": null,
       "grid_row": null,
       "grid_template_areas": null,
       "grid_template_columns": null,
       "grid_template_rows": null,
       "height": null,
       "justify_content": null,
       "justify_items": null,
       "left": null,
       "margin": null,
       "max_height": null,
       "max_width": null,
       "min_height": null,
       "min_width": null,
       "object_fit": null,
       "object_position": null,
       "order": null,
       "overflow": null,
       "overflow_x": null,
       "overflow_y": null,
       "padding": null,
       "right": null,
       "top": null,
       "visibility": null,
       "width": null
      }
     },
     "7218df1fb1df4e7ab2a6e5efe5ddfcf1": {
      "model_module": "@jupyter-widgets/base",
      "model_module_version": "1.2.0",
      "model_name": "LayoutModel",
      "state": {
       "_model_module": "@jupyter-widgets/base",
       "_model_module_version": "1.2.0",
       "_model_name": "LayoutModel",
       "_view_count": null,
       "_view_module": "@jupyter-widgets/base",
       "_view_module_version": "1.2.0",
       "_view_name": "LayoutView",
       "align_content": null,
       "align_items": null,
       "align_self": null,
       "border": null,
       "bottom": null,
       "display": null,
       "flex": null,
       "flex_flow": null,
       "grid_area": null,
       "grid_auto_columns": null,
       "grid_auto_flow": null,
       "grid_auto_rows": null,
       "grid_column": null,
       "grid_gap": null,
       "grid_row": null,
       "grid_template_areas": null,
       "grid_template_columns": null,
       "grid_template_rows": null,
       "height": null,
       "justify_content": null,
       "justify_items": null,
       "left": null,
       "margin": null,
       "max_height": null,
       "max_width": null,
       "min_height": null,
       "min_width": null,
       "object_fit": null,
       "object_position": null,
       "order": null,
       "overflow": null,
       "overflow_x": null,
       "overflow_y": null,
       "padding": null,
       "right": null,
       "top": null,
       "visibility": null,
       "width": null
      }
     },
     "725161b3a4754bd98964e847eb9874fe": {
      "model_module": "@jupyter-widgets/controls",
      "model_module_version": "1.5.0",
      "model_name": "HTMLModel",
      "state": {
       "_dom_classes": [],
       "_model_module": "@jupyter-widgets/controls",
       "_model_module_version": "1.5.0",
       "_model_name": "HTMLModel",
       "_view_count": null,
       "_view_module": "@jupyter-widgets/controls",
       "_view_module_version": "1.5.0",
       "_view_name": "HTMLView",
       "description": "",
       "description_tooltip": null,
       "layout": "IPY_MODEL_455a634e6bdb4b36aea772340a01e063",
       "placeholder": "​",
       "style": "IPY_MODEL_dde03b9afd8c4d2082c9f6b9ac642c06",
       "value": "100%"
      }
     },
     "72a4452f207e4d31ad90e72202c85c3a": {
      "model_module": "@jupyter-widgets/base",
      "model_module_version": "1.2.0",
      "model_name": "LayoutModel",
      "state": {
       "_model_module": "@jupyter-widgets/base",
       "_model_module_version": "1.2.0",
       "_model_name": "LayoutModel",
       "_view_count": null,
       "_view_module": "@jupyter-widgets/base",
       "_view_module_version": "1.2.0",
       "_view_name": "LayoutView",
       "align_content": null,
       "align_items": null,
       "align_self": null,
       "border": null,
       "bottom": null,
       "display": null,
       "flex": null,
       "flex_flow": null,
       "grid_area": null,
       "grid_auto_columns": null,
       "grid_auto_flow": null,
       "grid_auto_rows": null,
       "grid_column": null,
       "grid_gap": null,
       "grid_row": null,
       "grid_template_areas": null,
       "grid_template_columns": null,
       "grid_template_rows": null,
       "height": null,
       "justify_content": null,
       "justify_items": null,
       "left": null,
       "margin": null,
       "max_height": null,
       "max_width": null,
       "min_height": null,
       "min_width": null,
       "object_fit": null,
       "object_position": null,
       "order": null,
       "overflow": null,
       "overflow_x": null,
       "overflow_y": null,
       "padding": null,
       "right": null,
       "top": null,
       "visibility": null,
       "width": null
      }
     },
     "745b967f8dff49708fb363bd4b9f74fb": {
      "model_module": "@jupyter-widgets/controls",
      "model_module_version": "1.5.0",
      "model_name": "HTMLModel",
      "state": {
       "_dom_classes": [],
       "_model_module": "@jupyter-widgets/controls",
       "_model_module_version": "1.5.0",
       "_model_name": "HTMLModel",
       "_view_count": null,
       "_view_module": "@jupyter-widgets/controls",
       "_view_module_version": "1.5.0",
       "_view_name": "HTMLView",
       "description": "",
       "description_tooltip": null,
       "layout": "IPY_MODEL_ea61c3afa5504d488a04710f9370cecd",
       "placeholder": "​",
       "style": "IPY_MODEL_fd42cccc2cc644e1bd3239ca923dc60d",
       "value": " 10/10 [00:01&lt;00:00,  4.73it/s]"
      }
     },
     "80b58c48cfbd47b786e5940e646513a0": {
      "model_module": "@jupyter-widgets/controls",
      "model_module_version": "1.5.0",
      "model_name": "HTMLModel",
      "state": {
       "_dom_classes": [],
       "_model_module": "@jupyter-widgets/controls",
       "_model_module_version": "1.5.0",
       "_model_name": "HTMLModel",
       "_view_count": null,
       "_view_module": "@jupyter-widgets/controls",
       "_view_module_version": "1.5.0",
       "_view_name": "HTMLView",
       "description": "",
       "description_tooltip": null,
       "layout": "IPY_MODEL_513ef1f0605a44e6b26819bdb5228ac3",
       "placeholder": "​",
       "style": "IPY_MODEL_0b0f2e2f7e78421faf29880dcdb7fe21",
       "value": " 6807/6807 [00:08&lt;00:00, 889.45it/s]"
      }
     },
     "8219248aab8c48cc953bbaecca4d6d08": {
      "model_module": "@jupyter-widgets/base",
      "model_module_version": "1.2.0",
      "model_name": "LayoutModel",
      "state": {
       "_model_module": "@jupyter-widgets/base",
       "_model_module_version": "1.2.0",
       "_model_name": "LayoutModel",
       "_view_count": null,
       "_view_module": "@jupyter-widgets/base",
       "_view_module_version": "1.2.0",
       "_view_name": "LayoutView",
       "align_content": null,
       "align_items": null,
       "align_self": null,
       "border": null,
       "bottom": null,
       "display": null,
       "flex": null,
       "flex_flow": null,
       "grid_area": null,
       "grid_auto_columns": null,
       "grid_auto_flow": null,
       "grid_auto_rows": null,
       "grid_column": null,
       "grid_gap": null,
       "grid_row": null,
       "grid_template_areas": null,
       "grid_template_columns": null,
       "grid_template_rows": null,
       "height": null,
       "justify_content": null,
       "justify_items": null,
       "left": null,
       "margin": null,
       "max_height": null,
       "max_width": null,
       "min_height": null,
       "min_width": null,
       "object_fit": null,
       "object_position": null,
       "order": null,
       "overflow": null,
       "overflow_x": null,
       "overflow_y": null,
       "padding": null,
       "right": null,
       "top": null,
       "visibility": null,
       "width": null
      }
     },
     "822f060fde604e27ac5f5ee1f3878d62": {
      "model_module": "@jupyter-widgets/controls",
      "model_module_version": "1.5.0",
      "model_name": "HBoxModel",
      "state": {
       "_dom_classes": [],
       "_model_module": "@jupyter-widgets/controls",
       "_model_module_version": "1.5.0",
       "_model_name": "HBoxModel",
       "_view_count": null,
       "_view_module": "@jupyter-widgets/controls",
       "_view_module_version": "1.5.0",
       "_view_name": "HBoxView",
       "box_style": "",
       "children": [
        "IPY_MODEL_4bd971614ed2443880339182a060bb65",
        "IPY_MODEL_1028bd986dc84808bc3f0ff6281c66b1",
        "IPY_MODEL_3c741b82a0eb4674bbfe9882ae49575b"
       ],
       "layout": "IPY_MODEL_8219248aab8c48cc953bbaecca4d6d08"
      }
     },
     "8b02c0c4dfac42df8bf466bede5e0102": {
      "model_module": "@jupyter-widgets/controls",
      "model_module_version": "1.5.0",
      "model_name": "DescriptionStyleModel",
      "state": {
       "_model_module": "@jupyter-widgets/controls",
       "_model_module_version": "1.5.0",
       "_model_name": "DescriptionStyleModel",
       "_view_count": null,
       "_view_module": "@jupyter-widgets/base",
       "_view_module_version": "1.2.0",
       "_view_name": "StyleView",
       "description_width": ""
      }
     },
     "8b294469d48e48f584bc9139c5b0c872": {
      "model_module": "@jupyter-widgets/base",
      "model_module_version": "1.2.0",
      "model_name": "LayoutModel",
      "state": {
       "_model_module": "@jupyter-widgets/base",
       "_model_module_version": "1.2.0",
       "_model_name": "LayoutModel",
       "_view_count": null,
       "_view_module": "@jupyter-widgets/base",
       "_view_module_version": "1.2.0",
       "_view_name": "LayoutView",
       "align_content": null,
       "align_items": null,
       "align_self": null,
       "border": null,
       "bottom": null,
       "display": null,
       "flex": null,
       "flex_flow": null,
       "grid_area": null,
       "grid_auto_columns": null,
       "grid_auto_flow": null,
       "grid_auto_rows": null,
       "grid_column": null,
       "grid_gap": null,
       "grid_row": null,
       "grid_template_areas": null,
       "grid_template_columns": null,
       "grid_template_rows": null,
       "height": null,
       "justify_content": null,
       "justify_items": null,
       "left": null,
       "margin": null,
       "max_height": null,
       "max_width": null,
       "min_height": null,
       "min_width": null,
       "object_fit": null,
       "object_position": null,
       "order": null,
       "overflow": null,
       "overflow_x": null,
       "overflow_y": null,
       "padding": null,
       "right": null,
       "top": null,
       "visibility": null,
       "width": null
      }
     },
     "94f86268de6848ce825d1dec68a46ab6": {
      "model_module": "@jupyter-widgets/controls",
      "model_module_version": "1.5.0",
      "model_name": "ProgressStyleModel",
      "state": {
       "_model_module": "@jupyter-widgets/controls",
       "_model_module_version": "1.5.0",
       "_model_name": "ProgressStyleModel",
       "_view_count": null,
       "_view_module": "@jupyter-widgets/base",
       "_view_module_version": "1.2.0",
       "_view_name": "StyleView",
       "bar_color": null,
       "description_width": ""
      }
     },
     "9bb06fe809054130a1c459908a09f279": {
      "model_module": "@jupyter-widgets/controls",
      "model_module_version": "1.5.0",
      "model_name": "DescriptionStyleModel",
      "state": {
       "_model_module": "@jupyter-widgets/controls",
       "_model_module_version": "1.5.0",
       "_model_name": "DescriptionStyleModel",
       "_view_count": null,
       "_view_module": "@jupyter-widgets/base",
       "_view_module_version": "1.2.0",
       "_view_name": "StyleView",
       "description_width": ""
      }
     },
     "9f99094e945940df85755a3fa1d97a59": {
      "model_module": "@jupyter-widgets/base",
      "model_module_version": "1.2.0",
      "model_name": "LayoutModel",
      "state": {
       "_model_module": "@jupyter-widgets/base",
       "_model_module_version": "1.2.0",
       "_model_name": "LayoutModel",
       "_view_count": null,
       "_view_module": "@jupyter-widgets/base",
       "_view_module_version": "1.2.0",
       "_view_name": "LayoutView",
       "align_content": null,
       "align_items": null,
       "align_self": null,
       "border": null,
       "bottom": null,
       "display": null,
       "flex": null,
       "flex_flow": null,
       "grid_area": null,
       "grid_auto_columns": null,
       "grid_auto_flow": null,
       "grid_auto_rows": null,
       "grid_column": null,
       "grid_gap": null,
       "grid_row": null,
       "grid_template_areas": null,
       "grid_template_columns": null,
       "grid_template_rows": null,
       "height": null,
       "justify_content": null,
       "justify_items": null,
       "left": null,
       "margin": null,
       "max_height": null,
       "max_width": null,
       "min_height": null,
       "min_width": null,
       "object_fit": null,
       "object_position": null,
       "order": null,
       "overflow": null,
       "overflow_x": null,
       "overflow_y": null,
       "padding": null,
       "right": null,
       "top": null,
       "visibility": null,
       "width": null
      }
     },
     "a4e29f6bea0c47a3a7d2b69d7f31e495": {
      "model_module": "@jupyter-widgets/base",
      "model_module_version": "1.2.0",
      "model_name": "LayoutModel",
      "state": {
       "_model_module": "@jupyter-widgets/base",
       "_model_module_version": "1.2.0",
       "_model_name": "LayoutModel",
       "_view_count": null,
       "_view_module": "@jupyter-widgets/base",
       "_view_module_version": "1.2.0",
       "_view_name": "LayoutView",
       "align_content": null,
       "align_items": null,
       "align_self": null,
       "border": null,
       "bottom": null,
       "display": null,
       "flex": null,
       "flex_flow": null,
       "grid_area": null,
       "grid_auto_columns": null,
       "grid_auto_flow": null,
       "grid_auto_rows": null,
       "grid_column": null,
       "grid_gap": null,
       "grid_row": null,
       "grid_template_areas": null,
       "grid_template_columns": null,
       "grid_template_rows": null,
       "height": null,
       "justify_content": null,
       "justify_items": null,
       "left": null,
       "margin": null,
       "max_height": null,
       "max_width": null,
       "min_height": null,
       "min_width": null,
       "object_fit": null,
       "object_position": null,
       "order": null,
       "overflow": null,
       "overflow_x": null,
       "overflow_y": null,
       "padding": null,
       "right": null,
       "top": null,
       "visibility": null,
       "width": null
      }
     },
     "ae2b6cc17e0941d4b19c6c41663e4c7e": {
      "model_module": "@jupyter-widgets/controls",
      "model_module_version": "1.5.0",
      "model_name": "HBoxModel",
      "state": {
       "_dom_classes": [],
       "_model_module": "@jupyter-widgets/controls",
       "_model_module_version": "1.5.0",
       "_model_name": "HBoxModel",
       "_view_count": null,
       "_view_module": "@jupyter-widgets/controls",
       "_view_module_version": "1.5.0",
       "_view_name": "HBoxView",
       "box_style": "",
       "children": [
        "IPY_MODEL_1a142aec53594809ac3f4dae71642ca6",
        "IPY_MODEL_e19f0dc060344569a2b532dd106f9e70",
        "IPY_MODEL_745b967f8dff49708fb363bd4b9f74fb"
       ],
       "layout": "IPY_MODEL_3dc91751b657466eaa13400b7a95f256"
      }
     },
     "b171cff0917249cd961fb45311d9813d": {
      "model_module": "@jupyter-widgets/base",
      "model_module_version": "1.2.0",
      "model_name": "LayoutModel",
      "state": {
       "_model_module": "@jupyter-widgets/base",
       "_model_module_version": "1.2.0",
       "_model_name": "LayoutModel",
       "_view_count": null,
       "_view_module": "@jupyter-widgets/base",
       "_view_module_version": "1.2.0",
       "_view_name": "LayoutView",
       "align_content": null,
       "align_items": null,
       "align_self": null,
       "border": null,
       "bottom": null,
       "display": null,
       "flex": null,
       "flex_flow": null,
       "grid_area": null,
       "grid_auto_columns": null,
       "grid_auto_flow": null,
       "grid_auto_rows": null,
       "grid_column": null,
       "grid_gap": null,
       "grid_row": null,
       "grid_template_areas": null,
       "grid_template_columns": null,
       "grid_template_rows": null,
       "height": null,
       "justify_content": null,
       "justify_items": null,
       "left": null,
       "margin": null,
       "max_height": null,
       "max_width": null,
       "min_height": null,
       "min_width": null,
       "object_fit": null,
       "object_position": null,
       "order": null,
       "overflow": null,
       "overflow_x": null,
       "overflow_y": null,
       "padding": null,
       "right": null,
       "top": null,
       "visibility": null,
       "width": null
      }
     },
     "b4aef989e3c04b9492b488be53d98921": {
      "model_module": "@jupyter-widgets/base",
      "model_module_version": "1.2.0",
      "model_name": "LayoutModel",
      "state": {
       "_model_module": "@jupyter-widgets/base",
       "_model_module_version": "1.2.0",
       "_model_name": "LayoutModel",
       "_view_count": null,
       "_view_module": "@jupyter-widgets/base",
       "_view_module_version": "1.2.0",
       "_view_name": "LayoutView",
       "align_content": null,
       "align_items": null,
       "align_self": null,
       "border": null,
       "bottom": null,
       "display": null,
       "flex": null,
       "flex_flow": null,
       "grid_area": null,
       "grid_auto_columns": null,
       "grid_auto_flow": null,
       "grid_auto_rows": null,
       "grid_column": null,
       "grid_gap": null,
       "grid_row": null,
       "grid_template_areas": null,
       "grid_template_columns": null,
       "grid_template_rows": null,
       "height": null,
       "justify_content": null,
       "justify_items": null,
       "left": null,
       "margin": null,
       "max_height": null,
       "max_width": null,
       "min_height": null,
       "min_width": null,
       "object_fit": null,
       "object_position": null,
       "order": null,
       "overflow": null,
       "overflow_x": null,
       "overflow_y": null,
       "padding": null,
       "right": null,
       "top": null,
       "visibility": null,
       "width": null
      }
     },
     "cc966f76f8994f0cb887416864e8bce2": {
      "model_module": "@jupyter-widgets/controls",
      "model_module_version": "1.5.0",
      "model_name": "FloatProgressModel",
      "state": {
       "_dom_classes": [],
       "_model_module": "@jupyter-widgets/controls",
       "_model_module_version": "1.5.0",
       "_model_name": "FloatProgressModel",
       "_view_count": null,
       "_view_module": "@jupyter-widgets/controls",
       "_view_module_version": "1.5.0",
       "_view_name": "ProgressView",
       "bar_style": "success",
       "description": "",
       "description_tooltip": null,
       "layout": "IPY_MODEL_6e31267784b948cc9914b11bb6bdfe8d",
       "max": 10.0,
       "min": 0.0,
       "orientation": "horizontal",
       "style": "IPY_MODEL_da1369f1c2034168baf0e615292f35eb",
       "value": 10.0
      }
     },
     "da1369f1c2034168baf0e615292f35eb": {
      "model_module": "@jupyter-widgets/controls",
      "model_module_version": "1.5.0",
      "model_name": "ProgressStyleModel",
      "state": {
       "_model_module": "@jupyter-widgets/controls",
       "_model_module_version": "1.5.0",
       "_model_name": "ProgressStyleModel",
       "_view_count": null,
       "_view_module": "@jupyter-widgets/base",
       "_view_module_version": "1.2.0",
       "_view_name": "StyleView",
       "bar_color": null,
       "description_width": ""
      }
     },
     "dde03b9afd8c4d2082c9f6b9ac642c06": {
      "model_module": "@jupyter-widgets/controls",
      "model_module_version": "1.5.0",
      "model_name": "DescriptionStyleModel",
      "state": {
       "_model_module": "@jupyter-widgets/controls",
       "_model_module_version": "1.5.0",
       "_model_name": "DescriptionStyleModel",
       "_view_count": null,
       "_view_module": "@jupyter-widgets/base",
       "_view_module_version": "1.2.0",
       "_view_name": "StyleView",
       "description_width": ""
      }
     },
     "deff0f943e3d43d78840dfb38b169b2d": {
      "model_module": "@jupyter-widgets/controls",
      "model_module_version": "1.5.0",
      "model_name": "HBoxModel",
      "state": {
       "_dom_classes": [],
       "_model_module": "@jupyter-widgets/controls",
       "_model_module_version": "1.5.0",
       "_model_name": "HBoxModel",
       "_view_count": null,
       "_view_module": "@jupyter-widgets/controls",
       "_view_module_version": "1.5.0",
       "_view_name": "HBoxView",
       "box_style": "",
       "children": [
        "IPY_MODEL_4262bbce5c8147d2bac9499ad89b108a",
        "IPY_MODEL_cc966f76f8994f0cb887416864e8bce2",
        "IPY_MODEL_66dd4a10bd214f46b299f8c2b55493ac"
       ],
       "layout": "IPY_MODEL_b171cff0917249cd961fb45311d9813d"
      }
     },
     "e19f0dc060344569a2b532dd106f9e70": {
      "model_module": "@jupyter-widgets/controls",
      "model_module_version": "1.5.0",
      "model_name": "FloatProgressModel",
      "state": {
       "_dom_classes": [],
       "_model_module": "@jupyter-widgets/controls",
       "_model_module_version": "1.5.0",
       "_model_name": "FloatProgressModel",
       "_view_count": null,
       "_view_module": "@jupyter-widgets/controls",
       "_view_module_version": "1.5.0",
       "_view_name": "ProgressView",
       "bar_style": "success",
       "description": "",
       "description_tooltip": null,
       "layout": "IPY_MODEL_8b294469d48e48f584bc9139c5b0c872",
       "max": 10.0,
       "min": 0.0,
       "orientation": "horizontal",
       "style": "IPY_MODEL_e594af81799a4a5fb5c16bafe962e48e",
       "value": 10.0
      }
     },
     "e594af81799a4a5fb5c16bafe962e48e": {
      "model_module": "@jupyter-widgets/controls",
      "model_module_version": "1.5.0",
      "model_name": "ProgressStyleModel",
      "state": {
       "_model_module": "@jupyter-widgets/controls",
       "_model_module_version": "1.5.0",
       "_model_name": "ProgressStyleModel",
       "_view_count": null,
       "_view_module": "@jupyter-widgets/base",
       "_view_module_version": "1.2.0",
       "_view_name": "StyleView",
       "bar_color": null,
       "description_width": ""
      }
     },
     "e72dc514830943d884a3e6afbe0255b3": {
      "model_module": "@jupyter-widgets/base",
      "model_module_version": "1.2.0",
      "model_name": "LayoutModel",
      "state": {
       "_model_module": "@jupyter-widgets/base",
       "_model_module_version": "1.2.0",
       "_model_name": "LayoutModel",
       "_view_count": null,
       "_view_module": "@jupyter-widgets/base",
       "_view_module_version": "1.2.0",
       "_view_name": "LayoutView",
       "align_content": null,
       "align_items": null,
       "align_self": null,
       "border": null,
       "bottom": null,
       "display": null,
       "flex": null,
       "flex_flow": null,
       "grid_area": null,
       "grid_auto_columns": null,
       "grid_auto_flow": null,
       "grid_auto_rows": null,
       "grid_column": null,
       "grid_gap": null,
       "grid_row": null,
       "grid_template_areas": null,
       "grid_template_columns": null,
       "grid_template_rows": null,
       "height": null,
       "justify_content": null,
       "justify_items": null,
       "left": null,
       "margin": null,
       "max_height": null,
       "max_width": null,
       "min_height": null,
       "min_width": null,
       "object_fit": null,
       "object_position": null,
       "order": null,
       "overflow": null,
       "overflow_x": null,
       "overflow_y": null,
       "padding": null,
       "right": null,
       "top": null,
       "visibility": null,
       "width": null
      }
     },
     "e858a4ac0a464fba8cc38d5c6706e3f0": {
      "model_module": "@jupyter-widgets/controls",
      "model_module_version": "1.5.0",
      "model_name": "FloatProgressModel",
      "state": {
       "_dom_classes": [],
       "_model_module": "@jupyter-widgets/controls",
       "_model_module_version": "1.5.0",
       "_model_name": "FloatProgressModel",
       "_view_count": null,
       "_view_module": "@jupyter-widgets/controls",
       "_view_module_version": "1.5.0",
       "_view_name": "ProgressView",
       "bar_style": "success",
       "description": "",
       "description_tooltip": null,
       "layout": "IPY_MODEL_a4e29f6bea0c47a3a7d2b69d7f31e495",
       "max": 6807.0,
       "min": 0.0,
       "orientation": "horizontal",
       "style": "IPY_MODEL_4fcfe21fc3354e60b3082fa721f0d7cf",
       "value": 6807.0
      }
     },
     "ea61c3afa5504d488a04710f9370cecd": {
      "model_module": "@jupyter-widgets/base",
      "model_module_version": "1.2.0",
      "model_name": "LayoutModel",
      "state": {
       "_model_module": "@jupyter-widgets/base",
       "_model_module_version": "1.2.0",
       "_model_name": "LayoutModel",
       "_view_count": null,
       "_view_module": "@jupyter-widgets/base",
       "_view_module_version": "1.2.0",
       "_view_name": "LayoutView",
       "align_content": null,
       "align_items": null,
       "align_self": null,
       "border": null,
       "bottom": null,
       "display": null,
       "flex": null,
       "flex_flow": null,
       "grid_area": null,
       "grid_auto_columns": null,
       "grid_auto_flow": null,
       "grid_auto_rows": null,
       "grid_column": null,
       "grid_gap": null,
       "grid_row": null,
       "grid_template_areas": null,
       "grid_template_columns": null,
       "grid_template_rows": null,
       "height": null,
       "justify_content": null,
       "justify_items": null,
       "left": null,
       "margin": null,
       "max_height": null,
       "max_width": null,
       "min_height": null,
       "min_width": null,
       "object_fit": null,
       "object_position": null,
       "order": null,
       "overflow": null,
       "overflow_x": null,
       "overflow_y": null,
       "padding": null,
       "right": null,
       "top": null,
       "visibility": null,
       "width": null
      }
     },
     "f56d018f9f65454c9f55cb014f4f7c64": {
      "model_module": "@jupyter-widgets/controls",
      "model_module_version": "1.5.0",
      "model_name": "DescriptionStyleModel",
      "state": {
       "_model_module": "@jupyter-widgets/controls",
       "_model_module_version": "1.5.0",
       "_model_name": "DescriptionStyleModel",
       "_view_count": null,
       "_view_module": "@jupyter-widgets/base",
       "_view_module_version": "1.2.0",
       "_view_name": "StyleView",
       "description_width": ""
      }
     },
     "fd42cccc2cc644e1bd3239ca923dc60d": {
      "model_module": "@jupyter-widgets/controls",
      "model_module_version": "1.5.0",
      "model_name": "DescriptionStyleModel",
      "state": {
       "_model_module": "@jupyter-widgets/controls",
       "_model_module_version": "1.5.0",
       "_model_name": "DescriptionStyleModel",
       "_view_count": null,
       "_view_module": "@jupyter-widgets/base",
       "_view_module_version": "1.2.0",
       "_view_name": "StyleView",
       "description_width": ""
      }
     }
    },
    "version_major": 2,
    "version_minor": 0
   }
  }
 },
 "nbformat": 4,
 "nbformat_minor": 5
}
